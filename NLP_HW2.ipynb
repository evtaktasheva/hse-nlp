{
  "nbformat": 4,
  "nbformat_minor": 0,
  "metadata": {
    "colab": {
      "name": "NLP HW2",
      "provenance": [],
      "collapsed_sections": [],
      "authorship_tag": "ABX9TyPx6ZghqarntjKRWDmYEzCq",
      "include_colab_link": true
    },
    "kernelspec": {
      "display_name": "Python 3",
      "name": "python3"
    },
    "language_info": {
      "name": "python"
    },
    "widgets": {
      "application/vnd.jupyter.widget-state+json": {
        "ac8688003ddc42ebb2b6734c7924f67f": {
          "model_module": "@jupyter-widgets/controls",
          "model_name": "HBoxModel",
          "model_module_version": "1.5.0",
          "state": {
            "_view_name": "HBoxView",
            "_dom_classes": [],
            "_model_name": "HBoxModel",
            "_view_module": "@jupyter-widgets/controls",
            "_model_module_version": "1.5.0",
            "_view_count": null,
            "_view_module_version": "1.5.0",
            "box_style": "",
            "layout": "IPY_MODEL_493a6e170ea4487c807787e6f7abad98",
            "_model_module": "@jupyter-widgets/controls",
            "children": [
              "IPY_MODEL_6dad7bd845b9439bb1b303919bab0cd0",
              "IPY_MODEL_cd11f8fb7bf7468794fd2af81f6d4d23",
              "IPY_MODEL_53fc5a05526d46f8b7e8d070a8c340e1"
            ]
          }
        },
        "493a6e170ea4487c807787e6f7abad98": {
          "model_module": "@jupyter-widgets/base",
          "model_name": "LayoutModel",
          "model_module_version": "1.2.0",
          "state": {
            "_view_name": "LayoutView",
            "grid_template_rows": null,
            "right": null,
            "justify_content": null,
            "_view_module": "@jupyter-widgets/base",
            "overflow": null,
            "_model_module_version": "1.2.0",
            "_view_count": null,
            "flex_flow": null,
            "width": null,
            "min_width": null,
            "border": null,
            "align_items": null,
            "bottom": null,
            "_model_module": "@jupyter-widgets/base",
            "top": null,
            "grid_column": null,
            "overflow_y": null,
            "overflow_x": null,
            "grid_auto_flow": null,
            "grid_area": null,
            "grid_template_columns": null,
            "flex": null,
            "_model_name": "LayoutModel",
            "justify_items": null,
            "grid_row": null,
            "max_height": null,
            "align_content": null,
            "visibility": null,
            "align_self": null,
            "height": null,
            "min_height": null,
            "padding": null,
            "grid_auto_rows": null,
            "grid_gap": null,
            "max_width": null,
            "order": null,
            "_view_module_version": "1.2.0",
            "grid_template_areas": null,
            "object_position": null,
            "object_fit": null,
            "grid_auto_columns": null,
            "margin": null,
            "display": null,
            "left": null
          }
        },
        "6dad7bd845b9439bb1b303919bab0cd0": {
          "model_module": "@jupyter-widgets/controls",
          "model_name": "HTMLModel",
          "model_module_version": "1.5.0",
          "state": {
            "_view_name": "HTMLView",
            "style": "IPY_MODEL_f0775eeba389475b8016b9de8a3b5f66",
            "_dom_classes": [],
            "description": "",
            "_model_name": "HTMLModel",
            "placeholder": "​",
            "_view_module": "@jupyter-widgets/controls",
            "_model_module_version": "1.5.0",
            "value": "100%",
            "_view_count": null,
            "_view_module_version": "1.5.0",
            "description_tooltip": null,
            "_model_module": "@jupyter-widgets/controls",
            "layout": "IPY_MODEL_b7f657f9d4f24d2d86514e0e5087692a"
          }
        },
        "cd11f8fb7bf7468794fd2af81f6d4d23": {
          "model_module": "@jupyter-widgets/controls",
          "model_name": "FloatProgressModel",
          "model_module_version": "1.5.0",
          "state": {
            "_view_name": "ProgressView",
            "style": "IPY_MODEL_336c6bdee5a241d9ad74bbb9b6071427",
            "_dom_classes": [],
            "description": "",
            "_model_name": "FloatProgressModel",
            "bar_style": "success",
            "max": 10261,
            "_view_module": "@jupyter-widgets/controls",
            "_model_module_version": "1.5.0",
            "value": 10261,
            "_view_count": null,
            "_view_module_version": "1.5.0",
            "orientation": "horizontal",
            "min": 0,
            "description_tooltip": null,
            "_model_module": "@jupyter-widgets/controls",
            "layout": "IPY_MODEL_def0e3bec37c4aac8aca38ff58f16e1f"
          }
        },
        "53fc5a05526d46f8b7e8d070a8c340e1": {
          "model_module": "@jupyter-widgets/controls",
          "model_name": "HTMLModel",
          "model_module_version": "1.5.0",
          "state": {
            "_view_name": "HTMLView",
            "style": "IPY_MODEL_ac41cd7a491041159e0221f7a91b4c07",
            "_dom_classes": [],
            "description": "",
            "_model_name": "HTMLModel",
            "placeholder": "​",
            "_view_module": "@jupyter-widgets/controls",
            "_model_module_version": "1.5.0",
            "value": " 10261/10261 [04:13&lt;00:00, 25.98it/s]",
            "_view_count": null,
            "_view_module_version": "1.5.0",
            "description_tooltip": null,
            "_model_module": "@jupyter-widgets/controls",
            "layout": "IPY_MODEL_8ef3748884104d7bb473b60e1d1778f9"
          }
        },
        "f0775eeba389475b8016b9de8a3b5f66": {
          "model_module": "@jupyter-widgets/controls",
          "model_name": "DescriptionStyleModel",
          "model_module_version": "1.5.0",
          "state": {
            "_view_name": "StyleView",
            "_model_name": "DescriptionStyleModel",
            "description_width": "",
            "_view_module": "@jupyter-widgets/base",
            "_model_module_version": "1.5.0",
            "_view_count": null,
            "_view_module_version": "1.2.0",
            "_model_module": "@jupyter-widgets/controls"
          }
        },
        "b7f657f9d4f24d2d86514e0e5087692a": {
          "model_module": "@jupyter-widgets/base",
          "model_name": "LayoutModel",
          "model_module_version": "1.2.0",
          "state": {
            "_view_name": "LayoutView",
            "grid_template_rows": null,
            "right": null,
            "justify_content": null,
            "_view_module": "@jupyter-widgets/base",
            "overflow": null,
            "_model_module_version": "1.2.0",
            "_view_count": null,
            "flex_flow": null,
            "width": null,
            "min_width": null,
            "border": null,
            "align_items": null,
            "bottom": null,
            "_model_module": "@jupyter-widgets/base",
            "top": null,
            "grid_column": null,
            "overflow_y": null,
            "overflow_x": null,
            "grid_auto_flow": null,
            "grid_area": null,
            "grid_template_columns": null,
            "flex": null,
            "_model_name": "LayoutModel",
            "justify_items": null,
            "grid_row": null,
            "max_height": null,
            "align_content": null,
            "visibility": null,
            "align_self": null,
            "height": null,
            "min_height": null,
            "padding": null,
            "grid_auto_rows": null,
            "grid_gap": null,
            "max_width": null,
            "order": null,
            "_view_module_version": "1.2.0",
            "grid_template_areas": null,
            "object_position": null,
            "object_fit": null,
            "grid_auto_columns": null,
            "margin": null,
            "display": null,
            "left": null
          }
        },
        "336c6bdee5a241d9ad74bbb9b6071427": {
          "model_module": "@jupyter-widgets/controls",
          "model_name": "ProgressStyleModel",
          "model_module_version": "1.5.0",
          "state": {
            "_view_name": "StyleView",
            "_model_name": "ProgressStyleModel",
            "description_width": "",
            "_view_module": "@jupyter-widgets/base",
            "_model_module_version": "1.5.0",
            "_view_count": null,
            "_view_module_version": "1.2.0",
            "bar_color": null,
            "_model_module": "@jupyter-widgets/controls"
          }
        },
        "def0e3bec37c4aac8aca38ff58f16e1f": {
          "model_module": "@jupyter-widgets/base",
          "model_name": "LayoutModel",
          "model_module_version": "1.2.0",
          "state": {
            "_view_name": "LayoutView",
            "grid_template_rows": null,
            "right": null,
            "justify_content": null,
            "_view_module": "@jupyter-widgets/base",
            "overflow": null,
            "_model_module_version": "1.2.0",
            "_view_count": null,
            "flex_flow": null,
            "width": null,
            "min_width": null,
            "border": null,
            "align_items": null,
            "bottom": null,
            "_model_module": "@jupyter-widgets/base",
            "top": null,
            "grid_column": null,
            "overflow_y": null,
            "overflow_x": null,
            "grid_auto_flow": null,
            "grid_area": null,
            "grid_template_columns": null,
            "flex": null,
            "_model_name": "LayoutModel",
            "justify_items": null,
            "grid_row": null,
            "max_height": null,
            "align_content": null,
            "visibility": null,
            "align_self": null,
            "height": null,
            "min_height": null,
            "padding": null,
            "grid_auto_rows": null,
            "grid_gap": null,
            "max_width": null,
            "order": null,
            "_view_module_version": "1.2.0",
            "grid_template_areas": null,
            "object_position": null,
            "object_fit": null,
            "grid_auto_columns": null,
            "margin": null,
            "display": null,
            "left": null
          }
        },
        "ac41cd7a491041159e0221f7a91b4c07": {
          "model_module": "@jupyter-widgets/controls",
          "model_name": "DescriptionStyleModel",
          "model_module_version": "1.5.0",
          "state": {
            "_view_name": "StyleView",
            "_model_name": "DescriptionStyleModel",
            "description_width": "",
            "_view_module": "@jupyter-widgets/base",
            "_model_module_version": "1.5.0",
            "_view_count": null,
            "_view_module_version": "1.2.0",
            "_model_module": "@jupyter-widgets/controls"
          }
        },
        "8ef3748884104d7bb473b60e1d1778f9": {
          "model_module": "@jupyter-widgets/base",
          "model_name": "LayoutModel",
          "model_module_version": "1.2.0",
          "state": {
            "_view_name": "LayoutView",
            "grid_template_rows": null,
            "right": null,
            "justify_content": null,
            "_view_module": "@jupyter-widgets/base",
            "overflow": null,
            "_model_module_version": "1.2.0",
            "_view_count": null,
            "flex_flow": null,
            "width": null,
            "min_width": null,
            "border": null,
            "align_items": null,
            "bottom": null,
            "_model_module": "@jupyter-widgets/base",
            "top": null,
            "grid_column": null,
            "overflow_y": null,
            "overflow_x": null,
            "grid_auto_flow": null,
            "grid_area": null,
            "grid_template_columns": null,
            "flex": null,
            "_model_name": "LayoutModel",
            "justify_items": null,
            "grid_row": null,
            "max_height": null,
            "align_content": null,
            "visibility": null,
            "align_self": null,
            "height": null,
            "min_height": null,
            "padding": null,
            "grid_auto_rows": null,
            "grid_gap": null,
            "max_width": null,
            "order": null,
            "_view_module_version": "1.2.0",
            "grid_template_areas": null,
            "object_position": null,
            "object_fit": null,
            "grid_auto_columns": null,
            "margin": null,
            "display": null,
            "left": null
          }
        },
        "2da1677f6c4d47e381070fd4f8454819": {
          "model_module": "@jupyter-widgets/controls",
          "model_name": "HBoxModel",
          "model_module_version": "1.5.0",
          "state": {
            "_view_name": "HBoxView",
            "_dom_classes": [],
            "_model_name": "HBoxModel",
            "_view_module": "@jupyter-widgets/controls",
            "_model_module_version": "1.5.0",
            "_view_count": null,
            "_view_module_version": "1.5.0",
            "box_style": "",
            "layout": "IPY_MODEL_9f287ec0907740d684c0d02e9c929fda",
            "_model_module": "@jupyter-widgets/controls",
            "children": [
              "IPY_MODEL_051dbc310f06415386a969791ab4d594",
              "IPY_MODEL_5d92841219904242b7de408646c71bd8",
              "IPY_MODEL_cde3f2aeec5b4c26a83f1030d605d284"
            ]
          }
        },
        "9f287ec0907740d684c0d02e9c929fda": {
          "model_module": "@jupyter-widgets/base",
          "model_name": "LayoutModel",
          "model_module_version": "1.2.0",
          "state": {
            "_view_name": "LayoutView",
            "grid_template_rows": null,
            "right": null,
            "justify_content": null,
            "_view_module": "@jupyter-widgets/base",
            "overflow": null,
            "_model_module_version": "1.2.0",
            "_view_count": null,
            "flex_flow": null,
            "width": null,
            "min_width": null,
            "border": null,
            "align_items": null,
            "bottom": null,
            "_model_module": "@jupyter-widgets/base",
            "top": null,
            "grid_column": null,
            "overflow_y": null,
            "overflow_x": null,
            "grid_auto_flow": null,
            "grid_area": null,
            "grid_template_columns": null,
            "flex": null,
            "_model_name": "LayoutModel",
            "justify_items": null,
            "grid_row": null,
            "max_height": null,
            "align_content": null,
            "visibility": null,
            "align_self": null,
            "height": null,
            "min_height": null,
            "padding": null,
            "grid_auto_rows": null,
            "grid_gap": null,
            "max_width": null,
            "order": null,
            "_view_module_version": "1.2.0",
            "grid_template_areas": null,
            "object_position": null,
            "object_fit": null,
            "grid_auto_columns": null,
            "margin": null,
            "display": null,
            "left": null
          }
        },
        "051dbc310f06415386a969791ab4d594": {
          "model_module": "@jupyter-widgets/controls",
          "model_name": "HTMLModel",
          "model_module_version": "1.5.0",
          "state": {
            "_view_name": "HTMLView",
            "style": "IPY_MODEL_f4ee555ce9fc45aaae5b00bff568b30f",
            "_dom_classes": [],
            "description": "",
            "_model_name": "HTMLModel",
            "placeholder": "​",
            "_view_module": "@jupyter-widgets/controls",
            "_model_module_version": "1.5.0",
            "value": "100%",
            "_view_count": null,
            "_view_module_version": "1.5.0",
            "description_tooltip": null,
            "_model_module": "@jupyter-widgets/controls",
            "layout": "IPY_MODEL_7263dfd7139949d6b35a65ac9279e799"
          }
        },
        "5d92841219904242b7de408646c71bd8": {
          "model_module": "@jupyter-widgets/controls",
          "model_name": "FloatProgressModel",
          "model_module_version": "1.5.0",
          "state": {
            "_view_name": "ProgressView",
            "style": "IPY_MODEL_c7b22fc6eaf34842b121a4d936c3e8e5",
            "_dom_classes": [],
            "description": "",
            "_model_name": "FloatProgressModel",
            "bar_style": "success",
            "max": 10261,
            "_view_module": "@jupyter-widgets/controls",
            "_model_module_version": "1.5.0",
            "value": 10261,
            "_view_count": null,
            "_view_module_version": "1.5.0",
            "orientation": "horizontal",
            "min": 0,
            "description_tooltip": null,
            "_model_module": "@jupyter-widgets/controls",
            "layout": "IPY_MODEL_485b75d8eb4c4bb3bef47f67cc67e518"
          }
        },
        "cde3f2aeec5b4c26a83f1030d605d284": {
          "model_module": "@jupyter-widgets/controls",
          "model_name": "HTMLModel",
          "model_module_version": "1.5.0",
          "state": {
            "_view_name": "HTMLView",
            "style": "IPY_MODEL_40b02f31252a4a59b2d1d749d30e14ee",
            "_dom_classes": [],
            "description": "",
            "_model_name": "HTMLModel",
            "placeholder": "​",
            "_view_module": "@jupyter-widgets/controls",
            "_model_module_version": "1.5.0",
            "value": " 10261/10261 [03:51&lt;00:00, 27.61it/s]",
            "_view_count": null,
            "_view_module_version": "1.5.0",
            "description_tooltip": null,
            "_model_module": "@jupyter-widgets/controls",
            "layout": "IPY_MODEL_397edd917af94e7da5221ab37620acde"
          }
        },
        "f4ee555ce9fc45aaae5b00bff568b30f": {
          "model_module": "@jupyter-widgets/controls",
          "model_name": "DescriptionStyleModel",
          "model_module_version": "1.5.0",
          "state": {
            "_view_name": "StyleView",
            "_model_name": "DescriptionStyleModel",
            "description_width": "",
            "_view_module": "@jupyter-widgets/base",
            "_model_module_version": "1.5.0",
            "_view_count": null,
            "_view_module_version": "1.2.0",
            "_model_module": "@jupyter-widgets/controls"
          }
        },
        "7263dfd7139949d6b35a65ac9279e799": {
          "model_module": "@jupyter-widgets/base",
          "model_name": "LayoutModel",
          "model_module_version": "1.2.0",
          "state": {
            "_view_name": "LayoutView",
            "grid_template_rows": null,
            "right": null,
            "justify_content": null,
            "_view_module": "@jupyter-widgets/base",
            "overflow": null,
            "_model_module_version": "1.2.0",
            "_view_count": null,
            "flex_flow": null,
            "width": null,
            "min_width": null,
            "border": null,
            "align_items": null,
            "bottom": null,
            "_model_module": "@jupyter-widgets/base",
            "top": null,
            "grid_column": null,
            "overflow_y": null,
            "overflow_x": null,
            "grid_auto_flow": null,
            "grid_area": null,
            "grid_template_columns": null,
            "flex": null,
            "_model_name": "LayoutModel",
            "justify_items": null,
            "grid_row": null,
            "max_height": null,
            "align_content": null,
            "visibility": null,
            "align_self": null,
            "height": null,
            "min_height": null,
            "padding": null,
            "grid_auto_rows": null,
            "grid_gap": null,
            "max_width": null,
            "order": null,
            "_view_module_version": "1.2.0",
            "grid_template_areas": null,
            "object_position": null,
            "object_fit": null,
            "grid_auto_columns": null,
            "margin": null,
            "display": null,
            "left": null
          }
        },
        "c7b22fc6eaf34842b121a4d936c3e8e5": {
          "model_module": "@jupyter-widgets/controls",
          "model_name": "ProgressStyleModel",
          "model_module_version": "1.5.0",
          "state": {
            "_view_name": "StyleView",
            "_model_name": "ProgressStyleModel",
            "description_width": "",
            "_view_module": "@jupyter-widgets/base",
            "_model_module_version": "1.5.0",
            "_view_count": null,
            "_view_module_version": "1.2.0",
            "bar_color": null,
            "_model_module": "@jupyter-widgets/controls"
          }
        },
        "485b75d8eb4c4bb3bef47f67cc67e518": {
          "model_module": "@jupyter-widgets/base",
          "model_name": "LayoutModel",
          "model_module_version": "1.2.0",
          "state": {
            "_view_name": "LayoutView",
            "grid_template_rows": null,
            "right": null,
            "justify_content": null,
            "_view_module": "@jupyter-widgets/base",
            "overflow": null,
            "_model_module_version": "1.2.0",
            "_view_count": null,
            "flex_flow": null,
            "width": null,
            "min_width": null,
            "border": null,
            "align_items": null,
            "bottom": null,
            "_model_module": "@jupyter-widgets/base",
            "top": null,
            "grid_column": null,
            "overflow_y": null,
            "overflow_x": null,
            "grid_auto_flow": null,
            "grid_area": null,
            "grid_template_columns": null,
            "flex": null,
            "_model_name": "LayoutModel",
            "justify_items": null,
            "grid_row": null,
            "max_height": null,
            "align_content": null,
            "visibility": null,
            "align_self": null,
            "height": null,
            "min_height": null,
            "padding": null,
            "grid_auto_rows": null,
            "grid_gap": null,
            "max_width": null,
            "order": null,
            "_view_module_version": "1.2.0",
            "grid_template_areas": null,
            "object_position": null,
            "object_fit": null,
            "grid_auto_columns": null,
            "margin": null,
            "display": null,
            "left": null
          }
        },
        "40b02f31252a4a59b2d1d749d30e14ee": {
          "model_module": "@jupyter-widgets/controls",
          "model_name": "DescriptionStyleModel",
          "model_module_version": "1.5.0",
          "state": {
            "_view_name": "StyleView",
            "_model_name": "DescriptionStyleModel",
            "description_width": "",
            "_view_module": "@jupyter-widgets/base",
            "_model_module_version": "1.5.0",
            "_view_count": null,
            "_view_module_version": "1.2.0",
            "_model_module": "@jupyter-widgets/controls"
          }
        },
        "397edd917af94e7da5221ab37620acde": {
          "model_module": "@jupyter-widgets/base",
          "model_name": "LayoutModel",
          "model_module_version": "1.2.0",
          "state": {
            "_view_name": "LayoutView",
            "grid_template_rows": null,
            "right": null,
            "justify_content": null,
            "_view_module": "@jupyter-widgets/base",
            "overflow": null,
            "_model_module_version": "1.2.0",
            "_view_count": null,
            "flex_flow": null,
            "width": null,
            "min_width": null,
            "border": null,
            "align_items": null,
            "bottom": null,
            "_model_module": "@jupyter-widgets/base",
            "top": null,
            "grid_column": null,
            "overflow_y": null,
            "overflow_x": null,
            "grid_auto_flow": null,
            "grid_area": null,
            "grid_template_columns": null,
            "flex": null,
            "_model_name": "LayoutModel",
            "justify_items": null,
            "grid_row": null,
            "max_height": null,
            "align_content": null,
            "visibility": null,
            "align_self": null,
            "height": null,
            "min_height": null,
            "padding": null,
            "grid_auto_rows": null,
            "grid_gap": null,
            "max_width": null,
            "order": null,
            "_view_module_version": "1.2.0",
            "grid_template_areas": null,
            "object_position": null,
            "object_fit": null,
            "grid_auto_columns": null,
            "margin": null,
            "display": null,
            "left": null
          }
        },
        "ead5c4a4ed074c09aa6a1f903db8a9c0": {
          "model_module": "@jupyter-widgets/controls",
          "model_name": "HBoxModel",
          "model_module_version": "1.5.0",
          "state": {
            "_view_name": "HBoxView",
            "_dom_classes": [],
            "_model_name": "HBoxModel",
            "_view_module": "@jupyter-widgets/controls",
            "_model_module_version": "1.5.0",
            "_view_count": null,
            "_view_module_version": "1.5.0",
            "box_style": "",
            "layout": "IPY_MODEL_2986e78d45cd4f3092978457654a5f09",
            "_model_module": "@jupyter-widgets/controls",
            "children": [
              "IPY_MODEL_ae23d4effd78405882e318930f9ccb4c",
              "IPY_MODEL_21c52981767c4769b88503e3e2bcd422",
              "IPY_MODEL_b998ceb7b35c4cf2954ca0abfcf5dea6"
            ]
          }
        },
        "2986e78d45cd4f3092978457654a5f09": {
          "model_module": "@jupyter-widgets/base",
          "model_name": "LayoutModel",
          "model_module_version": "1.2.0",
          "state": {
            "_view_name": "LayoutView",
            "grid_template_rows": null,
            "right": null,
            "justify_content": null,
            "_view_module": "@jupyter-widgets/base",
            "overflow": null,
            "_model_module_version": "1.2.0",
            "_view_count": null,
            "flex_flow": null,
            "width": null,
            "min_width": null,
            "border": null,
            "align_items": null,
            "bottom": null,
            "_model_module": "@jupyter-widgets/base",
            "top": null,
            "grid_column": null,
            "overflow_y": null,
            "overflow_x": null,
            "grid_auto_flow": null,
            "grid_area": null,
            "grid_template_columns": null,
            "flex": null,
            "_model_name": "LayoutModel",
            "justify_items": null,
            "grid_row": null,
            "max_height": null,
            "align_content": null,
            "visibility": null,
            "align_self": null,
            "height": null,
            "min_height": null,
            "padding": null,
            "grid_auto_rows": null,
            "grid_gap": null,
            "max_width": null,
            "order": null,
            "_view_module_version": "1.2.0",
            "grid_template_areas": null,
            "object_position": null,
            "object_fit": null,
            "grid_auto_columns": null,
            "margin": null,
            "display": null,
            "left": null
          }
        },
        "ae23d4effd78405882e318930f9ccb4c": {
          "model_module": "@jupyter-widgets/controls",
          "model_name": "HTMLModel",
          "model_module_version": "1.5.0",
          "state": {
            "_view_name": "HTMLView",
            "style": "IPY_MODEL_c7882d136270458a9686236047a7ad41",
            "_dom_classes": [],
            "description": "",
            "_model_name": "HTMLModel",
            "placeholder": "​",
            "_view_module": "@jupyter-widgets/controls",
            "_model_module_version": "1.5.0",
            "value": "100%",
            "_view_count": null,
            "_view_module_version": "1.5.0",
            "description_tooltip": null,
            "_model_module": "@jupyter-widgets/controls",
            "layout": "IPY_MODEL_eac779b664db4f938f1a360e13d6f528"
          }
        },
        "21c52981767c4769b88503e3e2bcd422": {
          "model_module": "@jupyter-widgets/controls",
          "model_name": "FloatProgressModel",
          "model_module_version": "1.5.0",
          "state": {
            "_view_name": "ProgressView",
            "style": "IPY_MODEL_e7af8bcbb2944f4aa61f9c1da92d8d26",
            "_dom_classes": [],
            "description": "",
            "_model_name": "FloatProgressModel",
            "bar_style": "success",
            "max": 120310,
            "_view_module": "@jupyter-widgets/controls",
            "_model_module_version": "1.5.0",
            "value": 120310,
            "_view_count": null,
            "_view_module_version": "1.5.0",
            "orientation": "horizontal",
            "min": 0,
            "description_tooltip": null,
            "_model_module": "@jupyter-widgets/controls",
            "layout": "IPY_MODEL_4aff7a98e1304a02bc4f2c3932f369bb"
          }
        },
        "b998ceb7b35c4cf2954ca0abfcf5dea6": {
          "model_module": "@jupyter-widgets/controls",
          "model_name": "HTMLModel",
          "model_module_version": "1.5.0",
          "state": {
            "_view_name": "HTMLView",
            "style": "IPY_MODEL_2a4ce84065fa478fbebcad788901847b",
            "_dom_classes": [],
            "description": "",
            "_model_name": "HTMLModel",
            "placeholder": "​",
            "_view_module": "@jupyter-widgets/controls",
            "_model_module_version": "1.5.0",
            "value": " 120310/120310 [20:55&lt;00:00, 85.76it/s]",
            "_view_count": null,
            "_view_module_version": "1.5.0",
            "description_tooltip": null,
            "_model_module": "@jupyter-widgets/controls",
            "layout": "IPY_MODEL_617f0f576e6948c8ab0507d19112c236"
          }
        },
        "c7882d136270458a9686236047a7ad41": {
          "model_module": "@jupyter-widgets/controls",
          "model_name": "DescriptionStyleModel",
          "model_module_version": "1.5.0",
          "state": {
            "_view_name": "StyleView",
            "_model_name": "DescriptionStyleModel",
            "description_width": "",
            "_view_module": "@jupyter-widgets/base",
            "_model_module_version": "1.5.0",
            "_view_count": null,
            "_view_module_version": "1.2.0",
            "_model_module": "@jupyter-widgets/controls"
          }
        },
        "eac779b664db4f938f1a360e13d6f528": {
          "model_module": "@jupyter-widgets/base",
          "model_name": "LayoutModel",
          "model_module_version": "1.2.0",
          "state": {
            "_view_name": "LayoutView",
            "grid_template_rows": null,
            "right": null,
            "justify_content": null,
            "_view_module": "@jupyter-widgets/base",
            "overflow": null,
            "_model_module_version": "1.2.0",
            "_view_count": null,
            "flex_flow": null,
            "width": null,
            "min_width": null,
            "border": null,
            "align_items": null,
            "bottom": null,
            "_model_module": "@jupyter-widgets/base",
            "top": null,
            "grid_column": null,
            "overflow_y": null,
            "overflow_x": null,
            "grid_auto_flow": null,
            "grid_area": null,
            "grid_template_columns": null,
            "flex": null,
            "_model_name": "LayoutModel",
            "justify_items": null,
            "grid_row": null,
            "max_height": null,
            "align_content": null,
            "visibility": null,
            "align_self": null,
            "height": null,
            "min_height": null,
            "padding": null,
            "grid_auto_rows": null,
            "grid_gap": null,
            "max_width": null,
            "order": null,
            "_view_module_version": "1.2.0",
            "grid_template_areas": null,
            "object_position": null,
            "object_fit": null,
            "grid_auto_columns": null,
            "margin": null,
            "display": null,
            "left": null
          }
        },
        "e7af8bcbb2944f4aa61f9c1da92d8d26": {
          "model_module": "@jupyter-widgets/controls",
          "model_name": "ProgressStyleModel",
          "model_module_version": "1.5.0",
          "state": {
            "_view_name": "StyleView",
            "_model_name": "ProgressStyleModel",
            "description_width": "",
            "_view_module": "@jupyter-widgets/base",
            "_model_module_version": "1.5.0",
            "_view_count": null,
            "_view_module_version": "1.2.0",
            "bar_color": null,
            "_model_module": "@jupyter-widgets/controls"
          }
        },
        "4aff7a98e1304a02bc4f2c3932f369bb": {
          "model_module": "@jupyter-widgets/base",
          "model_name": "LayoutModel",
          "model_module_version": "1.2.0",
          "state": {
            "_view_name": "LayoutView",
            "grid_template_rows": null,
            "right": null,
            "justify_content": null,
            "_view_module": "@jupyter-widgets/base",
            "overflow": null,
            "_model_module_version": "1.2.0",
            "_view_count": null,
            "flex_flow": null,
            "width": null,
            "min_width": null,
            "border": null,
            "align_items": null,
            "bottom": null,
            "_model_module": "@jupyter-widgets/base",
            "top": null,
            "grid_column": null,
            "overflow_y": null,
            "overflow_x": null,
            "grid_auto_flow": null,
            "grid_area": null,
            "grid_template_columns": null,
            "flex": null,
            "_model_name": "LayoutModel",
            "justify_items": null,
            "grid_row": null,
            "max_height": null,
            "align_content": null,
            "visibility": null,
            "align_self": null,
            "height": null,
            "min_height": null,
            "padding": null,
            "grid_auto_rows": null,
            "grid_gap": null,
            "max_width": null,
            "order": null,
            "_view_module_version": "1.2.0",
            "grid_template_areas": null,
            "object_position": null,
            "object_fit": null,
            "grid_auto_columns": null,
            "margin": null,
            "display": null,
            "left": null
          }
        },
        "2a4ce84065fa478fbebcad788901847b": {
          "model_module": "@jupyter-widgets/controls",
          "model_name": "DescriptionStyleModel",
          "model_module_version": "1.5.0",
          "state": {
            "_view_name": "StyleView",
            "_model_name": "DescriptionStyleModel",
            "description_width": "",
            "_view_module": "@jupyter-widgets/base",
            "_model_module_version": "1.5.0",
            "_view_count": null,
            "_view_module_version": "1.2.0",
            "_model_module": "@jupyter-widgets/controls"
          }
        },
        "617f0f576e6948c8ab0507d19112c236": {
          "model_module": "@jupyter-widgets/base",
          "model_name": "LayoutModel",
          "model_module_version": "1.2.0",
          "state": {
            "_view_name": "LayoutView",
            "grid_template_rows": null,
            "right": null,
            "justify_content": null,
            "_view_module": "@jupyter-widgets/base",
            "overflow": null,
            "_model_module_version": "1.2.0",
            "_view_count": null,
            "flex_flow": null,
            "width": null,
            "min_width": null,
            "border": null,
            "align_items": null,
            "bottom": null,
            "_model_module": "@jupyter-widgets/base",
            "top": null,
            "grid_column": null,
            "overflow_y": null,
            "overflow_x": null,
            "grid_auto_flow": null,
            "grid_area": null,
            "grid_template_columns": null,
            "flex": null,
            "_model_name": "LayoutModel",
            "justify_items": null,
            "grid_row": null,
            "max_height": null,
            "align_content": null,
            "visibility": null,
            "align_self": null,
            "height": null,
            "min_height": null,
            "padding": null,
            "grid_auto_rows": null,
            "grid_gap": null,
            "max_width": null,
            "order": null,
            "_view_module_version": "1.2.0",
            "grid_template_areas": null,
            "object_position": null,
            "object_fit": null,
            "grid_auto_columns": null,
            "margin": null,
            "display": null,
            "left": null
          }
        },
        "7a432ea46dbb4e1fb7ade7c94bc48136": {
          "model_module": "@jupyter-widgets/controls",
          "model_name": "HBoxModel",
          "model_module_version": "1.5.0",
          "state": {
            "_view_name": "HBoxView",
            "_dom_classes": [],
            "_model_name": "HBoxModel",
            "_view_module": "@jupyter-widgets/controls",
            "_model_module_version": "1.5.0",
            "_view_count": null,
            "_view_module_version": "1.5.0",
            "box_style": "",
            "layout": "IPY_MODEL_9140ad4f04a74d5b84fa8e8776b9e1d3",
            "_model_module": "@jupyter-widgets/controls",
            "children": [
              "IPY_MODEL_8644cc2d51fe4968953a1dfbc3472b57",
              "IPY_MODEL_4a687f2b7df44a90ba694ae15b1daff6",
              "IPY_MODEL_30853201ad0841d7a8cb9a8f3d968f41"
            ]
          }
        },
        "9140ad4f04a74d5b84fa8e8776b9e1d3": {
          "model_module": "@jupyter-widgets/base",
          "model_name": "LayoutModel",
          "model_module_version": "1.2.0",
          "state": {
            "_view_name": "LayoutView",
            "grid_template_rows": null,
            "right": null,
            "justify_content": null,
            "_view_module": "@jupyter-widgets/base",
            "overflow": null,
            "_model_module_version": "1.2.0",
            "_view_count": null,
            "flex_flow": null,
            "width": null,
            "min_width": null,
            "border": null,
            "align_items": null,
            "bottom": null,
            "_model_module": "@jupyter-widgets/base",
            "top": null,
            "grid_column": null,
            "overflow_y": null,
            "overflow_x": null,
            "grid_auto_flow": null,
            "grid_area": null,
            "grid_template_columns": null,
            "flex": null,
            "_model_name": "LayoutModel",
            "justify_items": null,
            "grid_row": null,
            "max_height": null,
            "align_content": null,
            "visibility": null,
            "align_self": null,
            "height": null,
            "min_height": null,
            "padding": null,
            "grid_auto_rows": null,
            "grid_gap": null,
            "max_width": null,
            "order": null,
            "_view_module_version": "1.2.0",
            "grid_template_areas": null,
            "object_position": null,
            "object_fit": null,
            "grid_auto_columns": null,
            "margin": null,
            "display": null,
            "left": null
          }
        },
        "8644cc2d51fe4968953a1dfbc3472b57": {
          "model_module": "@jupyter-widgets/controls",
          "model_name": "HTMLModel",
          "model_module_version": "1.5.0",
          "state": {
            "_view_name": "HTMLView",
            "style": "IPY_MODEL_590588ff5e484a53bdb718e3867a1f94",
            "_dom_classes": [],
            "description": "",
            "_model_name": "HTMLModel",
            "placeholder": "​",
            "_view_module": "@jupyter-widgets/controls",
            "_model_module_version": "1.5.0",
            "value": "100%",
            "_view_count": null,
            "_view_module_version": "1.5.0",
            "description_tooltip": null,
            "_model_module": "@jupyter-widgets/controls",
            "layout": "IPY_MODEL_c15374d6ff1f478f8dd67ca7d946a71d"
          }
        },
        "4a687f2b7df44a90ba694ae15b1daff6": {
          "model_module": "@jupyter-widgets/controls",
          "model_name": "FloatProgressModel",
          "model_module_version": "1.5.0",
          "state": {
            "_view_name": "ProgressView",
            "style": "IPY_MODEL_2ab423865d144fd88f8696919b868993",
            "_dom_classes": [],
            "description": "",
            "_model_name": "FloatProgressModel",
            "bar_style": "success",
            "max": 10261,
            "_view_module": "@jupyter-widgets/controls",
            "_model_module_version": "1.5.0",
            "value": 10261,
            "_view_count": null,
            "_view_module_version": "1.5.0",
            "orientation": "horizontal",
            "min": 0,
            "description_tooltip": null,
            "_model_module": "@jupyter-widgets/controls",
            "layout": "IPY_MODEL_badf7188e82b427bacd4fd7a23af6d35"
          }
        },
        "30853201ad0841d7a8cb9a8f3d968f41": {
          "model_module": "@jupyter-widgets/controls",
          "model_name": "HTMLModel",
          "model_module_version": "1.5.0",
          "state": {
            "_view_name": "HTMLView",
            "style": "IPY_MODEL_fe9fe3deaf1f40acb6e5746c701a0ce4",
            "_dom_classes": [],
            "description": "",
            "_model_name": "HTMLModel",
            "placeholder": "​",
            "_view_module": "@jupyter-widgets/controls",
            "_model_module_version": "1.5.0",
            "value": " 10261/10261 [04:11&lt;00:00, 25.16it/s]",
            "_view_count": null,
            "_view_module_version": "1.5.0",
            "description_tooltip": null,
            "_model_module": "@jupyter-widgets/controls",
            "layout": "IPY_MODEL_3c0b823226ec47ceaac8be4fa0b3b016"
          }
        },
        "590588ff5e484a53bdb718e3867a1f94": {
          "model_module": "@jupyter-widgets/controls",
          "model_name": "DescriptionStyleModel",
          "model_module_version": "1.5.0",
          "state": {
            "_view_name": "StyleView",
            "_model_name": "DescriptionStyleModel",
            "description_width": "",
            "_view_module": "@jupyter-widgets/base",
            "_model_module_version": "1.5.0",
            "_view_count": null,
            "_view_module_version": "1.2.0",
            "_model_module": "@jupyter-widgets/controls"
          }
        },
        "c15374d6ff1f478f8dd67ca7d946a71d": {
          "model_module": "@jupyter-widgets/base",
          "model_name": "LayoutModel",
          "model_module_version": "1.2.0",
          "state": {
            "_view_name": "LayoutView",
            "grid_template_rows": null,
            "right": null,
            "justify_content": null,
            "_view_module": "@jupyter-widgets/base",
            "overflow": null,
            "_model_module_version": "1.2.0",
            "_view_count": null,
            "flex_flow": null,
            "width": null,
            "min_width": null,
            "border": null,
            "align_items": null,
            "bottom": null,
            "_model_module": "@jupyter-widgets/base",
            "top": null,
            "grid_column": null,
            "overflow_y": null,
            "overflow_x": null,
            "grid_auto_flow": null,
            "grid_area": null,
            "grid_template_columns": null,
            "flex": null,
            "_model_name": "LayoutModel",
            "justify_items": null,
            "grid_row": null,
            "max_height": null,
            "align_content": null,
            "visibility": null,
            "align_self": null,
            "height": null,
            "min_height": null,
            "padding": null,
            "grid_auto_rows": null,
            "grid_gap": null,
            "max_width": null,
            "order": null,
            "_view_module_version": "1.2.0",
            "grid_template_areas": null,
            "object_position": null,
            "object_fit": null,
            "grid_auto_columns": null,
            "margin": null,
            "display": null,
            "left": null
          }
        },
        "2ab423865d144fd88f8696919b868993": {
          "model_module": "@jupyter-widgets/controls",
          "model_name": "ProgressStyleModel",
          "model_module_version": "1.5.0",
          "state": {
            "_view_name": "StyleView",
            "_model_name": "ProgressStyleModel",
            "description_width": "",
            "_view_module": "@jupyter-widgets/base",
            "_model_module_version": "1.5.0",
            "_view_count": null,
            "_view_module_version": "1.2.0",
            "bar_color": null,
            "_model_module": "@jupyter-widgets/controls"
          }
        },
        "badf7188e82b427bacd4fd7a23af6d35": {
          "model_module": "@jupyter-widgets/base",
          "model_name": "LayoutModel",
          "model_module_version": "1.2.0",
          "state": {
            "_view_name": "LayoutView",
            "grid_template_rows": null,
            "right": null,
            "justify_content": null,
            "_view_module": "@jupyter-widgets/base",
            "overflow": null,
            "_model_module_version": "1.2.0",
            "_view_count": null,
            "flex_flow": null,
            "width": null,
            "min_width": null,
            "border": null,
            "align_items": null,
            "bottom": null,
            "_model_module": "@jupyter-widgets/base",
            "top": null,
            "grid_column": null,
            "overflow_y": null,
            "overflow_x": null,
            "grid_auto_flow": null,
            "grid_area": null,
            "grid_template_columns": null,
            "flex": null,
            "_model_name": "LayoutModel",
            "justify_items": null,
            "grid_row": null,
            "max_height": null,
            "align_content": null,
            "visibility": null,
            "align_self": null,
            "height": null,
            "min_height": null,
            "padding": null,
            "grid_auto_rows": null,
            "grid_gap": null,
            "max_width": null,
            "order": null,
            "_view_module_version": "1.2.0",
            "grid_template_areas": null,
            "object_position": null,
            "object_fit": null,
            "grid_auto_columns": null,
            "margin": null,
            "display": null,
            "left": null
          }
        },
        "fe9fe3deaf1f40acb6e5746c701a0ce4": {
          "model_module": "@jupyter-widgets/controls",
          "model_name": "DescriptionStyleModel",
          "model_module_version": "1.5.0",
          "state": {
            "_view_name": "StyleView",
            "_model_name": "DescriptionStyleModel",
            "description_width": "",
            "_view_module": "@jupyter-widgets/base",
            "_model_module_version": "1.5.0",
            "_view_count": null,
            "_view_module_version": "1.2.0",
            "_model_module": "@jupyter-widgets/controls"
          }
        },
        "3c0b823226ec47ceaac8be4fa0b3b016": {
          "model_module": "@jupyter-widgets/base",
          "model_name": "LayoutModel",
          "model_module_version": "1.2.0",
          "state": {
            "_view_name": "LayoutView",
            "grid_template_rows": null,
            "right": null,
            "justify_content": null,
            "_view_module": "@jupyter-widgets/base",
            "overflow": null,
            "_model_module_version": "1.2.0",
            "_view_count": null,
            "flex_flow": null,
            "width": null,
            "min_width": null,
            "border": null,
            "align_items": null,
            "bottom": null,
            "_model_module": "@jupyter-widgets/base",
            "top": null,
            "grid_column": null,
            "overflow_y": null,
            "overflow_x": null,
            "grid_auto_flow": null,
            "grid_area": null,
            "grid_template_columns": null,
            "flex": null,
            "_model_name": "LayoutModel",
            "justify_items": null,
            "grid_row": null,
            "max_height": null,
            "align_content": null,
            "visibility": null,
            "align_self": null,
            "height": null,
            "min_height": null,
            "padding": null,
            "grid_auto_rows": null,
            "grid_gap": null,
            "max_width": null,
            "order": null,
            "_view_module_version": "1.2.0",
            "grid_template_areas": null,
            "object_position": null,
            "object_fit": null,
            "grid_auto_columns": null,
            "margin": null,
            "display": null,
            "left": null
          }
        },
        "213e0b334c194a87a6afeb7219e4e2fe": {
          "model_module": "@jupyter-widgets/controls",
          "model_name": "HBoxModel",
          "model_module_version": "1.5.0",
          "state": {
            "_view_name": "HBoxView",
            "_dom_classes": [],
            "_model_name": "HBoxModel",
            "_view_module": "@jupyter-widgets/controls",
            "_model_module_version": "1.5.0",
            "_view_count": null,
            "_view_module_version": "1.5.0",
            "box_style": "",
            "layout": "IPY_MODEL_e1881d0950cf473992adee924a00beaf",
            "_model_module": "@jupyter-widgets/controls",
            "children": [
              "IPY_MODEL_845908686a7646a2849b04c3b159ef4a",
              "IPY_MODEL_ba2f1149994e4882879ba038a2075232",
              "IPY_MODEL_ea286574991349dba01e9af2dd9ae318"
            ]
          }
        },
        "e1881d0950cf473992adee924a00beaf": {
          "model_module": "@jupyter-widgets/base",
          "model_name": "LayoutModel",
          "model_module_version": "1.2.0",
          "state": {
            "_view_name": "LayoutView",
            "grid_template_rows": null,
            "right": null,
            "justify_content": null,
            "_view_module": "@jupyter-widgets/base",
            "overflow": null,
            "_model_module_version": "1.2.0",
            "_view_count": null,
            "flex_flow": null,
            "width": null,
            "min_width": null,
            "border": null,
            "align_items": null,
            "bottom": null,
            "_model_module": "@jupyter-widgets/base",
            "top": null,
            "grid_column": null,
            "overflow_y": null,
            "overflow_x": null,
            "grid_auto_flow": null,
            "grid_area": null,
            "grid_template_columns": null,
            "flex": null,
            "_model_name": "LayoutModel",
            "justify_items": null,
            "grid_row": null,
            "max_height": null,
            "align_content": null,
            "visibility": null,
            "align_self": null,
            "height": null,
            "min_height": null,
            "padding": null,
            "grid_auto_rows": null,
            "grid_gap": null,
            "max_width": null,
            "order": null,
            "_view_module_version": "1.2.0",
            "grid_template_areas": null,
            "object_position": null,
            "object_fit": null,
            "grid_auto_columns": null,
            "margin": null,
            "display": null,
            "left": null
          }
        },
        "845908686a7646a2849b04c3b159ef4a": {
          "model_module": "@jupyter-widgets/controls",
          "model_name": "HTMLModel",
          "model_module_version": "1.5.0",
          "state": {
            "_view_name": "HTMLView",
            "style": "IPY_MODEL_8087c97b41f446dca929ededaa450a4f",
            "_dom_classes": [],
            "description": "",
            "_model_name": "HTMLModel",
            "placeholder": "​",
            "_view_module": "@jupyter-widgets/controls",
            "_model_module_version": "1.5.0",
            "value": "100%",
            "_view_count": null,
            "_view_module_version": "1.5.0",
            "description_tooltip": null,
            "_model_module": "@jupyter-widgets/controls",
            "layout": "IPY_MODEL_1a4d224e69564bbe85975aaec7c4b313"
          }
        },
        "ba2f1149994e4882879ba038a2075232": {
          "model_module": "@jupyter-widgets/controls",
          "model_name": "FloatProgressModel",
          "model_module_version": "1.5.0",
          "state": {
            "_view_name": "ProgressView",
            "style": "IPY_MODEL_c10df1959dc4484599141de5a89ac997",
            "_dom_classes": [],
            "description": "",
            "_model_name": "FloatProgressModel",
            "bar_style": "success",
            "max": 10261,
            "_view_module": "@jupyter-widgets/controls",
            "_model_module_version": "1.5.0",
            "value": 10261,
            "_view_count": null,
            "_view_module_version": "1.5.0",
            "orientation": "horizontal",
            "min": 0,
            "description_tooltip": null,
            "_model_module": "@jupyter-widgets/controls",
            "layout": "IPY_MODEL_9b303242783848008fd4c99d6aff7a37"
          }
        },
        "ea286574991349dba01e9af2dd9ae318": {
          "model_module": "@jupyter-widgets/controls",
          "model_name": "HTMLModel",
          "model_module_version": "1.5.0",
          "state": {
            "_view_name": "HTMLView",
            "style": "IPY_MODEL_bfa75f94b4f44f338e8da13bc6192bf2",
            "_dom_classes": [],
            "description": "",
            "_model_name": "HTMLModel",
            "placeholder": "​",
            "_view_module": "@jupyter-widgets/controls",
            "_model_module_version": "1.5.0",
            "value": " 10261/10261 [01:12&lt;00:00, 86.23it/s]",
            "_view_count": null,
            "_view_module_version": "1.5.0",
            "description_tooltip": null,
            "_model_module": "@jupyter-widgets/controls",
            "layout": "IPY_MODEL_635cc2c08cdd4791b4f2cd2e1f05e6e9"
          }
        },
        "8087c97b41f446dca929ededaa450a4f": {
          "model_module": "@jupyter-widgets/controls",
          "model_name": "DescriptionStyleModel",
          "model_module_version": "1.5.0",
          "state": {
            "_view_name": "StyleView",
            "_model_name": "DescriptionStyleModel",
            "description_width": "",
            "_view_module": "@jupyter-widgets/base",
            "_model_module_version": "1.5.0",
            "_view_count": null,
            "_view_module_version": "1.2.0",
            "_model_module": "@jupyter-widgets/controls"
          }
        },
        "1a4d224e69564bbe85975aaec7c4b313": {
          "model_module": "@jupyter-widgets/base",
          "model_name": "LayoutModel",
          "model_module_version": "1.2.0",
          "state": {
            "_view_name": "LayoutView",
            "grid_template_rows": null,
            "right": null,
            "justify_content": null,
            "_view_module": "@jupyter-widgets/base",
            "overflow": null,
            "_model_module_version": "1.2.0",
            "_view_count": null,
            "flex_flow": null,
            "width": null,
            "min_width": null,
            "border": null,
            "align_items": null,
            "bottom": null,
            "_model_module": "@jupyter-widgets/base",
            "top": null,
            "grid_column": null,
            "overflow_y": null,
            "overflow_x": null,
            "grid_auto_flow": null,
            "grid_area": null,
            "grid_template_columns": null,
            "flex": null,
            "_model_name": "LayoutModel",
            "justify_items": null,
            "grid_row": null,
            "max_height": null,
            "align_content": null,
            "visibility": null,
            "align_self": null,
            "height": null,
            "min_height": null,
            "padding": null,
            "grid_auto_rows": null,
            "grid_gap": null,
            "max_width": null,
            "order": null,
            "_view_module_version": "1.2.0",
            "grid_template_areas": null,
            "object_position": null,
            "object_fit": null,
            "grid_auto_columns": null,
            "margin": null,
            "display": null,
            "left": null
          }
        },
        "c10df1959dc4484599141de5a89ac997": {
          "model_module": "@jupyter-widgets/controls",
          "model_name": "ProgressStyleModel",
          "model_module_version": "1.5.0",
          "state": {
            "_view_name": "StyleView",
            "_model_name": "ProgressStyleModel",
            "description_width": "",
            "_view_module": "@jupyter-widgets/base",
            "_model_module_version": "1.5.0",
            "_view_count": null,
            "_view_module_version": "1.2.0",
            "bar_color": null,
            "_model_module": "@jupyter-widgets/controls"
          }
        },
        "9b303242783848008fd4c99d6aff7a37": {
          "model_module": "@jupyter-widgets/base",
          "model_name": "LayoutModel",
          "model_module_version": "1.2.0",
          "state": {
            "_view_name": "LayoutView",
            "grid_template_rows": null,
            "right": null,
            "justify_content": null,
            "_view_module": "@jupyter-widgets/base",
            "overflow": null,
            "_model_module_version": "1.2.0",
            "_view_count": null,
            "flex_flow": null,
            "width": null,
            "min_width": null,
            "border": null,
            "align_items": null,
            "bottom": null,
            "_model_module": "@jupyter-widgets/base",
            "top": null,
            "grid_column": null,
            "overflow_y": null,
            "overflow_x": null,
            "grid_auto_flow": null,
            "grid_area": null,
            "grid_template_columns": null,
            "flex": null,
            "_model_name": "LayoutModel",
            "justify_items": null,
            "grid_row": null,
            "max_height": null,
            "align_content": null,
            "visibility": null,
            "align_self": null,
            "height": null,
            "min_height": null,
            "padding": null,
            "grid_auto_rows": null,
            "grid_gap": null,
            "max_width": null,
            "order": null,
            "_view_module_version": "1.2.0",
            "grid_template_areas": null,
            "object_position": null,
            "object_fit": null,
            "grid_auto_columns": null,
            "margin": null,
            "display": null,
            "left": null
          }
        },
        "bfa75f94b4f44f338e8da13bc6192bf2": {
          "model_module": "@jupyter-widgets/controls",
          "model_name": "DescriptionStyleModel",
          "model_module_version": "1.5.0",
          "state": {
            "_view_name": "StyleView",
            "_model_name": "DescriptionStyleModel",
            "description_width": "",
            "_view_module": "@jupyter-widgets/base",
            "_model_module_version": "1.5.0",
            "_view_count": null,
            "_view_module_version": "1.2.0",
            "_model_module": "@jupyter-widgets/controls"
          }
        },
        "635cc2c08cdd4791b4f2cd2e1f05e6e9": {
          "model_module": "@jupyter-widgets/base",
          "model_name": "LayoutModel",
          "model_module_version": "1.2.0",
          "state": {
            "_view_name": "LayoutView",
            "grid_template_rows": null,
            "right": null,
            "justify_content": null,
            "_view_module": "@jupyter-widgets/base",
            "overflow": null,
            "_model_module_version": "1.2.0",
            "_view_count": null,
            "flex_flow": null,
            "width": null,
            "min_width": null,
            "border": null,
            "align_items": null,
            "bottom": null,
            "_model_module": "@jupyter-widgets/base",
            "top": null,
            "grid_column": null,
            "overflow_y": null,
            "overflow_x": null,
            "grid_auto_flow": null,
            "grid_area": null,
            "grid_template_columns": null,
            "flex": null,
            "_model_name": "LayoutModel",
            "justify_items": null,
            "grid_row": null,
            "max_height": null,
            "align_content": null,
            "visibility": null,
            "align_self": null,
            "height": null,
            "min_height": null,
            "padding": null,
            "grid_auto_rows": null,
            "grid_gap": null,
            "max_width": null,
            "order": null,
            "_view_module_version": "1.2.0",
            "grid_template_areas": null,
            "object_position": null,
            "object_fit": null,
            "grid_auto_columns": null,
            "margin": null,
            "display": null,
            "left": null
          }
        },
        "d68cb1a051f84cc4bbb51c6b7d30141a": {
          "model_module": "@jupyter-widgets/controls",
          "model_name": "HBoxModel",
          "model_module_version": "1.5.0",
          "state": {
            "_view_name": "HBoxView",
            "_dom_classes": [],
            "_model_name": "HBoxModel",
            "_view_module": "@jupyter-widgets/controls",
            "_model_module_version": "1.5.0",
            "_view_count": null,
            "_view_module_version": "1.5.0",
            "box_style": "",
            "layout": "IPY_MODEL_3f5f4119043c485a802a7ff4ed4ac54f",
            "_model_module": "@jupyter-widgets/controls",
            "children": [
              "IPY_MODEL_68b76d7f81f843ae95946d909a4793e2",
              "IPY_MODEL_4b69ab45e3a34b3abe003cc1402e82c1",
              "IPY_MODEL_bf6315a9d41e4e5aa391eed745354254"
            ]
          }
        },
        "3f5f4119043c485a802a7ff4ed4ac54f": {
          "model_module": "@jupyter-widgets/base",
          "model_name": "LayoutModel",
          "model_module_version": "1.2.0",
          "state": {
            "_view_name": "LayoutView",
            "grid_template_rows": null,
            "right": null,
            "justify_content": null,
            "_view_module": "@jupyter-widgets/base",
            "overflow": null,
            "_model_module_version": "1.2.0",
            "_view_count": null,
            "flex_flow": null,
            "width": null,
            "min_width": null,
            "border": null,
            "align_items": null,
            "bottom": null,
            "_model_module": "@jupyter-widgets/base",
            "top": null,
            "grid_column": null,
            "overflow_y": null,
            "overflow_x": null,
            "grid_auto_flow": null,
            "grid_area": null,
            "grid_template_columns": null,
            "flex": null,
            "_model_name": "LayoutModel",
            "justify_items": null,
            "grid_row": null,
            "max_height": null,
            "align_content": null,
            "visibility": null,
            "align_self": null,
            "height": null,
            "min_height": null,
            "padding": null,
            "grid_auto_rows": null,
            "grid_gap": null,
            "max_width": null,
            "order": null,
            "_view_module_version": "1.2.0",
            "grid_template_areas": null,
            "object_position": null,
            "object_fit": null,
            "grid_auto_columns": null,
            "margin": null,
            "display": null,
            "left": null
          }
        },
        "68b76d7f81f843ae95946d909a4793e2": {
          "model_module": "@jupyter-widgets/controls",
          "model_name": "HTMLModel",
          "model_module_version": "1.5.0",
          "state": {
            "_view_name": "HTMLView",
            "style": "IPY_MODEL_bbe0abf05a534b38b779b1df6ebb9923",
            "_dom_classes": [],
            "description": "",
            "_model_name": "HTMLModel",
            "placeholder": "​",
            "_view_module": "@jupyter-widgets/controls",
            "_model_module_version": "1.5.0",
            "value": "100%",
            "_view_count": null,
            "_view_module_version": "1.5.0",
            "description_tooltip": null,
            "_model_module": "@jupyter-widgets/controls",
            "layout": "IPY_MODEL_f7ae47b8e0fd4345a11e002a0acf1b85"
          }
        },
        "4b69ab45e3a34b3abe003cc1402e82c1": {
          "model_module": "@jupyter-widgets/controls",
          "model_name": "FloatProgressModel",
          "model_module_version": "1.5.0",
          "state": {
            "_view_name": "ProgressView",
            "style": "IPY_MODEL_8a2b163973e5450394c7f5836f3261cd",
            "_dom_classes": [],
            "description": "",
            "_model_name": "FloatProgressModel",
            "bar_style": "success",
            "max": 4761104,
            "_view_module": "@jupyter-widgets/controls",
            "_model_module_version": "1.5.0",
            "value": 4761104,
            "_view_count": null,
            "_view_module_version": "1.5.0",
            "orientation": "horizontal",
            "min": 0,
            "description_tooltip": null,
            "_model_module": "@jupyter-widgets/controls",
            "layout": "IPY_MODEL_21975449dc59467c9968f41517afbef7"
          }
        },
        "bf6315a9d41e4e5aa391eed745354254": {
          "model_module": "@jupyter-widgets/controls",
          "model_name": "HTMLModel",
          "model_module_version": "1.5.0",
          "state": {
            "_view_name": "HTMLView",
            "style": "IPY_MODEL_1f0969130d1d49d088a5f246271d7a8a",
            "_dom_classes": [],
            "description": "",
            "_model_name": "HTMLModel",
            "placeholder": "​",
            "_view_module": "@jupyter-widgets/controls",
            "_model_module_version": "1.5.0",
            "value": " 4761104/4761104 [00:07&lt;00:00, 600650.33it/s]",
            "_view_count": null,
            "_view_module_version": "1.5.0",
            "description_tooltip": null,
            "_model_module": "@jupyter-widgets/controls",
            "layout": "IPY_MODEL_0395a496721e4492a8a09c55370b49f9"
          }
        },
        "bbe0abf05a534b38b779b1df6ebb9923": {
          "model_module": "@jupyter-widgets/controls",
          "model_name": "DescriptionStyleModel",
          "model_module_version": "1.5.0",
          "state": {
            "_view_name": "StyleView",
            "_model_name": "DescriptionStyleModel",
            "description_width": "",
            "_view_module": "@jupyter-widgets/base",
            "_model_module_version": "1.5.0",
            "_view_count": null,
            "_view_module_version": "1.2.0",
            "_model_module": "@jupyter-widgets/controls"
          }
        },
        "f7ae47b8e0fd4345a11e002a0acf1b85": {
          "model_module": "@jupyter-widgets/base",
          "model_name": "LayoutModel",
          "model_module_version": "1.2.0",
          "state": {
            "_view_name": "LayoutView",
            "grid_template_rows": null,
            "right": null,
            "justify_content": null,
            "_view_module": "@jupyter-widgets/base",
            "overflow": null,
            "_model_module_version": "1.2.0",
            "_view_count": null,
            "flex_flow": null,
            "width": null,
            "min_width": null,
            "border": null,
            "align_items": null,
            "bottom": null,
            "_model_module": "@jupyter-widgets/base",
            "top": null,
            "grid_column": null,
            "overflow_y": null,
            "overflow_x": null,
            "grid_auto_flow": null,
            "grid_area": null,
            "grid_template_columns": null,
            "flex": null,
            "_model_name": "LayoutModel",
            "justify_items": null,
            "grid_row": null,
            "max_height": null,
            "align_content": null,
            "visibility": null,
            "align_self": null,
            "height": null,
            "min_height": null,
            "padding": null,
            "grid_auto_rows": null,
            "grid_gap": null,
            "max_width": null,
            "order": null,
            "_view_module_version": "1.2.0",
            "grid_template_areas": null,
            "object_position": null,
            "object_fit": null,
            "grid_auto_columns": null,
            "margin": null,
            "display": null,
            "left": null
          }
        },
        "8a2b163973e5450394c7f5836f3261cd": {
          "model_module": "@jupyter-widgets/controls",
          "model_name": "ProgressStyleModel",
          "model_module_version": "1.5.0",
          "state": {
            "_view_name": "StyleView",
            "_model_name": "ProgressStyleModel",
            "description_width": "",
            "_view_module": "@jupyter-widgets/base",
            "_model_module_version": "1.5.0",
            "_view_count": null,
            "_view_module_version": "1.2.0",
            "bar_color": null,
            "_model_module": "@jupyter-widgets/controls"
          }
        },
        "21975449dc59467c9968f41517afbef7": {
          "model_module": "@jupyter-widgets/base",
          "model_name": "LayoutModel",
          "model_module_version": "1.2.0",
          "state": {
            "_view_name": "LayoutView",
            "grid_template_rows": null,
            "right": null,
            "justify_content": null,
            "_view_module": "@jupyter-widgets/base",
            "overflow": null,
            "_model_module_version": "1.2.0",
            "_view_count": null,
            "flex_flow": null,
            "width": null,
            "min_width": null,
            "border": null,
            "align_items": null,
            "bottom": null,
            "_model_module": "@jupyter-widgets/base",
            "top": null,
            "grid_column": null,
            "overflow_y": null,
            "overflow_x": null,
            "grid_auto_flow": null,
            "grid_area": null,
            "grid_template_columns": null,
            "flex": null,
            "_model_name": "LayoutModel",
            "justify_items": null,
            "grid_row": null,
            "max_height": null,
            "align_content": null,
            "visibility": null,
            "align_self": null,
            "height": null,
            "min_height": null,
            "padding": null,
            "grid_auto_rows": null,
            "grid_gap": null,
            "max_width": null,
            "order": null,
            "_view_module_version": "1.2.0",
            "grid_template_areas": null,
            "object_position": null,
            "object_fit": null,
            "grid_auto_columns": null,
            "margin": null,
            "display": null,
            "left": null
          }
        },
        "1f0969130d1d49d088a5f246271d7a8a": {
          "model_module": "@jupyter-widgets/controls",
          "model_name": "DescriptionStyleModel",
          "model_module_version": "1.5.0",
          "state": {
            "_view_name": "StyleView",
            "_model_name": "DescriptionStyleModel",
            "description_width": "",
            "_view_module": "@jupyter-widgets/base",
            "_model_module_version": "1.5.0",
            "_view_count": null,
            "_view_module_version": "1.2.0",
            "_model_module": "@jupyter-widgets/controls"
          }
        },
        "0395a496721e4492a8a09c55370b49f9": {
          "model_module": "@jupyter-widgets/base",
          "model_name": "LayoutModel",
          "model_module_version": "1.2.0",
          "state": {
            "_view_name": "LayoutView",
            "grid_template_rows": null,
            "right": null,
            "justify_content": null,
            "_view_module": "@jupyter-widgets/base",
            "overflow": null,
            "_model_module_version": "1.2.0",
            "_view_count": null,
            "flex_flow": null,
            "width": null,
            "min_width": null,
            "border": null,
            "align_items": null,
            "bottom": null,
            "_model_module": "@jupyter-widgets/base",
            "top": null,
            "grid_column": null,
            "overflow_y": null,
            "overflow_x": null,
            "grid_auto_flow": null,
            "grid_area": null,
            "grid_template_columns": null,
            "flex": null,
            "_model_name": "LayoutModel",
            "justify_items": null,
            "grid_row": null,
            "max_height": null,
            "align_content": null,
            "visibility": null,
            "align_self": null,
            "height": null,
            "min_height": null,
            "padding": null,
            "grid_auto_rows": null,
            "grid_gap": null,
            "max_width": null,
            "order": null,
            "_view_module_version": "1.2.0",
            "grid_template_areas": null,
            "object_position": null,
            "object_fit": null,
            "grid_auto_columns": null,
            "margin": null,
            "display": null,
            "left": null
          }
        }
      }
    }
  },
  "cells": [
    {
      "cell_type": "markdown",
      "metadata": {
        "id": "view-in-github",
        "colab_type": "text"
      },
      "source": [
        "<a href=\"https://colab.research.google.com/github/evtaktasheva/hse-nlp/blob/main/NLP_HW2.ipynb\" target=\"_parent\"><img src=\"https://colab.research.google.com/assets/colab-badge.svg\" alt=\"Open In Colab\"/></a>"
      ]
    },
    {
      "cell_type": "markdown",
      "metadata": {
        "id": "qcUEY_ccntYV"
      },
      "source": [
        "# Часть 0: сбор данных\n",
        "Возьмем отзывы на музыкальные инструменты в качестве рабочего файла"
      ]
    },
    {
      "cell_type": "code",
      "metadata": {
        "colab": {
          "base_uri": "https://localhost:8080/"
        },
        "id": "oBhked__la1a",
        "outputId": "1631700f-225e-482d-f655-5c38a7df87ac"
      },
      "source": [
        "!wget http://snap.stanford.edu/data/amazon/productGraph/categoryFiles/reviews_Musical_Instruments_5.json.gz  # сами отзывы\n",
        "!wget http://deepyeti.ucsd.edu/jianmo/amazon/metaFiles2/meta_Musical_Instruments.json.gz  # метаданные"
      ],
      "execution_count": 1,
      "outputs": [
        {
          "output_type": "stream",
          "name": "stdout",
          "text": [
            "--2021-12-03 19:30:24--  http://snap.stanford.edu/data/amazon/productGraph/categoryFiles/reviews_Musical_Instruments_5.json.gz\n",
            "Resolving snap.stanford.edu (snap.stanford.edu)... 171.64.75.80\n",
            "Connecting to snap.stanford.edu (snap.stanford.edu)|171.64.75.80|:80... connected.\n",
            "HTTP request sent, awaiting response... 200 OK\n",
            "Length: 2460495 (2.3M) [application/x-gzip]\n",
            "Saving to: ‘reviews_Musical_Instruments_5.json.gz’\n",
            "\n",
            "reviews_Musical_Ins 100%[===================>]   2.35M  3.64MB/s    in 0.6s    \n",
            "\n",
            "2021-12-03 19:30:25 (3.64 MB/s) - ‘reviews_Musical_Instruments_5.json.gz’ saved [2460495/2460495]\n",
            "\n",
            "--2021-12-03 19:30:25--  http://deepyeti.ucsd.edu/jianmo/amazon/metaFiles2/meta_Musical_Instruments.json.gz\n",
            "Resolving deepyeti.ucsd.edu (deepyeti.ucsd.edu)... 169.228.63.50\n",
            "Connecting to deepyeti.ucsd.edu (deepyeti.ucsd.edu)|169.228.63.50|:80... connected.\n",
            "HTTP request sent, awaiting response... 200 OK\n",
            "Length: 172497344 (165M) [application/octet-stream]\n",
            "Saving to: ‘meta_Musical_Instruments.json.gz’\n",
            "\n",
            "meta_Musical_Instru 100%[===================>] 164.51M  43.4MB/s    in 4.2s    \n",
            "\n",
            "2021-12-03 19:30:30 (39.3 MB/s) - ‘meta_Musical_Instruments.json.gz’ saved [172497344/172497344]\n",
            "\n"
          ]
        }
      ]
    },
    {
      "cell_type": "code",
      "metadata": {
        "id": "ahMWYQl9lmgn"
      },
      "source": [
        "import pandas as pd\n",
        "import gzip\n",
        "\n",
        "def parse(path):\n",
        "  g = gzip.open(path, 'rb')\n",
        "  for l in g:\n",
        "    yield eval(l)\n",
        "\n",
        "def getDF(path):\n",
        "  i = 0\n",
        "  df = {}\n",
        "  for d in parse(path):\n",
        "    df[i] = d\n",
        "    i += 1\n",
        "  return pd.DataFrame.from_dict(df, orient='index')"
      ],
      "execution_count": 2,
      "outputs": []
    },
    {
      "cell_type": "code",
      "metadata": {
        "id": "Q4Ap8Z3-nDNa"
      },
      "source": [
        "df = getDF('reviews_Musical_Instruments_5.json.gz')\n",
        "meta = getDF('meta_Musical_Instruments.json.gz')"
      ],
      "execution_count": 3,
      "outputs": []
    },
    {
      "cell_type": "code",
      "metadata": {
        "colab": {
          "base_uri": "https://localhost:8080/",
          "height": 283
        },
        "id": "H2mMNjamoGy2",
        "outputId": "bd6aba7b-f0bd-4fec-eeb4-31259e2b818c"
      },
      "source": [
        "df.head()"
      ],
      "execution_count": 4,
      "outputs": [
        {
          "output_type": "execute_result",
          "data": {
            "text/html": [
              "<div>\n",
              "<style scoped>\n",
              "    .dataframe tbody tr th:only-of-type {\n",
              "        vertical-align: middle;\n",
              "    }\n",
              "\n",
              "    .dataframe tbody tr th {\n",
              "        vertical-align: top;\n",
              "    }\n",
              "\n",
              "    .dataframe thead th {\n",
              "        text-align: right;\n",
              "    }\n",
              "</style>\n",
              "<table border=\"1\" class=\"dataframe\">\n",
              "  <thead>\n",
              "    <tr style=\"text-align: right;\">\n",
              "      <th></th>\n",
              "      <th>reviewerID</th>\n",
              "      <th>asin</th>\n",
              "      <th>reviewerName</th>\n",
              "      <th>helpful</th>\n",
              "      <th>reviewText</th>\n",
              "      <th>overall</th>\n",
              "      <th>summary</th>\n",
              "      <th>unixReviewTime</th>\n",
              "      <th>reviewTime</th>\n",
              "    </tr>\n",
              "  </thead>\n",
              "  <tbody>\n",
              "    <tr>\n",
              "      <th>0</th>\n",
              "      <td>A2IBPI20UZIR0U</td>\n",
              "      <td>1384719342</td>\n",
              "      <td>cassandra tu \"Yeah, well, that's just like, u...</td>\n",
              "      <td>[0, 0]</td>\n",
              "      <td>Not much to write about here, but it does exac...</td>\n",
              "      <td>5.0</td>\n",
              "      <td>good</td>\n",
              "      <td>1393545600</td>\n",
              "      <td>02 28, 2014</td>\n",
              "    </tr>\n",
              "    <tr>\n",
              "      <th>1</th>\n",
              "      <td>A14VAT5EAX3D9S</td>\n",
              "      <td>1384719342</td>\n",
              "      <td>Jake</td>\n",
              "      <td>[13, 14]</td>\n",
              "      <td>The product does exactly as it should and is q...</td>\n",
              "      <td>5.0</td>\n",
              "      <td>Jake</td>\n",
              "      <td>1363392000</td>\n",
              "      <td>03 16, 2013</td>\n",
              "    </tr>\n",
              "    <tr>\n",
              "      <th>2</th>\n",
              "      <td>A195EZSQDW3E21</td>\n",
              "      <td>1384719342</td>\n",
              "      <td>Rick Bennette \"Rick Bennette\"</td>\n",
              "      <td>[1, 1]</td>\n",
              "      <td>The primary job of this device is to block the...</td>\n",
              "      <td>5.0</td>\n",
              "      <td>It Does The Job Well</td>\n",
              "      <td>1377648000</td>\n",
              "      <td>08 28, 2013</td>\n",
              "    </tr>\n",
              "    <tr>\n",
              "      <th>3</th>\n",
              "      <td>A2C00NNG1ZQQG2</td>\n",
              "      <td>1384719342</td>\n",
              "      <td>RustyBill \"Sunday Rocker\"</td>\n",
              "      <td>[0, 0]</td>\n",
              "      <td>Nice windscreen protects my MXL mic and preven...</td>\n",
              "      <td>5.0</td>\n",
              "      <td>GOOD WINDSCREEN FOR THE MONEY</td>\n",
              "      <td>1392336000</td>\n",
              "      <td>02 14, 2014</td>\n",
              "    </tr>\n",
              "    <tr>\n",
              "      <th>4</th>\n",
              "      <td>A94QU4C90B1AX</td>\n",
              "      <td>1384719342</td>\n",
              "      <td>SEAN MASLANKA</td>\n",
              "      <td>[0, 0]</td>\n",
              "      <td>This pop filter is great. It looks and perform...</td>\n",
              "      <td>5.0</td>\n",
              "      <td>No more pops when I record my vocals.</td>\n",
              "      <td>1392940800</td>\n",
              "      <td>02 21, 2014</td>\n",
              "    </tr>\n",
              "  </tbody>\n",
              "</table>\n",
              "</div>"
            ],
            "text/plain": [
              "       reviewerID        asin  ... unixReviewTime   reviewTime\n",
              "0  A2IBPI20UZIR0U  1384719342  ...     1393545600  02 28, 2014\n",
              "1  A14VAT5EAX3D9S  1384719342  ...     1363392000  03 16, 2013\n",
              "2  A195EZSQDW3E21  1384719342  ...     1377648000  08 28, 2013\n",
              "3  A2C00NNG1ZQQG2  1384719342  ...     1392336000  02 14, 2014\n",
              "4   A94QU4C90B1AX  1384719342  ...     1392940800  02 21, 2014\n",
              "\n",
              "[5 rows x 9 columns]"
            ]
          },
          "metadata": {},
          "execution_count": 4
        }
      ]
    },
    {
      "cell_type": "code",
      "metadata": {
        "colab": {
          "base_uri": "https://localhost:8080/",
          "height": 632
        },
        "id": "QLOyKFNFoIn8",
        "outputId": "07d40ebc-1e72-4952-e787-a4a5570f066b"
      },
      "source": [
        "meta.head()"
      ],
      "execution_count": 5,
      "outputs": [
        {
          "output_type": "execute_result",
          "data": {
            "text/html": [
              "<div>\n",
              "<style scoped>\n",
              "    .dataframe tbody tr th:only-of-type {\n",
              "        vertical-align: middle;\n",
              "    }\n",
              "\n",
              "    .dataframe tbody tr th {\n",
              "        vertical-align: top;\n",
              "    }\n",
              "\n",
              "    .dataframe thead th {\n",
              "        text-align: right;\n",
              "    }\n",
              "</style>\n",
              "<table border=\"1\" class=\"dataframe\">\n",
              "  <thead>\n",
              "    <tr style=\"text-align: right;\">\n",
              "      <th></th>\n",
              "      <th>category</th>\n",
              "      <th>tech1</th>\n",
              "      <th>description</th>\n",
              "      <th>fit</th>\n",
              "      <th>title</th>\n",
              "      <th>also_buy</th>\n",
              "      <th>tech2</th>\n",
              "      <th>brand</th>\n",
              "      <th>feature</th>\n",
              "      <th>rank</th>\n",
              "      <th>also_view</th>\n",
              "      <th>main_cat</th>\n",
              "      <th>similar_item</th>\n",
              "      <th>date</th>\n",
              "      <th>price</th>\n",
              "      <th>asin</th>\n",
              "      <th>imageURL</th>\n",
              "      <th>imageURLHighRes</th>\n",
              "      <th>details</th>\n",
              "    </tr>\n",
              "  </thead>\n",
              "  <tbody>\n",
              "    <tr>\n",
              "      <th>0</th>\n",
              "      <td>[Musical Instruments, Drums &amp; Percussion, Hand...</td>\n",
              "      <td></td>\n",
              "      <td>[Cricket Rubbing the spine with the wooden sti...</td>\n",
              "      <td></td>\n",
              "      <td>Wooden Percussion 2 Piece Set of 3 Inch Cricke...</td>\n",
              "      <td>[B00NP8GYVS, B00NP80XMO, B00NP8M098]</td>\n",
              "      <td></td>\n",
              "      <td>WADSUWAN SHOP</td>\n",
              "      <td>[Wood percussion, Owl whistle*, Includes woode...</td>\n",
              "      <td>[&gt;#141,729 in Musical Instruments (See Top 100...</td>\n",
              "      <td>[]</td>\n",
              "      <td>Musical Instruments</td>\n",
              "      <td></td>\n",
              "      <td>December 2, 2013</td>\n",
              "      <td></td>\n",
              "      <td>0000989983</td>\n",
              "      <td>[https://images-na.ssl-images-amazon.com/image...</td>\n",
              "      <td>[https://images-na.ssl-images-amazon.com/image...</td>\n",
              "      <td>NaN</td>\n",
              "    </tr>\n",
              "    <tr>\n",
              "      <th>1</th>\n",
              "      <td>[Musical Instruments, Drums &amp; Percussion, Hand...</td>\n",
              "      <td></td>\n",
              "      <td>[Frog - Rubbing its spine with the wooden stic...</td>\n",
              "      <td></td>\n",
              "      <td>Wooden Percussion 3 Piece Set Frog, Cricket an...</td>\n",
              "      <td>[B00NP8GYVS, B00NP80XMO, B01MY48HK5, B00AZZ1AJ...</td>\n",
              "      <td></td>\n",
              "      <td>WADSUWAN SHOP</td>\n",
              "      <td>[Wood percussion, Small 3 inches, Creates orig...</td>\n",
              "      <td>[&gt;#1,622 in Musical Instruments (See Top 100 i...</td>\n",
              "      <td>[]</td>\n",
              "      <td>Musical Instruments</td>\n",
              "      <td></td>\n",
              "      <td>December 2, 2013</td>\n",
              "      <td>$0.91</td>\n",
              "      <td>0000098906</td>\n",
              "      <td>[https://images-na.ssl-images-amazon.com/image...</td>\n",
              "      <td>[https://images-na.ssl-images-amazon.com/image...</td>\n",
              "      <td>NaN</td>\n",
              "    </tr>\n",
              "    <tr>\n",
              "      <th>2</th>\n",
              "      <td>[Musical Instruments, Instrument Accessories, ...</td>\n",
              "      <td></td>\n",
              "      <td>[Vivaldi's famous set of four violin concertos...</td>\n",
              "      <td></td>\n",
              "      <td>Hal Leonard Vivaldi Four Seasons for Piano (Or...</td>\n",
              "      <td>[]</td>\n",
              "      <td></td>\n",
              "      <td>Hal Leonard</td>\n",
              "      <td>[., ., .]</td>\n",
              "      <td>[&gt;#330,653 in Musical Instruments (See Top 100...</td>\n",
              "      <td>[]</td>\n",
              "      <td>Musical Instruments</td>\n",
              "      <td></td>\n",
              "      <td>May 10, 2011</td>\n",
              "      <td>$62.93</td>\n",
              "      <td>0041291905</td>\n",
              "      <td>[https://images-na.ssl-images-amazon.com/image...</td>\n",
              "      <td>[https://images-na.ssl-images-amazon.com/image...</td>\n",
              "      <td>NaN</td>\n",
              "    </tr>\n",
              "    <tr>\n",
              "      <th>3</th>\n",
              "      <td>[]</td>\n",
              "      <td></td>\n",
              "      <td>[The Turn of the Screw (op. 54) vocal score, p...</td>\n",
              "      <td></td>\n",
              "      <td>The Turn of the Screw (vocal score)</td>\n",
              "      <td>[0486266842, 0793507669, 0393008789, 142341280...</td>\n",
              "      <td></td>\n",
              "      <td>Boosey &amp;amp; Hawkes</td>\n",
              "      <td>[]</td>\n",
              "      <td>[&gt;#86,354 in Musical Instruments (See Top 100 ...</td>\n",
              "      <td>[]</td>\n",
              "      <td>Musical Instruments</td>\n",
              "      <td></td>\n",
              "      <td>May 23, 2007</td>\n",
              "      <td>$107.79</td>\n",
              "      <td>0060015500</td>\n",
              "      <td>[https://images-na.ssl-images-amazon.com/image...</td>\n",
              "      <td>[https://images-na.ssl-images-amazon.com/image...</td>\n",
              "      <td>NaN</td>\n",
              "    </tr>\n",
              "    <tr>\n",
              "      <th>4</th>\n",
              "      <td>[]</td>\n",
              "      <td></td>\n",
              "      <td>[]</td>\n",
              "      <td></td>\n",
              "      <td>Suite for Organ (including the Trumpet Volunta...</td>\n",
              "      <td>[]</td>\n",
              "      <td></td>\n",
              "      <td></td>\n",
              "      <td>[]</td>\n",
              "      <td>[&gt;#482,025 in Musical Instruments (See Top 100...</td>\n",
              "      <td>[]</td>\n",
              "      <td>Musical Instruments</td>\n",
              "      <td></td>\n",
              "      <td>February 8, 2013</td>\n",
              "      <td></td>\n",
              "      <td>0193757710</td>\n",
              "      <td>[https://images-na.ssl-images-amazon.com/image...</td>\n",
              "      <td>[https://images-na.ssl-images-amazon.com/image...</td>\n",
              "      <td>NaN</td>\n",
              "    </tr>\n",
              "  </tbody>\n",
              "</table>\n",
              "</div>"
            ],
            "text/plain": [
              "                                            category  ... details\n",
              "0  [Musical Instruments, Drums & Percussion, Hand...  ...     NaN\n",
              "1  [Musical Instruments, Drums & Percussion, Hand...  ...     NaN\n",
              "2  [Musical Instruments, Instrument Accessories, ...  ...     NaN\n",
              "3                                                 []  ...     NaN\n",
              "4                                                 []  ...     NaN\n",
              "\n",
              "[5 rows x 19 columns]"
            ]
          },
          "metadata": {},
          "execution_count": 5
        }
      ]
    },
    {
      "cell_type": "markdown",
      "metadata": {
        "id": "vLtWUUUymZaK"
      },
      "source": [
        "# Часть 1: придумываем методы решения\n",
        "\n",
        "## Метод 1.1\n",
        "1. Т.к. у нас есть вся мета информация, то мы можем выделить самые частотные слова в названии товаров/их категории. Таким образом мы скорее всего выделим названия инструментов, типа `гитара`, `синтезатор` и т.д., что избавит нас от ручного написания всех типов продуктов, что есть в датасете (это можно сделать просто каким-нибудь каунтером)\n",
        "2. Теперь у нас есть базовые категории товаров, можем найти их упоминания в отдельных текстах, например собрать ±2 слова вокруг, получить 2 и 3-граммы с нужным словом и дальше пойти двумя путями:    \n",
        "    - взять самые частотные сочетания из отзывов (но тогда получим скорее всего какие-то и рандомные штуки, например если какой-то товар очень плохой, то можем и принять bad guitar за название)\n",
        "    - взять те сочетания, которые встречаются в названии товаров (этот способ кажется хорошо отфильтрует все лишнее, но отфильтрует и немного измененные названия)\n",
        "\n",
        "## Метод 1.2\n",
        "Если использовать только данные из отзывов, то взять просто ключевые слова, выделить их, например, через tfidf или любой другой метод доставания ключевых слов, потом отфильтровать по порогу частотности, оставить только существительные. минус: выделим только основные аспекты, но не упоминания с названиями товара (`гитара`, но не `гитара Fender`). Плюс: скорее всего выделим правда в основном только аспекты, а не рандомные слова.\n",
        "\n",
        "## Метод 2\n",
        "Похож на метод 1, но заменим пункт 1 на морфологические шаблоны: выделим все сочетания типа NOUN + NOUN и тд и применим к отзывам. Затем сможем отфильтровать по пути 2\n",
        "\n",
        "## Метод 3\n",
        "Аналогично методу 2.1, только брать не просто морфологические шаблоны, а подключить еще и NER, тогда брать все, что подходит под NOUN + ORG и тд.\n",
        "\n",
        "Минусы обоих подходов: не факт, что все организвации и названия товаров будут размечаться как ORG или что-то подобное, что поможет их выделить, + мы не выделим просто упоминания товаров без названия (типа `гитара`,\n",
        "`барабан`) \n",
        "\n"
      ]
    },
    {
      "cell_type": "markdown",
      "metadata": {
        "id": "pyj3TUaxCguz"
      },
      "source": [
        "# Часть 2: Пробуем закодить\n",
        "\n",
        "Кажется, имеет смысл закодить первый способ, т.к. он, насколько я знакома с ABSA, самый популярный из базовых."
      ]
    },
    {
      "cell_type": "code",
      "metadata": {
        "colab": {
          "base_uri": "https://localhost:8080/"
        },
        "id": "eMFeZS5TFDms",
        "outputId": "b8448a51-9307-4d76-a544-bc05c1ed0059"
      },
      "source": [
        "!pip install --quiet spacy\n",
        "!spacy download en_core_web_sm"
      ],
      "execution_count": 6,
      "outputs": [
        {
          "output_type": "stream",
          "name": "stdout",
          "text": [
            "Collecting en_core_web_sm==2.2.5\n",
            "  Downloading https://github.com/explosion/spacy-models/releases/download/en_core_web_sm-2.2.5/en_core_web_sm-2.2.5.tar.gz (12.0 MB)\n",
            "\u001b[K     |████████████████████████████████| 12.0 MB 4.7 MB/s \n",
            "\u001b[?25hRequirement already satisfied: spacy>=2.2.2 in /usr/local/lib/python3.7/dist-packages (from en_core_web_sm==2.2.5) (2.2.4)\n",
            "Requirement already satisfied: preshed<3.1.0,>=3.0.2 in /usr/local/lib/python3.7/dist-packages (from spacy>=2.2.2->en_core_web_sm==2.2.5) (3.0.6)\n",
            "Requirement already satisfied: murmurhash<1.1.0,>=0.28.0 in /usr/local/lib/python3.7/dist-packages (from spacy>=2.2.2->en_core_web_sm==2.2.5) (1.0.6)\n",
            "Requirement already satisfied: thinc==7.4.0 in /usr/local/lib/python3.7/dist-packages (from spacy>=2.2.2->en_core_web_sm==2.2.5) (7.4.0)\n",
            "Requirement already satisfied: plac<1.2.0,>=0.9.6 in /usr/local/lib/python3.7/dist-packages (from spacy>=2.2.2->en_core_web_sm==2.2.5) (1.1.3)\n",
            "Requirement already satisfied: requests<3.0.0,>=2.13.0 in /usr/local/lib/python3.7/dist-packages (from spacy>=2.2.2->en_core_web_sm==2.2.5) (2.23.0)\n",
            "Requirement already satisfied: setuptools in /usr/local/lib/python3.7/dist-packages (from spacy>=2.2.2->en_core_web_sm==2.2.5) (57.4.0)\n",
            "Requirement already satisfied: cymem<2.1.0,>=2.0.2 in /usr/local/lib/python3.7/dist-packages (from spacy>=2.2.2->en_core_web_sm==2.2.5) (2.0.6)\n",
            "Requirement already satisfied: srsly<1.1.0,>=1.0.2 in /usr/local/lib/python3.7/dist-packages (from spacy>=2.2.2->en_core_web_sm==2.2.5) (1.0.5)\n",
            "Requirement already satisfied: catalogue<1.1.0,>=0.0.7 in /usr/local/lib/python3.7/dist-packages (from spacy>=2.2.2->en_core_web_sm==2.2.5) (1.0.0)\n",
            "Requirement already satisfied: numpy>=1.15.0 in /usr/local/lib/python3.7/dist-packages (from spacy>=2.2.2->en_core_web_sm==2.2.5) (1.19.5)\n",
            "Requirement already satisfied: blis<0.5.0,>=0.4.0 in /usr/local/lib/python3.7/dist-packages (from spacy>=2.2.2->en_core_web_sm==2.2.5) (0.4.1)\n",
            "Requirement already satisfied: tqdm<5.0.0,>=4.38.0 in /usr/local/lib/python3.7/dist-packages (from spacy>=2.2.2->en_core_web_sm==2.2.5) (4.62.3)\n",
            "Requirement already satisfied: wasabi<1.1.0,>=0.4.0 in /usr/local/lib/python3.7/dist-packages (from spacy>=2.2.2->en_core_web_sm==2.2.5) (0.8.2)\n",
            "Requirement already satisfied: importlib-metadata>=0.20 in /usr/local/lib/python3.7/dist-packages (from catalogue<1.1.0,>=0.0.7->spacy>=2.2.2->en_core_web_sm==2.2.5) (4.8.2)\n",
            "Requirement already satisfied: zipp>=0.5 in /usr/local/lib/python3.7/dist-packages (from importlib-metadata>=0.20->catalogue<1.1.0,>=0.0.7->spacy>=2.2.2->en_core_web_sm==2.2.5) (3.6.0)\n",
            "Requirement already satisfied: typing-extensions>=3.6.4 in /usr/local/lib/python3.7/dist-packages (from importlib-metadata>=0.20->catalogue<1.1.0,>=0.0.7->spacy>=2.2.2->en_core_web_sm==2.2.5) (3.10.0.2)\n",
            "Requirement already satisfied: urllib3!=1.25.0,!=1.25.1,<1.26,>=1.21.1 in /usr/local/lib/python3.7/dist-packages (from requests<3.0.0,>=2.13.0->spacy>=2.2.2->en_core_web_sm==2.2.5) (1.24.3)\n",
            "Requirement already satisfied: chardet<4,>=3.0.2 in /usr/local/lib/python3.7/dist-packages (from requests<3.0.0,>=2.13.0->spacy>=2.2.2->en_core_web_sm==2.2.5) (3.0.4)\n",
            "Requirement already satisfied: idna<3,>=2.5 in /usr/local/lib/python3.7/dist-packages (from requests<3.0.0,>=2.13.0->spacy>=2.2.2->en_core_web_sm==2.2.5) (2.10)\n",
            "Requirement already satisfied: certifi>=2017.4.17 in /usr/local/lib/python3.7/dist-packages (from requests<3.0.0,>=2.13.0->spacy>=2.2.2->en_core_web_sm==2.2.5) (2021.10.8)\n",
            "\u001b[38;5;2m✔ Download and installation successful\u001b[0m\n",
            "You can now load the model via spacy.load('en_core_web_sm')\n"
          ]
        }
      ]
    },
    {
      "cell_type": "code",
      "metadata": {
        "id": "iUXOrYzwJk8e"
      },
      "source": [
        "from tqdm.auto import tqdm\n",
        "tqdm.pandas()"
      ],
      "execution_count": 7,
      "outputs": []
    },
    {
      "cell_type": "code",
      "metadata": {
        "id": "tszmQUzfE8d_"
      },
      "source": [
        "import spacy\n",
        "nlp = spacy.load('en_core_web_sm')"
      ],
      "execution_count": 8,
      "outputs": []
    },
    {
      "cell_type": "code",
      "metadata": {
        "colab": {
          "base_uri": "https://localhost:8080/"
        },
        "id": "8370x0YrFXo2",
        "outputId": "69ee23bd-e907-4be5-cbc3-869b33b409f8"
      },
      "source": [
        "import nltk\n",
        "nltk.download('stopwords')\n",
        "\n",
        "from nltk.corpus import stopwords\n",
        "STOPS = stopwords.words('english')"
      ],
      "execution_count": 9,
      "outputs": [
        {
          "output_type": "stream",
          "name": "stdout",
          "text": [
            "[nltk_data] Downloading package stopwords to /root/nltk_data...\n",
            "[nltk_data]   Unzipping corpora/stopwords.zip.\n"
          ]
        }
      ]
    },
    {
      "cell_type": "code",
      "metadata": {
        "colab": {
          "base_uri": "https://localhost:8080/",
          "height": 49,
          "referenced_widgets": [
            "ac8688003ddc42ebb2b6734c7924f67f",
            "493a6e170ea4487c807787e6f7abad98",
            "6dad7bd845b9439bb1b303919bab0cd0",
            "cd11f8fb7bf7468794fd2af81f6d4d23",
            "53fc5a05526d46f8b7e8d070a8c340e1",
            "f0775eeba389475b8016b9de8a3b5f66",
            "b7f657f9d4f24d2d86514e0e5087692a",
            "336c6bdee5a241d9ad74bbb9b6071427",
            "def0e3bec37c4aac8aca38ff58f16e1f",
            "ac41cd7a491041159e0221f7a91b4c07",
            "8ef3748884104d7bb473b60e1d1778f9"
          ]
        },
        "id": "SrqrV5f6GNHl",
        "outputId": "f1d0191f-d184-46cb-cf8e-dc9da9f64c09"
      },
      "source": [
        "from collections import Counter\n",
        "\n",
        "\n",
        "texts = df.reviewText.str.lower()\n",
        "lemmatized = texts.progress_apply(lambda x: ' '.join([t.text for t in nlp(x) if t.pos_ != 'PUNCT']))\n",
        "\n",
        "def extract_words(texts):\n",
        "    counter = []\n",
        "    for text in tqdm(texts):\n",
        "        text = nlp(text)\n",
        "        tokens = [t.text for t in text if t.text not in STOPS and t.pos_ == 'NOUN']\n",
        "        counter.extend(tokens)\n",
        "    return Counter(counter)"
      ],
      "execution_count": 10,
      "outputs": [
        {
          "output_type": "display_data",
          "data": {
            "application/vnd.jupyter.widget-view+json": {
              "model_id": "ac8688003ddc42ebb2b6734c7924f67f",
              "version_minor": 0,
              "version_major": 2
            },
            "text/plain": [
              "  0%|          | 0/10261 [00:00<?, ?it/s]"
            ]
          },
          "metadata": {}
        }
      ]
    },
    {
      "cell_type": "code",
      "metadata": {
        "colab": {
          "base_uri": "https://localhost:8080/",
          "height": 49,
          "referenced_widgets": [
            "2da1677f6c4d47e381070fd4f8454819",
            "9f287ec0907740d684c0d02e9c929fda",
            "051dbc310f06415386a969791ab4d594",
            "5d92841219904242b7de408646c71bd8",
            "cde3f2aeec5b4c26a83f1030d605d284",
            "f4ee555ce9fc45aaae5b00bff568b30f",
            "7263dfd7139949d6b35a65ac9279e799",
            "c7b22fc6eaf34842b121a4d936c3e8e5",
            "485b75d8eb4c4bb3bef47f67cc67e518",
            "40b02f31252a4a59b2d1d749d30e14ee",
            "397edd917af94e7da5221ab37620acde"
          ]
        },
        "id": "H24GoA0AGVDF",
        "outputId": "a5c7ae1c-cb04-47a6-ce92-a48707c31d50"
      },
      "source": [
        "counter = extract_words(lemmatized)"
      ],
      "execution_count": 11,
      "outputs": [
        {
          "output_type": "display_data",
          "data": {
            "application/vnd.jupyter.widget-view+json": {
              "model_id": "2da1677f6c4d47e381070fd4f8454819",
              "version_minor": 0,
              "version_major": 2
            },
            "text/plain": [
              "  0%|          | 0/10261 [00:00<?, ?it/s]"
            ]
          },
          "metadata": {}
        }
      ]
    },
    {
      "cell_type": "code",
      "metadata": {
        "colab": {
          "base_uri": "https://localhost:8080/"
        },
        "id": "KCU1xcZWnMEz",
        "outputId": "38071b13-10a0-4293-8b18-9b654c64b423"
      },
      "source": [
        "counter.most_common(10)"
      ],
      "execution_count": 12,
      "outputs": [
        {
          "output_type": "execute_result",
          "data": {
            "text/plain": [
              "[('guitar', 5219),\n",
              " ('strings', 3322),\n",
              " ('pedal', 2493),\n",
              " ('price', 2152),\n",
              " ('sound', 2132),\n",
              " ('amp', 1857),\n",
              " ('quality', 1757),\n",
              " ('time', 1528),\n",
              " ('tone', 1493),\n",
              " ('one', 1448)]"
            ]
          },
          "metadata": {},
          "execution_count": 12
        }
      ]
    },
    {
      "cell_type": "markdown",
      "metadata": {
        "id": "bIYsv05FK_v3"
      },
      "source": [
        "Как видим, мы действительно выделили что-то похожее на нужные нам вещи, но в них попадают и другие частые аспекты: цена и тд, что в настоящий момент нам не надо.  Давайте попробуем сделать то же самое с названиями из метаданых:"
      ]
    },
    {
      "cell_type": "code",
      "metadata": {
        "colab": {
          "base_uri": "https://localhost:8080/",
          "height": 49,
          "referenced_widgets": [
            "ead5c4a4ed074c09aa6a1f903db8a9c0",
            "2986e78d45cd4f3092978457654a5f09",
            "ae23d4effd78405882e318930f9ccb4c",
            "21c52981767c4769b88503e3e2bcd422",
            "b998ceb7b35c4cf2954ca0abfcf5dea6",
            "c7882d136270458a9686236047a7ad41",
            "eac779b664db4f938f1a360e13d6f528",
            "e7af8bcbb2944f4aa61f9c1da92d8d26",
            "4aff7a98e1304a02bc4f2c3932f369bb",
            "2a4ce84065fa478fbebcad788901847b",
            "617f0f576e6948c8ab0507d19112c236"
          ]
        },
        "id": "zfnbx7OQC_s6",
        "outputId": "68326701-23fc-4b0c-9e88-73dcec3b081b"
      },
      "source": [
        "titles = meta.title.str.lower().to_list()\n",
        "title_counter = extract_words(titles)"
      ],
      "execution_count": 13,
      "outputs": [
        {
          "output_type": "display_data",
          "data": {
            "application/vnd.jupyter.widget-view+json": {
              "model_id": "ead5c4a4ed074c09aa6a1f903db8a9c0",
              "version_minor": 0,
              "version_major": 2
            },
            "text/plain": [
              "  0%|          | 0/120310 [00:00<?, ?it/s]"
            ]
          },
          "metadata": {}
        }
      ]
    },
    {
      "cell_type": "code",
      "metadata": {
        "colab": {
          "base_uri": "https://localhost:8080/"
        },
        "id": "L1CSh33sMKHF",
        "outputId": "a01282c9-ab9a-45ef-d5ec-0e4cce8825d0"
      },
      "source": [
        "title_kw = title_counter.most_common(20)\n",
        "title_kw"
      ],
      "execution_count": 14,
      "outputs": [
        {
          "output_type": "execute_result",
          "data": {
            "text/plain": [
              "[('guitar', 20591),\n",
              " ('case', 7334),\n",
              " ('pack', 4451),\n",
              " ('bag', 4256),\n",
              " ('cable', 4219),\n",
              " ('microphone', 3829),\n",
              " ('bass', 3749),\n",
              " ('pedal', 3412),\n",
              " ('strings', 3332),\n",
              " ('size', 2980),\n",
              " ('string', 2861),\n",
              " ('violin', 2744),\n",
              " ('inch', 2725),\n",
              " ('music', 2663),\n",
              " ('stand', 2628),\n",
              " ('audio', 2538),\n",
              " ('light', 2440),\n",
              " ('strap', 2397),\n",
              " ('system', 2373),\n",
              " ('instrument', 2372)]"
            ]
          },
          "metadata": {},
          "execution_count": 14
        }
      ]
    },
    {
      "cell_type": "markdown",
      "metadata": {
        "id": "SvIIs_CsRjiR"
      },
      "source": [
        "Это выглядит уже прям очень хорошо! Но мы не учитываем частотных сочетаний, наверное стоит достать частотные биграммы: воспользуемся методом из первой домашки)"
      ]
    },
    {
      "cell_type": "code",
      "metadata": {
        "colab": {
          "base_uri": "https://localhost:8080/"
        },
        "id": "pohDtyHNlSo5",
        "outputId": "c5f50659-476a-4885-e013-ee703206fe8f"
      },
      "source": [
        "from sklearn.feature_extraction.text import CountVectorizer, TfidfTransformer\n",
        "\n",
        "\n",
        "cv = CountVectorizer(max_df=0.85, stop_words=STOPS, max_features=10000, ngram_range=(2,2))\n",
        "word_count_vector = cv.fit_transform(lemmatized.to_list())\n",
        "\n",
        "tfidf_transformer = TfidfTransformer(smooth_idf=True, use_idf=True)\n",
        "tfidf_transformer.fit(word_count_vector)"
      ],
      "execution_count": 15,
      "outputs": [
        {
          "output_type": "execute_result",
          "data": {
            "text/plain": [
              "TfidfTransformer()"
            ]
          },
          "metadata": {},
          "execution_count": 15
        }
      ]
    },
    {
      "cell_type": "code",
      "metadata": {
        "id": "0OknJZTOn78l"
      },
      "source": [
        "def sort_coo(coo_matrix):\n",
        "    tuples = zip(coo_matrix.col, coo_matrix.data)\n",
        "    return sorted(tuples, key=lambda x: (x[1], x[0]), reverse=True)\n",
        "\n",
        "def extract_topn_from_vector(feature_names, sorted_items, tol=0.1):\n",
        "    \"\"\"get the feature names and tf-idf score of items\"\"\"\n",
        "    \n",
        "    sorted_items = [item for item in sorted_items if item[1] > tol]  \n",
        "\n",
        "    score_vals = []\n",
        "    feature_vals = []\n",
        "\n",
        "    for idx, score in sorted_items:\n",
        "        fname = feature_names[idx]\n",
        "        \n",
        "        #keep track of feature name and its corresponding score\n",
        "        score_vals.append(round(score, 3))\n",
        "        feature_vals.append(feature_names[idx])\n",
        "\n",
        "    #create a tuples of feature,score\n",
        "    results= {}\n",
        "    for idx in range(len(feature_vals)):\n",
        "        results[feature_vals[idx]]=score_vals[idx]\n",
        "    \n",
        "    return results"
      ],
      "execution_count": 16,
      "outputs": []
    },
    {
      "cell_type": "code",
      "metadata": {
        "id": "t0HjJwBhn_6b"
      },
      "source": [
        "def tfidf_keywords(text, tol=0.1):\n",
        "    feature_names = cv.get_feature_names_out()\n",
        "    tf_idf_vector = tfidf_transformer.transform(cv.transform([text]))\n",
        "    sorted_items = sort_coo(tf_idf_vector.tocoo())\n",
        "    keywords = extract_topn_from_vector(feature_names, sorted_items, tol)\n",
        "\n",
        "    return set(keywords.keys())"
      ],
      "execution_count": 17,
      "outputs": []
    },
    {
      "cell_type": "code",
      "metadata": {
        "id": "GfHOQNByoCSP"
      },
      "source": [
        "kw = tfidf_keywords(' '.join(meta.title.to_list()), tol=0.07)"
      ],
      "execution_count": 18,
      "outputs": []
    },
    {
      "cell_type": "code",
      "metadata": {
        "colab": {
          "base_uri": "https://localhost:8080/"
        },
        "id": "o2tdCfZapVZ6",
        "outputId": "4d3f41fd-32e8-4248-aac3-a48528cc0c87"
      },
      "source": [
        "kw"
      ],
      "execution_count": 19,
      "outputs": [
        {
          "output_type": "execute_result",
          "data": {
            "text/plain": [
              "{'acoustic electric',\n",
              " 'acoustic guitar',\n",
              " 'audio technica',\n",
              " 'bass guitar',\n",
              " 'classical guitar',\n",
              " 'condenser microphone',\n",
              " 'drum set',\n",
              " 'effects pedal',\n",
              " 'electric bass',\n",
              " 'electric guitar',\n",
              " 'full size',\n",
              " 'gig bag',\n",
              " 'guitar bass',\n",
              " 'guitar pick',\n",
              " 'guitar picks',\n",
              " 'guitar strap',\n",
              " 'guitar strings',\n",
              " 'instrument cable',\n",
              " 'microphone cable',\n",
              " 'music stand',\n",
              " 'polishing cloth',\n",
              " 'power supply',\n",
              " 'seymour duncan',\n",
              " 'snare drum',\n",
              " 'vic firth',\n",
              " 'xlr female'}"
            ]
          },
          "metadata": {},
          "execution_count": 19
        }
      ]
    },
    {
      "cell_type": "code",
      "metadata": {
        "id": "fb-OuvZ21HzA"
      },
      "source": [
        "kw = list(kw) + [i[0] for i in title_kw]"
      ],
      "execution_count": 20,
      "outputs": []
    },
    {
      "cell_type": "code",
      "metadata": {
        "colab": {
          "base_uri": "https://localhost:8080/"
        },
        "id": "sNlQKZQp10B6",
        "outputId": "748e3a60-a374-42d9-9c14-d37932bc968d"
      },
      "source": [
        "kw"
      ],
      "execution_count": 21,
      "outputs": [
        {
          "output_type": "execute_result",
          "data": {
            "text/plain": [
              "['guitar bass',\n",
              " 'guitar pick',\n",
              " 'polishing cloth',\n",
              " 'drum set',\n",
              " 'music stand',\n",
              " 'microphone cable',\n",
              " 'xlr female',\n",
              " 'effects pedal',\n",
              " 'audio technica',\n",
              " 'power supply',\n",
              " 'condenser microphone',\n",
              " 'seymour duncan',\n",
              " 'gig bag',\n",
              " 'vic firth',\n",
              " 'guitar picks',\n",
              " 'classical guitar',\n",
              " 'acoustic electric',\n",
              " 'snare drum',\n",
              " 'electric guitar',\n",
              " 'guitar strings',\n",
              " 'instrument cable',\n",
              " 'full size',\n",
              " 'guitar strap',\n",
              " 'acoustic guitar',\n",
              " 'bass guitar',\n",
              " 'electric bass',\n",
              " 'guitar',\n",
              " 'case',\n",
              " 'pack',\n",
              " 'bag',\n",
              " 'cable',\n",
              " 'microphone',\n",
              " 'bass',\n",
              " 'pedal',\n",
              " 'strings',\n",
              " 'size',\n",
              " 'string',\n",
              " 'violin',\n",
              " 'inch',\n",
              " 'music',\n",
              " 'stand',\n",
              " 'audio',\n",
              " 'light',\n",
              " 'strap',\n",
              " 'system',\n",
              " 'instrument']"
            ]
          },
          "metadata": {},
          "execution_count": 21
        }
      ]
    },
    {
      "cell_type": "markdown",
      "metadata": {
        "id": "192HU75NrXqz"
      },
      "source": [
        "Теперь у нас есть все аспекты, но можем видим, что в них попадают не только товары, но и другие вещи типа размера и тд, можем их убрать ручками\n"
      ]
    },
    {
      "cell_type": "code",
      "metadata": {
        "id": "H_xNieMj2DO8"
      },
      "source": [
        "kw.remove('size')\n",
        "kw.remove('music')\n",
        "kw.remove('inch')\n",
        "kw.remove('full size')\n",
        "kw.remove('light')"
      ],
      "execution_count": 23,
      "outputs": []
    },
    {
      "cell_type": "markdown",
      "metadata": {
        "id": "XwkaoQZ92S_5"
      },
      "source": [
        "По идее нам хватит и такого, но хочется попробовать достать компании, чтобы понимать про какие именно инструменты что-то говорят, давайте попробуем достать все штуки, где несколько слов подряд идут с большой буквы - так выделим компании и названия товаров"
      ]
    },
    {
      "cell_type": "code",
      "metadata": {
        "id": "ORCW5JXj2SGg"
      },
      "source": [
        "import re\n",
        "\n",
        "def get_names(text):\n",
        "    text = ' '.join([t.text for t in nlp(text)])\n",
        "    return set([i.strip() for i in re.findall('((?:[A-Z][a-z]*?(?:\\s|\\b)){2,3})', text) if 'I' not in i.split()])"
      ],
      "execution_count": 24,
      "outputs": []
    },
    {
      "cell_type": "markdown",
      "metadata": {
        "id": "z0A-lEF5K0az"
      },
      "source": [
        "Проверим:"
      ]
    },
    {
      "cell_type": "code",
      "metadata": {
        "colab": {
          "base_uri": "https://localhost:8080/",
          "height": 116
        },
        "id": "OvS9f89G5ycG",
        "outputId": "23ebc681-0bdd-4799-fe61-d56581090be2"
      },
      "source": [
        "df.reviewText[7]"
      ],
      "execution_count": 25,
      "outputs": [
        {
          "output_type": "execute_result",
          "data": {
            "application/vnd.google.colaboratory.intrinsic+json": {
              "type": "string"
            },
            "text/plain": [
              "\"I now use this cable to run from the output of my pedal chain to the input of my Fender Amp. After I bought Monster Cable to hook up my pedal board I thought I would try another one and update my guitar. I had been using a high end Planet Waves cable that I bought in the 1980's... Once I found out the input jacks on the new Monster cable didn't fit into the Fender Strat jack I was a little disappointed... I didn't return it and as stated I use it for the output on the pedal board. Save your money... I went back to my Planet Waves Cable...I payed $30.00 back in the eighties for the Planet Waves which now comes in at around $50.00. What I'm getting at is you get what you pay for. I thought Waves was a lot of money back in the day...but I haven't bought a guitar cable since this one...20 plus years and still working...Planet Waves wins.\""
            ]
          },
          "metadata": {},
          "execution_count": 25
        }
      ]
    },
    {
      "cell_type": "code",
      "metadata": {
        "colab": {
          "base_uri": "https://localhost:8080/"
        },
        "id": "IfuuvL6z5sAk",
        "outputId": "090a18c1-d5b3-4341-8849-22f280bae40f"
      },
      "source": [
        "names = get_names(df.reviewText[7])\n",
        "names"
      ],
      "execution_count": 26,
      "outputs": [
        {
          "output_type": "execute_result",
          "data": {
            "text/plain": [
              "{'Fender Amp',\n",
              " 'Fender Strat',\n",
              " 'Monster Cable',\n",
              " 'Planet Waves',\n",
              " 'Planet Waves Cable'}"
            ]
          },
          "metadata": {},
          "execution_count": 26
        }
      ]
    },
    {
      "cell_type": "markdown",
      "metadata": {
        "id": "qiJ21jbHLBa6"
      },
      "source": [
        "Ура  мы выделили что-то нормальное. Теперь у нас есть два пути: \n",
        "1. Отфильтровать все наши полученные названия и оставить только те, где есть указание на один из товаров из уже выделенных нами аспектов\n",
        "2. Оставить все выделенные названия\n",
        "\n",
        "Мне кажется, что можно оставить все названия, потому что часто в отзывах продукты могут упоминаться только по нахванию компании (см. пример выше, просто `Planet Waves` помимо `Planet Waves cable`, когда сравниваются разные кабели)\n",
        "\n",
        "Если же мы отсортируем и оставим только те упоминания, где встречаются наши аспекты, выделенные заранее, то такие упоминания мы потеряем, зато наверное лучше отделим аспекты от рандомных упоминаний.. (С другой стороны каков шанс, что 2-3 слова подряд с большой буквы это что-то другое кроме как товара?) \n",
        "\n",
        "Но пойду по более safe пути и лучше найду меньше, но точнее:"
      ]
    },
    {
      "cell_type": "code",
      "metadata": {
        "id": "4CaNPSFO7hRz"
      },
      "source": [
        "def product_intersection(aspects, names):\n",
        "    filtered_names = []\n",
        "    for aspect in aspects:\n",
        "        for name in names:\n",
        "            if aspect in name.lower():\n",
        "                filtered_names.append(' '.join([n.lower() for n in name.split() if n.lower() not in STOPS]))\n",
        "    return filtered_names"
      ],
      "execution_count": 27,
      "outputs": []
    },
    {
      "cell_type": "markdown",
      "metadata": {
        "id": "Wf6FGVQnMUdE"
      },
      "source": [
        "Снова проверим"
      ]
    },
    {
      "cell_type": "code",
      "metadata": {
        "colab": {
          "base_uri": "https://localhost:8080/"
        },
        "id": "9sH9XWvqMP8f",
        "outputId": "c48ce3fa-3c3d-40e2-f4f2-3127977dbf4a"
      },
      "source": [
        "product_intersection(kw, names)"
      ],
      "execution_count": 28,
      "outputs": [
        {
          "output_type": "execute_result",
          "data": {
            "text/plain": [
              "['planet waves cable', 'monster cable']"
            ]
          },
          "metadata": {},
          "execution_count": 28
        }
      ]
    },
    {
      "cell_type": "markdown",
      "metadata": {
        "id": "j97nOps_MpUU"
      },
      "source": [
        "Как видим, мы отфильтровали `Fender Amp`, что вроде как тоже продукт, что не очень( Можно его, конечно, добавить ручками, но мы не сможем сделать так со всеми товарами, так что будем считать, что его не существует.. "
      ]
    },
    {
      "cell_type": "code",
      "metadata": {
        "colab": {
          "base_uri": "https://localhost:8080/",
          "height": 49,
          "referenced_widgets": [
            "7a432ea46dbb4e1fb7ade7c94bc48136",
            "9140ad4f04a74d5b84fa8e8776b9e1d3",
            "8644cc2d51fe4968953a1dfbc3472b57",
            "4a687f2b7df44a90ba694ae15b1daff6",
            "30853201ad0841d7a8cb9a8f3d968f41",
            "590588ff5e484a53bdb718e3867a1f94",
            "c15374d6ff1f478f8dd67ca7d946a71d",
            "2ab423865d144fd88f8696919b868993",
            "badf7188e82b427bacd4fd7a23af6d35",
            "fe9fe3deaf1f40acb6e5746c701a0ce4",
            "3c0b823226ec47ceaac8be4fa0b3b016"
          ]
        },
        "id": "qiAL6GhZQSyK",
        "outputId": "b836950c-0d63-4bb6-aafa-7f5ec912d5a9"
      },
      "source": [
        "names = df.reviewText.progress_apply(lambda x: product_intersection(kw, get_names(x)))"
      ],
      "execution_count": 29,
      "outputs": [
        {
          "output_type": "display_data",
          "data": {
            "application/vnd.jupyter.widget-view+json": {
              "model_id": "7a432ea46dbb4e1fb7ade7c94bc48136",
              "version_minor": 0,
              "version_major": 2
            },
            "text/plain": [
              "  0%|          | 0/10261 [00:00<?, ?it/s]"
            ]
          },
          "metadata": {}
        }
      ]
    },
    {
      "cell_type": "code",
      "metadata": {
        "id": "ibWmhMZgQgpn"
      },
      "source": [
        "filtered_names = []\n",
        "for i in names.to_list():\n",
        "    if i != []:\n",
        "        filtered_names.extend(i)\n",
        "filtered_names = set(filtered_names)"
      ],
      "execution_count": 30,
      "outputs": []
    },
    {
      "cell_type": "code",
      "metadata": {
        "colab": {
          "base_uri": "https://localhost:8080/"
        },
        "id": "LMoA7LDOMXtA",
        "outputId": "78bf882f-7732-4cb0-c0ed-cab32c224565"
      },
      "source": [
        "list(filtered_names)[:10]"
      ],
      "execution_count": 31,
      "outputs": [
        {
          "output_type": "execute_result",
          "data": {
            "text/plain": [
              "['flexible microphone',\n",
              " 'tenor guitar',\n",
              " 'w guitar combo',\n",
              " 'guitar instrument cable',\n",
              " 'guitar combos',\n",
              " 'ernie ball strings',\n",
              " 'seymour duncan humbuckers',\n",
              " 'fender standard telecaster',\n",
              " 'dimebag darrels',\n",
              " 'standard']"
            ]
          },
          "metadata": {},
          "execution_count": 31
        }
      ]
    },
    {
      "cell_type": "markdown",
      "metadata": {
        "id": "ZtI74o6N1yYe"
      },
      "source": [
        "Выглядит ничего! Посмотрим на количество найденных слов:"
      ]
    },
    {
      "cell_type": "code",
      "metadata": {
        "colab": {
          "base_uri": "https://localhost:8080/"
        },
        "id": "vRC5VzB22UGA",
        "outputId": "9e53451a-9a0b-41e5-dc3e-b014a7f8095c"
      },
      "source": [
        "len(filtered_names)"
      ],
      "execution_count": 32,
      "outputs": [
        {
          "output_type": "execute_result",
          "data": {
            "text/plain": [
              "450"
            ]
          },
          "metadata": {},
          "execution_count": 32
        }
      ]
    },
    {
      "cell_type": "markdown",
      "metadata": {
        "id": "CBnyvzNCZ0nO"
      },
      "source": [
        "Соединим с нашими keywords:"
      ]
    },
    {
      "cell_type": "code",
      "metadata": {
        "id": "vkb6QAIpaB_c"
      },
      "source": [
        "new_kw = list(set(kw) | filtered_names)"
      ],
      "execution_count": 33,
      "outputs": []
    },
    {
      "cell_type": "code",
      "metadata": {
        "colab": {
          "base_uri": "https://localhost:8080/"
        },
        "id": "HBpE-bpdsp7V",
        "outputId": "1df80f86-5910-4d33-8e45-6212a37b301a"
      },
      "source": [
        "new_kw[:10]"
      ],
      "execution_count": 34,
      "outputs": [
        {
          "output_type": "execute_result",
          "data": {
            "text/plain": [
              "['mr scary guitars',\n",
              " 'electric bass guitar',\n",
              " 'flexible microphone',\n",
              " 'tenor guitar',\n",
              " 'drum set',\n",
              " 'electric violin',\n",
              " 'w guitar combo',\n",
              " 'guitar instrument cable',\n",
              " 'guitar combos',\n",
              " 'ernie ball strings']"
            ]
          },
          "metadata": {},
          "execution_count": 34
        }
      ]
    },
    {
      "cell_type": "code",
      "metadata": {
        "colab": {
          "base_uri": "https://localhost:8080/"
        },
        "id": "c34O1IaY06Zf",
        "outputId": "d33fba58-f534-464e-b947-39ec6e456c7f"
      },
      "source": [
        "len(new_kw)"
      ],
      "execution_count": 35,
      "outputs": [
        {
          "output_type": "execute_result",
          "data": {
            "text/plain": [
              "464"
            ]
          },
          "metadata": {},
          "execution_count": 35
        }
      ]
    },
    {
      "cell_type": "markdown",
      "metadata": {
        "id": "bTETaDrYadc4"
      },
      "source": [
        "Ура у нас есть список упоминаний! Давайте соберем нграммы с ними. Но сначала преобразуем тексты для удобства:"
      ]
    },
    {
      "cell_type": "code",
      "metadata": {
        "id": "nmtw4Ot6PTo2"
      },
      "source": [
        "gram2word_kw = {word: ''.join(word.split()) for word in new_kw}\n",
        "word2gram_kw = {y: x for (x , y) in gram2word_kw.items()}"
      ],
      "execution_count": 126,
      "outputs": []
    },
    {
      "cell_type": "code",
      "metadata": {
        "colab": {
          "base_uri": "https://localhost:8080/"
        },
        "id": "Weut7r9uQdNb",
        "outputId": "38e4502e-9d8e-4eb9-b731-5b7cefac65bc"
      },
      "source": [
        "list(gram2word_kw.items())[:5]"
      ],
      "execution_count": 127,
      "outputs": [
        {
          "output_type": "execute_result",
          "data": {
            "text/plain": [
              "[('mr scary guitars', 'mrscaryguitars'),\n",
              " ('electric bass guitar', 'electricbassguitar'),\n",
              " ('flexible microphone', 'flexiblemicrophone'),\n",
              " ('tenor guitar', 'tenorguitar'),\n",
              " ('drum set', 'drumset')]"
            ]
          },
          "metadata": {},
          "execution_count": 127
        }
      ]
    },
    {
      "cell_type": "code",
      "metadata": {
        "colab": {
          "base_uri": "https://localhost:8080/"
        },
        "id": "naI-lr9XQk_6",
        "outputId": "c5a442f0-c56a-4e7f-a99f-5085883ec0e0"
      },
      "source": [
        "list(word2gram_kw.items())[:5]"
      ],
      "execution_count": 128,
      "outputs": [
        {
          "output_type": "execute_result",
          "data": {
            "text/plain": [
              "[('mrscaryguitars', 'mr scary guitars'),\n",
              " ('electricbassguitar', 'electric bass guitar'),\n",
              " ('flexiblemicrophone', 'flexible microphone'),\n",
              " ('tenorguitar', 'tenor guitar'),\n",
              " ('drumset', 'drum set')]"
            ]
          },
          "metadata": {},
          "execution_count": 128
        }
      ]
    },
    {
      "cell_type": "code",
      "metadata": {
        "id": "g1NJpxJ-8AXS"
      },
      "source": [
        "def change_text(text, aspect, asp2word):\n",
        "    return re.sub(r'\\b{}\\b'.format(aspect), asp2word[aspect], text)\n",
        "    text_parts = text.split(f' {aspect} ')\n",
        "    return asp2word[aspect].join(text_parts)"
      ],
      "execution_count": 50,
      "outputs": []
    },
    {
      "cell_type": "code",
      "metadata": {
        "colab": {
          "base_uri": "https://localhost:8080/",
          "height": 116
        },
        "id": "qOZEiS_X8Yur",
        "outputId": "a8f581ff-295e-4387-c7b0-94dbe437a2de"
      },
      "source": [
        "change_text(lemmatized[7], 'planet waves cable', gram2word_kw)"
      ],
      "execution_count": 54,
      "outputs": [
        {
          "output_type": "execute_result",
          "data": {
            "application/vnd.google.colaboratory.intrinsic+json": {
              "type": "string"
            },
            "text/plain": [
              "\"i now use this cable to run from the output of my pedal chain to the input of my fender amp after i bought monster cable to hook up my pedal board i thought i would try another one and update my guitar i had been using a high end planetwavescable that i bought in the 1980 's once i found out the input jacks on the new monster cable did n't fit into the fender strat jack i was a little disappointed i did n't return it and as stated i use it for the output on the pedal board save your money i went back to my planetwavescable i payed $ 30.00 back in the eighties for the planet waves which now comes in at around $ 50.00 what i 'm getting at is you get what you pay for i thought waves was a lot of money back in the day but i have n't bought a guitar cable since this one 20 plus years and still working planet waves wins\""
            ]
          },
          "metadata": {},
          "execution_count": 54
        }
      ]
    },
    {
      "cell_type": "code",
      "metadata": {
        "id": "1ydUpSYL7IVp"
      },
      "source": [
        "def get_ngrams(text, aspect):\n",
        "    ngrams = []\n",
        "    text_parts = text.split(aspect)\n",
        "    # print(text_parts)\n",
        "    for i, part in enumerate(text_parts):\n",
        "        # print('part:', part)\n",
        "        if part == '' or part == ' ':\n",
        "            continue\n",
        "        tokens = part.split()\n",
        "        if i == 0:\n",
        "            # print(0)\n",
        "            grams = tokens[(-2 if len(tokens) >=2 else -1):]\n",
        "            ngrams.append(grams[-1] + f' {aspect}')\n",
        "            ngrams.append(' '.join(grams) + f' {aspect}')\n",
        "        elif i != len(text_parts)-1:\n",
        "            # print(1)\n",
        "            # left context\n",
        "            grams = tokens[:(2 if len(tokens) >=2 else 1):]\n",
        "            ngrams.append(f'{aspect} ' + grams[0])\n",
        "            ngrams.append(f'{aspect} ' + ' '.join(grams))\n",
        "\n",
        "            # right context\n",
        "            grams = tokens[(-2 if len(tokens) >=2 else -1):]\n",
        "            ngrams.append(grams[-1] + f' {aspect}')\n",
        "            ngrams.append(' '.join(grams) + f' {aspect}')\n",
        "        else:\n",
        "            # print(2)\n",
        "            grams = tokens[:(2 if len(tokens) >=2 else 1):]\n",
        "            ngrams.append(f'{aspect} ' + grams[0])\n",
        "            ngrams.append(f'{aspect} ' + ' '.join(grams))\n",
        "    return ngrams"
      ],
      "execution_count": 58,
      "outputs": []
    },
    {
      "cell_type": "markdown",
      "metadata": {
        "id": "OPEI_tamD8GC"
      },
      "source": [
        "Проверим:"
      ]
    },
    {
      "cell_type": "code",
      "metadata": {
        "colab": {
          "base_uri": "https://localhost:8080/",
          "height": 116
        },
        "id": "fnvD_izND-Rx",
        "outputId": "a4c6c77f-2a52-4997-feb2-f67ff356a0a7"
      },
      "source": [
        "lemmatized[7]"
      ],
      "execution_count": 59,
      "outputs": [
        {
          "output_type": "execute_result",
          "data": {
            "application/vnd.google.colaboratory.intrinsic+json": {
              "type": "string"
            },
            "text/plain": [
              "\"i now use this cable to run from the output of my pedal chain to the input of my fender amp after i bought monster cable to hook up my pedal board i thought i would try another one and update my guitar i had been using a high end planet waves cable that i bought in the 1980 's once i found out the input jacks on the new monster cable did n't fit into the fender strat jack i was a little disappointed i did n't return it and as stated i use it for the output on the pedal board save your money i went back to my planet waves cable i payed $ 30.00 back in the eighties for the planet waves which now comes in at around $ 50.00 what i 'm getting at is you get what you pay for i thought waves was a lot of money back in the day but i have n't bought a guitar cable since this one 20 plus years and still working planet waves wins\""
            ]
          },
          "metadata": {},
          "execution_count": 59
        }
      ]
    },
    {
      "cell_type": "code",
      "metadata": {
        "colab": {
          "base_uri": "https://localhost:8080/"
        },
        "id": "XOrzDIkHAymr",
        "outputId": "045b0e69-b430-4109-dca9-4de38a823a69"
      },
      "source": [
        "get_ngrams(lemmatized[7], 'planet waves cable')"
      ],
      "execution_count": 60,
      "outputs": [
        {
          "output_type": "execute_result",
          "data": {
            "text/plain": [
              "['end planet waves cable',\n",
              " 'high end planet waves cable',\n",
              " 'planet waves cable that',\n",
              " 'planet waves cable that i',\n",
              " 'my planet waves cable',\n",
              " 'to my planet waves cable',\n",
              " 'planet waves cable i',\n",
              " 'planet waves cable i payed']"
            ]
          },
          "metadata": {},
          "execution_count": 60
        }
      ]
    },
    {
      "cell_type": "code",
      "metadata": {
        "colab": {
          "base_uri": "https://localhost:8080/"
        },
        "id": "S6BwM-ITEEt2",
        "outputId": "135ec1ea-ec51-45d7-af24-1b2a76b198e2"
      },
      "source": [
        "get_ngrams(lemmatized[7], 'guitar')"
      ],
      "execution_count": 61,
      "outputs": [
        {
          "output_type": "execute_result",
          "data": {
            "text/plain": [
              "['my guitar',\n",
              " 'update my guitar',\n",
              " 'guitar i',\n",
              " 'guitar i had',\n",
              " 'a guitar',\n",
              " 'bought a guitar',\n",
              " 'guitar cable',\n",
              " 'guitar cable since']"
            ]
          },
          "metadata": {},
          "execution_count": 61
        }
      ]
    },
    {
      "cell_type": "markdown",
      "metadata": {
        "id": "ZQ9TapiaEJY2"
      },
      "source": [
        "Отлично! Теперь можем достать все нграммы из всех текстов"
      ]
    },
    {
      "cell_type": "code",
      "metadata": {
        "id": "3HMuijvl-MTO"
      },
      "source": [
        "def process_text(text, aspects, asp2word):\n",
        "    for aspect in aspects:\n",
        "        text = change_text(text, aspect, gram2word_kw)\n",
        "    return text"
      ],
      "execution_count": 64,
      "outputs": []
    },
    {
      "cell_type": "code",
      "metadata": {
        "colab": {
          "base_uri": "https://localhost:8080/",
          "height": 49,
          "referenced_widgets": [
            "213e0b334c194a87a6afeb7219e4e2fe",
            "e1881d0950cf473992adee924a00beaf",
            "845908686a7646a2849b04c3b159ef4a",
            "ba2f1149994e4882879ba038a2075232",
            "ea286574991349dba01e9af2dd9ae318",
            "8087c97b41f446dca929ededaa450a4f",
            "1a4d224e69564bbe85975aaec7c4b313",
            "c10df1959dc4484599141de5a89ac997",
            "9b303242783848008fd4c99d6aff7a37",
            "bfa75f94b4f44f338e8da13bc6192bf2",
            "635cc2c08cdd4791b4f2cd2e1f05e6e9"
          ]
        },
        "id": "k67YJABT-YZa",
        "outputId": "f3d94ea8-c2e6-419a-b281-069f529fb922"
      },
      "source": [
        "one_worded_texts = lemmatized.progress_apply(process_text, aspects=new_kw, asp2word=gram2word_kw)"
      ],
      "execution_count": 66,
      "outputs": [
        {
          "output_type": "display_data",
          "data": {
            "application/vnd.jupyter.widget-view+json": {
              "model_id": "213e0b334c194a87a6afeb7219e4e2fe",
              "version_minor": 0,
              "version_major": 2
            },
            "text/plain": [
              "  0%|          | 0/10261 [00:00<?, ?it/s]"
            ]
          },
          "metadata": {}
        }
      ]
    },
    {
      "cell_type": "code",
      "metadata": {
        "id": "QzRIsui_EiEH"
      },
      "source": [
        "def extract_ngrams(texts, aspects):\n",
        "    ngrams = []\n",
        "    progress_bar = tqdm(total=len(texts)*len(aspects))\n",
        "    for i, text in enumerate(texts):\n",
        "        for aspect in aspects:\n",
        "            if gram2word_kw[aspect] in text:\n",
        "                grams = get_ngrams(text, gram2word_kw[aspect])\n",
        "                ngrams.extend(grams)\n",
        "            progress_bar.update(1)\n",
        "    progress_bar.close()\n",
        "    return ngrams"
      ],
      "execution_count": 67,
      "outputs": []
    },
    {
      "cell_type": "code",
      "metadata": {
        "colab": {
          "base_uri": "https://localhost:8080/",
          "height": 49,
          "referenced_widgets": [
            "d68cb1a051f84cc4bbb51c6b7d30141a",
            "3f5f4119043c485a802a7ff4ed4ac54f",
            "68b76d7f81f843ae95946d909a4793e2",
            "4b69ab45e3a34b3abe003cc1402e82c1",
            "bf6315a9d41e4e5aa391eed745354254",
            "bbe0abf05a534b38b779b1df6ebb9923",
            "f7ae47b8e0fd4345a11e002a0acf1b85",
            "8a2b163973e5450394c7f5836f3261cd",
            "21975449dc59467c9968f41517afbef7",
            "1f0969130d1d49d088a5f246271d7a8a",
            "0395a496721e4492a8a09c55370b49f9"
          ]
        },
        "id": "h1jSvhN5E8JA",
        "outputId": "7559cd8e-8d3a-4506-d6d1-86f94664f7cd"
      },
      "source": [
        "grams = extract_ngrams(one_worded_texts, new_kw)"
      ],
      "execution_count": 68,
      "outputs": [
        {
          "output_type": "display_data",
          "data": {
            "application/vnd.jupyter.widget-view+json": {
              "model_id": "d68cb1a051f84cc4bbb51c6b7d30141a",
              "version_minor": 0,
              "version_major": 2
            },
            "text/plain": [
              "  0%|          | 0/4761104 [00:00<?, ?it/s]"
            ]
          },
          "metadata": {}
        }
      ]
    },
    {
      "cell_type": "code",
      "metadata": {
        "colab": {
          "base_uri": "https://localhost:8080/"
        },
        "id": "Zr3R4Fi7FJFX",
        "outputId": "5f3affcc-60df-489f-c1a0-82646e0b9a5f"
      },
      "source": [
        "grams[:10]"
      ],
      "execution_count": 69,
      "outputs": [
        {
          "output_type": "execute_result",
          "data": {
            "text/plain": [
              "['mike stand',\n",
              " 'the mike stand',\n",
              " 'stand secure',\n",
              " 'stand secure enough',\n",
              " 'connectors bass',\n",
              " 'gold connectors bass',\n",
              " 'bass sounds',\n",
              " 'bass sounds great',\n",
              " 'used monstercable',\n",
              " 'have used monstercable']"
            ]
          },
          "metadata": {},
          "execution_count": 69
        }
      ]
    },
    {
      "cell_type": "code",
      "metadata": {
        "colab": {
          "base_uri": "https://localhost:8080/"
        },
        "id": "V2ZTqa0-Ntkx",
        "outputId": "4c197699-12a9-40ce-c818-f6390872540a"
      },
      "source": [
        "len(grams)"
      ],
      "execution_count": 70,
      "outputs": [
        {
          "output_type": "execute_result",
          "data": {
            "text/plain": [
              "147364"
            ]
          },
          "metadata": {},
          "execution_count": 70
        }
      ]
    },
    {
      "cell_type": "markdown",
      "metadata": {
        "id": "c_EoxvmJNHpB"
      },
      "source": [
        "### Часть 3: метрики\n",
        "Теперь можем достать самые частотные нграммы и отранжировать их"
      ]
    },
    {
      "cell_type": "code",
      "metadata": {
        "id": "RXcwiCn_KXYo"
      },
      "source": [
        "from nltk.collocations import *"
      ],
      "execution_count": 73,
      "outputs": []
    },
    {
      "cell_type": "code",
      "metadata": {
        "id": "NvRnKa6KNZF8"
      },
      "source": [
        "bigram_measures = nltk.collocations.BigramAssocMeasures()\n",
        "trigram_measures = nltk.collocations.TrigramAssocMeasures()"
      ],
      "execution_count": 75,
      "outputs": []
    },
    {
      "cell_type": "code",
      "metadata": {
        "id": "v8EbzfpEOpH7"
      },
      "source": [
        "bigram_finder = BigramCollocationFinder.from_documents(one_worded_texts.apply(str.split))\n",
        "trigram_finder = TrigramCollocationFinder.from_documents(one_worded_texts.apply(str.split))\n",
        "# отфильтруем по количеству встречаемости\n",
        "bigram_finder.apply_freq_filter(3)\n",
        "trigram_finder.apply_freq_filter(3)"
      ],
      "execution_count": 314,
      "outputs": []
    },
    {
      "cell_type": "markdown",
      "metadata": {
        "id": "l8LyWZ7rDPWo"
      },
      "source": [
        "#### PMI"
      ]
    },
    {
      "cell_type": "code",
      "metadata": {
        "id": "-jCeMY50Rw3k"
      },
      "source": [
        "bigrams_pmi = bigram_finder.score_ngrams(bigram_measures.pmi)\n",
        "trigrams_pmi = trigram_finder.score_ngrams(trigram_measures.pmi)"
      ],
      "execution_count": 315,
      "outputs": []
    },
    {
      "cell_type": "markdown",
      "metadata": {
        "id": "PXY82G0vCvxQ"
      },
      "source": [
        "Напишем вспомогательную функцию для фильтрации.\n",
        "\n",
        "Спойлер, там много ранломных слов-характеристик гитар, поэтому попробуем почистить еще и на цифры и пунктцуацию + проверим на часть речи для однословных аспектов\n"
      ]
    },
    {
      "cell_type": "code",
      "metadata": {
        "id": "t-rD6L-PCvDK"
      },
      "source": [
        "def check_pos(gram, aspects):\n",
        "    tokens = gram.split()\n",
        "    for i, t in enumerate(nlp(gram)):\n",
        "        if t.text in aspects:\n",
        "            if aspects[t.text] == t.text and t.pos == 'NOUN':\n",
        "                return gram\n",
        "            else:\n",
        "                tokens[i] = aspects[t.text]\n",
        "            return ' '.join(tokens)\n",
        "    return False\n",
        "\n",
        "\n",
        "def filter_grams(collocations, word2asp):\n",
        "    filtered = []\n",
        "    for i, collocation in enumerate(collocations):\n",
        "        col = []\n",
        "        aspect = False\n",
        "        alpha = True\n",
        "        for j, word in enumerate(collocation[0]):\n",
        "            if not word.isalpha():\n",
        "                alpha = False\n",
        "            elif word in word2asp:\n",
        "                aspect = True\n",
        "            col.append(word)\n",
        "        col = ' '.join(col)\n",
        "        if aspect and alpha:\n",
        "            checked = check_pos(col, word2asp)\n",
        "            if checked:\n",
        "                filtered.append((checked, collocation[1]))\n",
        "    return filtered"
      ],
      "execution_count": 316,
      "outputs": []
    },
    {
      "cell_type": "code",
      "metadata": {
        "colab": {
          "base_uri": "https://localhost:8080/"
        },
        "id": "Ry22sta_Soz2",
        "outputId": "fe47c7a5-2994-4e8b-ab52-ef4f4ffa82cc"
      },
      "source": [
        "filtered_bigrams = filter_grams(bigrams_pmi, word2gram_kw)\n",
        "filtered_bigrams[:10]"
      ],
      "execution_count": 317,
      "outputs": [
        {
          "output_type": "execute_result",
          "data": {
            "text/plain": [
              "[('lap steel guitar', 14.660289702802492),\n",
              " ('pro winder string winder', 13.256774073418867),\n",
              " ('m audio fast track', 12.686761914163682),\n",
              " ('tubular guitar stand', 12.589900374911096),\n",
              " ('bronze acoustic guitar strings', 12.333124959548984),\n",
              " ('tabletop mic stand', 12.302098063928359),\n",
              " ('slinky string set', 12.241977071490787),\n",
              " ('teach classical guitar', 11.83431910257754),\n",
              " ('adjustable microphone boom', 11.340987077321955),\n",
              " ('strap lock systems', 11.294444491384924)]"
            ]
          },
          "metadata": {},
          "execution_count": 317
        }
      ]
    },
    {
      "cell_type": "markdown",
      "metadata": {
        "id": "bav4acTgIklY"
      },
      "source": [
        "Ура выглядит хорошо! Проделаем то же самое для триграмм"
      ]
    },
    {
      "cell_type": "code",
      "metadata": {
        "colab": {
          "base_uri": "https://localhost:8080/"
        },
        "id": "5yibZMpCMaGt",
        "outputId": "e0e008f5-b0e5-4bcf-a677-26212f434470"
      },
      "source": [
        "filtered_trigrams = filter_grams(trigrams_pmi, word2gram_kw)\n",
        "filtered_trigrams[:10]"
      ],
      "execution_count": 318,
      "outputs": [
        {
          "output_type": "execute_result",
          "data": {
            "text/plain": [
              "[('tb adjustable microphone boom', 28.87574589804059),\n",
              " ('phosphor bronze acoustic guitar strings', 26.24729736981574),\n",
              " ('carbon fiber guitar picks', 25.539696694908564),\n",
              " ('dual design straplok system', 24.856510658099296),\n",
              " ('tripod boom microphone stand', 23.821590127993677),\n",
              " ('mi audio crunch', 23.679004715505247),\n",
              " ('daisy chain power supply', 21.74285409116392),\n",
              " ('pedal board real estate', 21.156149481757538),\n",
              " ('young guitar students', 20.80042252889421),\n",
              " ('instrument clip on chromatic', 20.668659546955546)]"
            ]
          },
          "metadata": {},
          "execution_count": 318
        }
      ]
    },
    {
      "cell_type": "markdown",
      "metadata": {
        "id": "xdihxULXOxYm"
      },
      "source": [
        "#### T-score"
      ]
    },
    {
      "cell_type": "code",
      "metadata": {
        "id": "2WBzYeZMCa2W"
      },
      "source": [
        "bigrams_t = bigram_finder.score_ngrams(bigram_measures.student_t)\n",
        "trigrams_t = trigram_finder.score_ngrams(trigram_measures.student_t)"
      ],
      "execution_count": 319,
      "outputs": []
    },
    {
      "cell_type": "code",
      "metadata": {
        "colab": {
          "base_uri": "https://localhost:8080/"
        },
        "id": "KE8VxCOuPi49",
        "outputId": "8ea43eac-ad90-4403-8c0c-bf6aa85b550d"
      },
      "source": [
        "filtered_bigrams = filter_grams(bigrams_t, word2gram_kw)\n",
        "filtered_bigrams[:10]"
      ],
      "execution_count": 320,
      "outputs": [
        {
          "output_type": "execute_result",
          "data": {
            "text/plain": [
              "[('this pedal', 25.990897256788507),\n",
              " ('the guitar', 23.475056174957828),\n",
              " ('my guitar', 22.20969285657442),\n",
              " ('these strings', 20.651455673530837),\n",
              " ('your guitar', 19.286466482445096),\n",
              " ('the strings', 18.269583778055985),\n",
              " ('my guitars', 15.32587494477202),\n",
              " ('the strap', 13.42787412798336),\n",
              " ('strings are', 13.339778501790741),\n",
              " ('this stand', 13.319164958316046)]"
            ]
          },
          "metadata": {},
          "execution_count": 320
        }
      ]
    },
    {
      "cell_type": "code",
      "metadata": {
        "colab": {
          "base_uri": "https://localhost:8080/"
        },
        "id": "XsI5vP1pPoUx",
        "outputId": "0d3648b4-181d-433c-cc4e-26d9c3128b22"
      },
      "source": [
        "filtered_trigrams = filter_grams(trigrams_t, word2gram_kw)\n",
        "filtered_trigrams[:10]"
      ],
      "execution_count": 321,
      "outputs": [
        {
          "output_type": "execute_result",
          "data": {
            "text/plain": [
              "[('of the guitar', 11.600245156359737),\n",
              " ('this pedal is', 11.536650894185016),\n",
              " ('on the guitar', 10.063423404407256),\n",
              " ('of my guitars', 8.81256633498553),\n",
              " ('on my guitar', 8.786368322589437),\n",
              " ('these strings are', 8.708129363478381),\n",
              " ('with this pedal', 7.4461958040451135),\n",
              " ('set of strings', 7.273999318774714),\n",
              " ('on the strings', 7.1671509903186035),\n",
              " ('the guitar and', 7.113562143599684)]"
            ]
          },
          "metadata": {},
          "execution_count": 321
        }
      ]
    },
    {
      "cell_type": "markdown",
      "metadata": {
        "id": "ZswhapdkPtwG"
      },
      "source": [
        "#### CHI"
      ]
    },
    {
      "cell_type": "code",
      "metadata": {
        "id": "GH9gF_7ZPrAW"
      },
      "source": [
        "bigrams_chi = bigram_finder.score_ngrams(bigram_measures.chi_sq)\n",
        "trigrams_chi = trigram_finder.score_ngrams(trigram_measures.chi_sq)"
      ],
      "execution_count": 322,
      "outputs": []
    },
    {
      "cell_type": "code",
      "metadata": {
        "colab": {
          "base_uri": "https://localhost:8080/"
        },
        "id": "XrrSCRYEQ5Gy",
        "outputId": "66298dce-9df3-4b4d-a2c1-86645f15e91b"
      },
      "source": [
        "filtered_bigrams = filter_grams(bigrams_chi, word2gram_kw)\n",
        "filtered_bigrams[:10]"
      ],
      "execution_count": 323,
      "outputs": [
        {
          "output_type": "execute_result",
          "data": {
            "text/plain": [
              "[('lap steel guitar', 77675.53637530934),\n",
              " ('strap locks', 44825.76471563754),\n",
              " ('bronze acoustic guitar strings', 30950.119863961834),\n",
              " ('pro winder string winder', 29360.59792895801),\n",
              " ('tubular guitar stand', 24654.727351118945),\n",
              " ('teach classical guitar', 21899.67762113828),\n",
              " ('m audio fast track', 19776.64582405132),\n",
              " ('this pedal', 17439.631129631747),\n",
              " ('industry standard', 16216.963894414754),\n",
              " ('tabletop mic stand', 15146.633000326743)]"
            ]
          },
          "metadata": {},
          "execution_count": 323
        }
      ]
    },
    {
      "cell_type": "code",
      "metadata": {
        "colab": {
          "base_uri": "https://localhost:8080/"
        },
        "id": "U1_aR9a0Q9qy",
        "outputId": "f4d79e2f-561f-4370-a44f-40df552ed6ec"
      },
      "source": [
        "filtered_bigrams = filter_grams(trigrams_chi, word2gram_kw)\n",
        "filtered_bigrams[:10]"
      ],
      "execution_count": 324,
      "outputs": [
        {
          "output_type": "execute_result",
          "data": {
            "text/plain": [
              "[('tb adjustable microphone boom', 1970269585.0449219),\n",
              " ('phosphor bronze acoustic guitar strings', 318933367.3908473),\n",
              " ('carbon fiber guitar picks', 146396650.14731613),\n",
              " ('dual design straplok system', 121511797.39825328),\n",
              " ('tripod boom microphone stand', 44478088.67961312),\n",
              " ('mi audio crunch', 40293127.49803647),\n",
              " ('daisy chain power supply', 10649229.24498211),\n",
              " ('young guitar students', 9131057.595971018),\n",
              " ('pedal board real estate', 7030159.66590833),\n",
              " ('instrument clip on chromatic', 5000435.500810749)]"
            ]
          },
          "metadata": {},
          "execution_count": 324
        }
      ]
    },
    {
      "cell_type": "markdown",
      "metadata": {
        "id": "Ixz0xEjKRIei"
      },
      "source": [
        "Лучше всего себя показал PMI, так что посмотрим на него получше. Объединим все полученные нграммы по нашим изначально вынутым аспектам (а не конкретным кпоминаниям продуктов)"
      ]
    },
    {
      "cell_type": "code",
      "metadata": {
        "id": "X4Jai6kvj1La"
      },
      "source": [
        "filtered_bigrams = filter_grams(bigram_finder.score_ngrams(bigram_measures.pmi), word2gram_kw)\n",
        "filtered_trigrams = filter_grams(trigram_finder.score_ngrams(trigram_measures.pmi), word2gram_kw)"
      ],
      "execution_count": 325,
      "outputs": []
    },
    {
      "cell_type": "code",
      "metadata": {
        "id": "yS7vimu8egC5"
      },
      "source": [
        "def sort_freq(categories):\n",
        "    for category, grams in categories.items():\n",
        "        categories[category] = sorted(grams, key=lambda x: x[1], reverse=True)\n",
        "    return categories\n",
        "    \n",
        "def combine_grams(ngrams, aspects, word2asp):\n",
        "    categories = {}\n",
        "    aspects = sorted(aspects, key=lambda x: len(x.split()), reverse=True)\n",
        "    for ngram in ngrams:\n",
        "        for aspect in aspects:\n",
        "            if aspect in ngram[0]:\n",
        "                if aspect not in categories:\n",
        "                    categories[aspect] = []\n",
        "                categories[aspect].append(ngram)\n",
        "    return sort_freq(categories)"
      ],
      "execution_count": 367,
      "outputs": []
    },
    {
      "cell_type": "code",
      "metadata": {
        "id": "5dedbQJBgzGh"
      },
      "source": [
        "categories = combine_grams(filtered_bigrams+filtered_trigrams, kw, word2gram_kw)"
      ],
      "execution_count": 368,
      "outputs": []
    },
    {
      "cell_type": "markdown",
      "metadata": {
        "id": "dsOTT7WpmowG"
      },
      "source": [
        "Посмотрим на 5 категорий:"
      ]
    },
    {
      "cell_type": "code",
      "metadata": {
        "colab": {
          "base_uri": "https://localhost:8080/"
        },
        "id": "fVhjU0AFebml",
        "outputId": "9faa5235-2dc9-483d-83f1-e28db83116f2"
      },
      "source": [
        "categories['guitar'][:10]"
      ],
      "execution_count": 371,
      "outputs": [
        {
          "output_type": "execute_result",
          "data": {
            "text/plain": [
              "[('phosphor bronze acoustic guitar strings', 26.24729736981574),\n",
              " ('carbon fiber guitar picks', 25.539696694908564),\n",
              " ('young guitar students', 20.80042252889421),\n",
              " ('pawn shop guitar', 20.037160191019776),\n",
              " ('your typical guitar pick', 19.43378818633741),\n",
              " ('typical guitar pick are', 18.46831095122346),\n",
              " ('les paul electric guitar', 18.21280033506963),\n",
              " ('laguna acoustic guitar they', 17.89408504552862),\n",
              " ('guitar pick are bigger', 17.455710914443824),\n",
              " ('studio album guitar', 17.45219769029863)]"
            ]
          },
          "metadata": {},
          "execution_count": 371
        }
      ]
    },
    {
      "cell_type": "code",
      "metadata": {
        "colab": {
          "base_uri": "https://localhost:8080/"
        },
        "id": "3dHH7lDJg_0f",
        "outputId": "da37c228-fb69-4e47-9ff2-43bceda73644"
      },
      "source": [
        "categories['pedal'][:10]"
      ],
      "execution_count": 372,
      "outputs": [
        {
          "output_type": "execute_result",
          "data": {
            "text/plain": [
              "[('pedal board real estate', 21.156149481757538),\n",
              " ('most pedal boards', 15.64611179550218),\n",
              " ('an expression pedal', 15.39324835965946),\n",
              " ('analog delay pedal', 14.953668676117822),\n",
              " ('effects pedal works great', 14.410955375797915),\n",
              " ('the voodoo lab pedal power', 14.278552938610332),\n",
              " ('volume wah pedal', 13.916823315838485),\n",
              " ('clean boost pedal', 13.020761136110732),\n",
              " ('gain distortion pedal', 12.938577545831269),\n",
              " ('an eq pedal', 11.91846877668872)]"
            ]
          },
          "metadata": {},
          "execution_count": 372
        }
      ]
    },
    {
      "cell_type": "code",
      "metadata": {
        "colab": {
          "base_uri": "https://localhost:8080/"
        },
        "id": "Rh13MHyvk7xE",
        "outputId": "f4e74e03-f7d0-493f-dc81-37d026d5ed34"
      },
      "source": [
        "categories['guitar strap'][:10]"
      ],
      "execution_count": 373,
      "outputs": [
        {
          "output_type": "execute_result",
          "data": {
            "text/plain": [
              "[('very nice guitar strap', 11.999642667200998),\n",
              " ('these guitar straps', 9.323676324954743),\n",
              " ('about a guitar strap', 8.818081693461366),\n",
              " ('my guitar straps', 8.220030813337715),\n",
              " ('this guitar strap is', 7.528782897627522),\n",
              " ('guitar strap button', 6.755148889143932),\n",
              " ('guitar strap but i', 6.746418907537446),\n",
              " ('guitar straps and', 6.697598110989382),\n",
              " ('on the guitar strap', 5.99814986635274),\n",
              " ('a guitar strap it', 5.287300230891276)]"
            ]
          },
          "metadata": {},
          "execution_count": 373
        }
      ]
    },
    {
      "cell_type": "code",
      "metadata": {
        "colab": {
          "base_uri": "https://localhost:8080/"
        },
        "id": "viNaNeftlui8",
        "outputId": "8f768c8e-a719-4349-e257-03a83cc0ee3b"
      },
      "source": [
        "categories['cable'][:10]"
      ],
      "execution_count": 374,
      "outputs": [
        {
          "output_type": "execute_result",
          "data": {
            "text/plain": [
              "[('an xlr cable', 13.580932623142303),\n",
              " ('higher quality cable', 12.975660650208443),\n",
              " ('high quality cable', 11.267172403293806),\n",
              " ('cable works fine', 11.210727107994472),\n",
              " ('cable to connect', 11.178908358277262),\n",
              " ('more expensive cable', 11.031079308911124),\n",
              " ('usb cable but', 11.004306792923668),\n",
              " ('cable itself is', 11.003505941563727),\n",
              " ('well made cable', 10.54371012135175),\n",
              " ('cable appears to', 10.529094713206131)]"
            ]
          },
          "metadata": {},
          "execution_count": 374
        }
      ]
    },
    {
      "cell_type": "code",
      "metadata": {
        "colab": {
          "base_uri": "https://localhost:8080/"
        },
        "id": "gKlsAMcLlSyZ",
        "outputId": "035d7e55-4591-487a-c7ce-32950fd3dc60"
      },
      "source": [
        "categories['microphone'][:10]"
      ],
      "execution_count": 375,
      "outputs": [
        {
          "output_type": "execute_result",
          "data": {
            "text/plain": [
              "[('tb adjustable microphone boom', 28.87574589804059),\n",
              " ('tripod boom microphone stand', 23.821590127993677),\n",
              " ('a mono microphone', 12.275393655761121),\n",
              " ('built in microphone', 11.958534857636021),\n",
              " ('all around microphone', 11.840508382902744),\n",
              " ('a dynamic microphone', 11.700699490493786),\n",
              " ('on microphone stands', 11.343173154013364),\n",
              " ('adjustable microphone boom', 11.340987077321955),\n",
              " ('boom microphone stand', 10.345724996328615),\n",
              " ('microphone works well', 10.149728803410035)]"
            ]
          },
          "metadata": {},
          "execution_count": 375
        }
      ]
    },
    {
      "cell_type": "markdown",
      "metadata": {
        "id": "kDLLAWq6noRa"
      },
      "source": [
        "Как видим, все работает не очень хорошо( Однако я бы связада это с особенностью отзывов: в них все же чаще описываются отдельные аспекты продукта (цена, качество и т.д.), а не товар в целом, поэтому упоминаний товаров в них мало => такой метод выделения по частотным словам из названий продуктов не очень работает. Дальше еще немного недостатков:\n",
        "\n",
        "+ конечно, способ выделения категорий, который я использую, не идеален, и можно было бы подумать что-то более sophisticated и точное, однако я решила, что для наших игрушечных примеров такой вариант подойдет\n",
        "\n",
        "+ корпус довольно маленький, что стоит учитывать при подсчете статистик: большинство продуктов встречаются только один раз, что, конечно, сильно влияет на частотность тех или иных терминов\n",
        "\n",
        "+ нужно подумать над фильтрацией, сейчас у нас есть две основные проблемы:    \n",
        "    + из-за того, что в английском языке к нас много grammatical ambiguity, в частности, `guitar` может быть как существительным так и прилагательным, поэтому при выделении аспектов тяжело их фильтровать и даже частеречная разметка не всегда помогает\n",
        "    + сейчас в нграммы попадают много неописательных вещей, хорошо бы подумать, как их отфильтровать: например, по частеречной разметке (оставить только прилагательные и конструкции типа PRON + VERB + NE (ср. `I love guitar`, но что делать с артиклями? другими вещями которые попадаются между)/ NE + VERB + ADV (ср. `quitar works well`) и др. но придумывать такие шаблоны долго и не всегда получится все учесть\n",
        "\n",
        "\n",
        "Однако, видим и приятные вещи: например, мы видим и нужные нам сочетания, как `microphone works well`, `high quality cable`, `cable works fine`, `very nice guitar strap`, `effects pedal works great` и т.д.\n",
        "\n",
        "\n",
        "В целом, если исправить все перечисленные выше недочеты, то, кажется, метод сработает. При этом так мы скорее узнаем general мнения об ассортименте магазина, но если мы захотим посмотреть про конкретные товары, то можно будет перед подачей в выделитель коллокаций отфильтровать корпус по нужным товарам."
      ]
    },
    {
      "cell_type": "code",
      "metadata": {
        "id": "i8H-06rFrfl5"
      },
      "source": [
        ""
      ],
      "execution_count": null,
      "outputs": []
    }
  ]
}