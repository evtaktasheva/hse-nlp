{
  "nbformat": 4,
  "nbformat_minor": 0,
  "metadata": {
    "colab": {
      "name": "hse_nlp_HW1.ipynb",
      "provenance": [],
      "collapsed_sections": []
    },
    "kernelspec": {
      "name": "python3",
      "display_name": "Python 3"
    },
    "language_info": {
      "name": "python"
    }
  },
  "cells": [
    {
      "cell_type": "code",
      "metadata": {
        "colab": {
          "base_uri": "https://localhost:8080/"
        },
        "id": "BjonrkSaIteT",
        "outputId": "305416d5-64fb-45e5-dcea-0cdb67307139"
      },
      "source": [
        "from google.colab import drive\n",
        "drive.mount('/content/drive/')"
      ],
      "execution_count": 4,
      "outputs": [
        {
          "output_type": "stream",
          "name": "stdout",
          "text": [
            "Mounted at /content/drive/\n"
          ]
        }
      ]
    },
    {
      "cell_type": "code",
      "metadata": {
        "colab": {
          "base_uri": "https://localhost:8080/"
        },
        "id": "bGdhl9b6I9Yc",
        "outputId": "c0d53d83-eec6-4420-d07b-3ebd9e25aef0"
      },
      "source": [
        "%cd /content/drive/MyDrive/hse_nlp/"
      ],
      "execution_count": 5,
      "outputs": [
        {
          "output_type": "stream",
          "name": "stdout",
          "text": [
            "/content/drive/MyDrive/hse_nlp\n"
          ]
        }
      ]
    },
    {
      "cell_type": "code",
      "metadata": {
        "id": "p3LyVxpRHDsI"
      },
      "source": [
        "import pandas as pd\n",
        "import numpy as np"
      ],
      "execution_count": 551,
      "outputs": []
    },
    {
      "cell_type": "markdown",
      "metadata": {
        "id": "4JxOCuC3KGL6"
      },
      "source": [
        "# 1. Данные\n",
        "Возьмем [датасет](https://www.kaggle.com/harishcscode/all-news-articles-from-home-page-media-house) с новостями CNN с Кэггла\n",
        "\n",
        "Посмотрим на него:\n"
      ]
    },
    {
      "cell_type": "code",
      "metadata": {
        "id": "zKOOfgehJHLd"
      },
      "source": [
        "data = pd.read_csv('cnn.csv', index_col=0)"
      ],
      "execution_count": 35,
      "outputs": []
    },
    {
      "cell_type": "code",
      "metadata": {
        "colab": {
          "base_uri": "https://localhost:8080/",
          "height": 597
        },
        "id": "NHiBT86OJ8j5",
        "outputId": "a887434c-4ecd-4eae-f449-2d7fa4a124b3"
      },
      "source": [
        "data"
      ],
      "execution_count": 36,
      "outputs": [
        {
          "output_type": "execute_result",
          "data": {
            "text/html": [
              "<div>\n",
              "<style scoped>\n",
              "    .dataframe tbody tr th:only-of-type {\n",
              "        vertical-align: middle;\n",
              "    }\n",
              "\n",
              "    .dataframe tbody tr th {\n",
              "        vertical-align: top;\n",
              "    }\n",
              "\n",
              "    .dataframe thead th {\n",
              "        text-align: right;\n",
              "    }\n",
              "</style>\n",
              "<table border=\"1\" class=\"dataframe\">\n",
              "  <thead>\n",
              "    <tr style=\"text-align: right;\">\n",
              "      <th></th>\n",
              "      <th>KEYWORDS</th>\n",
              "      <th>SUMMARY</th>\n",
              "      <th>TEXT</th>\n",
              "      <th>TITLE</th>\n",
              "      <th>URL</th>\n",
              "    </tr>\n",
              "  </thead>\n",
              "  <tbody>\n",
              "    <tr>\n",
              "      <th>0</th>\n",
              "      <td>['energy', 'sugars', 'bars', 'grams', 'syrup',...</td>\n",
              "      <td>Story highlights Don't be fooled by the word \"...</td>\n",
              "      <td>Story highlights Don't be fooled by the word \"...</td>\n",
              "      <td>Are energy bars healthy?</td>\n",
              "      <td>https://www.cnn.com/2017/08/25/health/energy-b...</td>\n",
              "    </tr>\n",
              "    <tr>\n",
              "      <th>1</th>\n",
              "      <td>['facebook', 'whats', 'world', 'unfolds', 'tam...</td>\n",
              "      <td>Chat with us in Facebook Messenger.\\nFind out ...</td>\n",
              "      <td>Chat with us in Facebook Messenger. Find out w...</td>\n",
              "      <td>Tamagotchi is back</td>\n",
              "      <td>http://www.cnn.com/videos/cnnmoney/2017/10/10/...</td>\n",
              "    </tr>\n",
              "    <tr>\n",
              "      <th>2</th>\n",
              "      <td>['jedi', 'shots', 'rey', 'force', 'wars', 'sta...</td>\n",
              "      <td>ESPN's \"Monday Night Football\" had bears, viki...</td>\n",
              "      <td>ESPN's \"Monday Night Football\" had bears, viki...</td>\n",
              "      <td>'Star Wars: The Last Jedi' trailer debuts on '...</td>\n",
              "      <td>http://money.cnn.com/2017/10/09/media/star-war...</td>\n",
              "    </tr>\n",
              "    <tr>\n",
              "      <th>3</th>\n",
              "      <td>['clients', 'art', 'science', 'scent', 'collid...</td>\n",
              "      <td>Lyn Harris' independent space, Perfumer H , in...</td>\n",
              "      <td>This feature is part of ' Details ,' a new ser...</td>\n",
              "      <td>Art and science collide in this one-of-a-kind ...</td>\n",
              "      <td>https://www.cnn.com/style/article/details-perf...</td>\n",
              "    </tr>\n",
              "    <tr>\n",
              "      <th>4</th>\n",
              "      <td>['akufoaddo', 'tanker', 'incidents', 'dozens',...</td>\n",
              "      <td>(CNN) A tanker exploded near a gas station in ...</td>\n",
              "      <td>(CNN) A tanker exploded near a gas station in ...</td>\n",
              "      <td>Seven killed, dozens injured in Ghana tanker e...</td>\n",
              "      <td>https://www.cnn.com/2017/10/08/africa/ghana-ta...</td>\n",
              "    </tr>\n",
              "    <tr>\n",
              "      <th>...</th>\n",
              "      <td>...</td>\n",
              "      <td>...</td>\n",
              "      <td>...</td>\n",
              "      <td>...</td>\n",
              "      <td>...</td>\n",
              "    </tr>\n",
              "    <tr>\n",
              "      <th>938</th>\n",
              "      <td>['facebook', 'actor', 'whats', 'movie', 'world...</td>\n",
              "      <td>Chat with us in Facebook Messenger.\\nFind out ...</td>\n",
              "      <td>Chat with us in Facebook Messenger. Find out w...</td>\n",
              "      <td>Police take shot at actor on movie set</td>\n",
              "      <td>https://www.cnn.com/videos/us/2017/10/04/polic...</td>\n",
              "    </tr>\n",
              "    <tr>\n",
              "      <th>939</th>\n",
              "      <td>['races', 'danelle', 'mph', 'blind', 'life', '...</td>\n",
              "      <td>Photos: Blind skier puts her life in her husba...</td>\n",
              "      <td>(CNN) Danelle Umstead can't see when she skis ...</td>\n",
              "      <td>Blind skier races up to 70 mph</td>\n",
              "      <td>https://www.cnn.com/2016/12/16/health/turning-...</td>\n",
              "    </tr>\n",
              "    <tr>\n",
              "      <th>940</th>\n",
              "      <td>['knew', 'harvey', 'harassed', 'hollywood', 'a...</td>\n",
              "      <td>Journalist Lauren Sivan says Hollywood mogul H...</td>\n",
              "      <td>Journalist Lauren Sivan says Hollywood mogul H...</td>\n",
              "      <td>Reporter accuses Weinstein of sexual advances</td>\n",
              "      <td>https://www.cnn.com/videos/entertainment/2017/...</td>\n",
              "    </tr>\n",
              "    <tr>\n",
              "      <th>941</th>\n",
              "      <td>['cookies', 'continuing', 'information', 'term...</td>\n",
              "      <td>By continuing to browse our site you agree to ...</td>\n",
              "      <td>By continuing to browse our site you agree to ...</td>\n",
              "      <td>Photos of the Times Square even locals love</td>\n",
              "      <td>http://www.cnn.com/travel/gallery/photos-times...</td>\n",
              "    </tr>\n",
              "    <tr>\n",
              "      <th>942</th>\n",
              "      <td>['merkel', 'cap', 'party', 'limit', 'parties',...</td>\n",
              "      <td>(CNN) German Chancellor Angela Merkel has agre...</td>\n",
              "      <td>(CNN) German Chancellor Angela Merkel has agre...</td>\n",
              "      <td>Merkel changes tune on German refugee cap</td>\n",
              "      <td>https://www.cnn.com/2017/10/09/europe/germany-...</td>\n",
              "    </tr>\n",
              "  </tbody>\n",
              "</table>\n",
              "<p>943 rows × 5 columns</p>\n",
              "</div>"
            ],
            "text/plain": [
              "                                              KEYWORDS  ...                                                URL\n",
              "0    ['energy', 'sugars', 'bars', 'grams', 'syrup',...  ...  https://www.cnn.com/2017/08/25/health/energy-b...\n",
              "1    ['facebook', 'whats', 'world', 'unfolds', 'tam...  ...  http://www.cnn.com/videos/cnnmoney/2017/10/10/...\n",
              "2    ['jedi', 'shots', 'rey', 'force', 'wars', 'sta...  ...  http://money.cnn.com/2017/10/09/media/star-war...\n",
              "3    ['clients', 'art', 'science', 'scent', 'collid...  ...  https://www.cnn.com/style/article/details-perf...\n",
              "4    ['akufoaddo', 'tanker', 'incidents', 'dozens',...  ...  https://www.cnn.com/2017/10/08/africa/ghana-ta...\n",
              "..                                                 ...  ...                                                ...\n",
              "938  ['facebook', 'actor', 'whats', 'movie', 'world...  ...  https://www.cnn.com/videos/us/2017/10/04/polic...\n",
              "939  ['races', 'danelle', 'mph', 'blind', 'life', '...  ...  https://www.cnn.com/2016/12/16/health/turning-...\n",
              "940  ['knew', 'harvey', 'harassed', 'hollywood', 'a...  ...  https://www.cnn.com/videos/entertainment/2017/...\n",
              "941  ['cookies', 'continuing', 'information', 'term...  ...  http://www.cnn.com/travel/gallery/photos-times...\n",
              "942  ['merkel', 'cap', 'party', 'limit', 'parties',...  ...  https://www.cnn.com/2017/10/09/europe/germany-...\n",
              "\n",
              "[943 rows x 5 columns]"
            ]
          },
          "metadata": {},
          "execution_count": 36
        }
      ]
    },
    {
      "cell_type": "markdown",
      "metadata": {
        "id": "EziI45MuVWX6"
      },
      "source": [
        "Как видим, дла каждой статьи в датасете присутствует:\n",
        "- список из ~10 ключевых слов\n",
        "- саммари\n",
        "- собственно текст статьи\n",
        "- заголовок\n",
        "- ссылка\n",
        "\n",
        "\n",
        "\n",
        "Поскольку нам не нужен очеь большой корпус, возьмем первые 10 статей и посмотрим на количество токенов:"
      ]
    },
    {
      "cell_type": "code",
      "metadata": {
        "id": "lDCXy8eFJ9FL"
      },
      "source": [
        "dataset = data[:10]"
      ],
      "execution_count": 12,
      "outputs": []
    },
    {
      "cell_type": "code",
      "metadata": {
        "colab": {
          "base_uri": "https://localhost:8080/"
        },
        "id": "S0M44pG_VBjH",
        "outputId": "742e6c01-b966-4a4d-c157-487e27f9dd41"
      },
      "source": [
        "dataset.TEXT.apply(lambda x: len(x.split())).sum()"
      ],
      "execution_count": 34,
      "outputs": [
        {
          "output_type": "execute_result",
          "data": {
            "text/plain": [
              "5718"
            ]
          },
          "metadata": {},
          "execution_count": 34
        }
      ]
    },
    {
      "cell_type": "markdown",
      "metadata": {
        "id": "5DoSDVuQWoi_"
      },
      "source": [
        "Ура, 5к токенов как раз\n",
        "\n",
        "# 2. Разметка ключевых слов\n",
        "\n",
        "### 2.1 Теперь разметим ключевые слова самостоятельно:"
      ]
    },
    {
      "cell_type": "code",
      "metadata": {
        "colab": {
          "base_uri": "https://localhost:8080/"
        },
        "id": "pbsKLhIVKdwL",
        "outputId": "a20ba5f6-c531-4107-c792-87460040aace"
      },
      "source": [
        "words = []\n",
        "for ind, text in dataset.iterrows():\n",
        "    print(text['TEXT'])\n",
        "    print(text['KEYWORDS'])\n",
        "    keywords = input('Keywords: ').split(', ')\n",
        "    words.append(keywords)\n",
        "    print()\n",
        "    print()"
      ],
      "execution_count": 17,
      "outputs": [
        {
          "output_type": "stream",
          "name": "stdout",
          "text": [
            "Story highlights Don't be fooled by the word \"energy\"\n",
            "\n",
            "Some energy bars contain as much saturated fat as a Snickers bar\n",
            "\n",
            "(CNN) Energy bars are a convenient source of nutrition and come in a wide variety of flavors to satisfy different palates. They are often fortified with vitamins and minerals, which can help fill nutritional gaps.\n",
            "\n",
            "But, like many foods in a specific category, not all energy bars are created equal. Those that are low in saturated fat and sugars, with a decent amount of protein and fiber, can provide a nutritious, satisfying pick-me-up. Others can closely mimic a candy bar. For example, some bars covered in chocolate contain as much saturated fat as a Snickers bar; others contain almost as much sugar.\n",
            "\n",
            "Granola bars are a convenient source of nutrition, but can vary significantly in terms of nutrition.\n",
            "\n",
            "Energy bars containing mostly fruit and nuts can serve as satisfying snacks. But if you're looking for a meal replacement, aim for a bar with a higher amount of protein: about 10 to 20 grams. Athletes can also benefit from choosing a bar with more protein and carbohydrates, as their needs are higher.\n",
            "\n",
            "You can afford more calories if bars are consumed in place of meals and not as snacks. But if a bar is intended only to tide you over until dinner, limit it to 150 to 200 calories.\n",
            "\n",
            "In general, try to aim for bars with less than 3 grams of saturated fat and at least 4 grams of fiber. Palm kernel oil in yogurt and chocolate coatings will boost saturated fat. Also watch out for bars with ingredients such as brown rice syrup or cane invert syrup listed first, as they are generally higher in sugars than others and are better suited for athletes, not weight watchers.\n",
            "\n",
            "Read More\n",
            "['energy', 'sugars', 'bars', 'grams', 'syrup', 'healthy', 'saturated', 'bar', 'contain', 'protein', 'fat']\n",
            "Keywords: energy bar, energy, bar, nutrition, food, snacks, protein, calories, sugars, saturated fats, saturated, fat\n",
            "\n",
            "\n",
            "Chat with us in Facebook Messenger. Find out what's happening in the world as it unfolds.\n",
            "['facebook', 'whats', 'world', 'unfolds', 'tamagotchi', 'chat', 'messenger', 'happening']\n",
            "Keywords: facebook, messenger, facebook messenger, world,  chat\n",
            "\n",
            "\n",
            "ESPN's \"Monday Night Football\" had bears, vikings and Jedi on Monday night.\n",
            "\n",
            "The official trailer for \"Star Wars: The Last Jedi\" debuted during halftime of the Monday night match up between the Chicago Bears and Minnesota Vikings.\n",
            "\n",
            "The new trailer gives us our latest look at the most anticipated film of the year, which brings us back to the galaxy far, far away.\n",
            "\n",
            "It focused on the two new main characters of the series in Adam Driver's Kylo Ren and Daisy Ridley's Rey as well as old favorites like Mark Hamill's Luke Skywalker and Carrie Fisher's Princess Leia.\n",
            "\n",
            "\"I've seen this raw strength only once before. It didn't scare me enough then,\" Skywalker says as shots of Rey using the Force are shown. \"It does now.\"\n",
            "\n",
            "The trailer also includes shots of battles taking place on new planets and in space, and ends with the evil Ren seemingly reaching out his hand to Rey.\n",
            "\n",
            "\"I need someone to show me my place in all this,\" Rey says as the trailer closes.\n",
            "\n",
            "The trailer garnered a big reaction on social media and racked up more than 300,000 views on YouTube in roughly 30 minutes.\n",
            "\n",
            "Tickets to \"Last Jedi\" went on sale following the trailer's debut, leaving fans scrambling to nab a ticket to the film -- which opens on December 15.\n",
            "\n",
            "Before the trailer's premiere, Disney released a new poster for the film. The print had a red hue and included characters like Rey wielding a blue lightsaber as well as a bearded Skywalker shrouded in a black hood in the center.\n",
            "\n",
            "Check out the brand new poster for Star Wars: #TheLastJedi and watch the trailer tonight. pic.twitter.com/A4UGpYqoeW — Star Wars (@starwars) October 10, 2017\n",
            "\n",
            "\"Last Jedi\" is the eighth episode in the \"Star Wars\" saga and is a direct sequel to the 2015 blockbuster, \"Star Wars: The Force Awakens.\"\n",
            "\n",
            "It stars Ridley, John Boyega and Hamill. It is also the last film role of Fisher, who died last year.\n",
            "\n",
            "Disney acquired Lucasfilm and the \"Star Wars\" franchise from creator George Lucas in 2012 for $4 billion.\n",
            "\n",
            "The company has already seen a windfall at the box office with \"Force Awakens\" bringing in more than $2 billion worldwide and \"Rogue One: A Star Wars Story,\" the franchise's first spinoff, which made more than $1 billion.\n",
            "['jedi', 'shots', 'rey', 'force', 'wars', 'star', 'film', 'football', 'skywalker', 'trailer', 'night', 'trailers', 'debuts']\n",
            "Keywords: star wars, trailer, film, skywalker, jedi, red, last jedi, franchise, debuts \n",
            "\n",
            "\n",
            "This feature is part of ' Details ,' a new series that captures the creation of some of the world's most intricately made objects.\n",
            "\n",
            "Lyn Harris' independent space, Perfumer H , in Marylebone, London doubles as a shopfront and laboratory. Here, the seasoned perfumer creates her own seasonal scents and concocts bespoke perfumes for clients who are after something truly unique.\n",
            "\n",
            "In these instances, clients own the rights to their formula, guaranteeing there's no one else in the world with quite the same scent. But customization comes with a price: Harris' tailor-made scents can cost up to £15,000 (around $20,000).\n",
            "\n",
            "After training her nose in both Paris and Grasse, Harris co-founded the successful Miller Harris brand with business partner Christophe Michel in 2000. Perfumer H, founded in 2015, is a more experimental and creative expression of Harris' craft.\n",
            "\n",
            "\"Like any art form, it's as complicated as you want it to be,\" says Harris of the art of perfume. \"I see things quite simply ... It's about making a beautiful smell that really sings on somebody's skin.\"\n",
            "['clients', 'art', 'science', 'scent', 'collide', 'uniquein', 'world', 'h', 'oneofakind', 'worlds', 'quite', 'perfumer', 'scents', 'harris']\n",
            "Keywords: perfumer, clients, world, scent, harris, formula, art, perfume\n",
            "\n",
            "\n",
            "(CNN) A tanker exploded near a gas station in Accra on Saturday killing seven people, officials in Ghana said.\n",
            "\n",
            "Dozens of others were injured in the blast, said presidential spokesman Eugene Arhin.\n",
            "\n",
            "Residents fled when the explosion rocked the capital and sent massive fireballs into the sky. The fire quickly spread to a nearby gas station. Images from the scene showed charred cars and deserted streets.\n",
            "\n",
            "Government is resolved, now more than ever, to ensure such an incident does not occur again. — Nana Akufo-Addo (@NAkufoAddo) October 8, 2017\n",
            "\n",
            "President Nana Akufo-Addo issued condolences to the relatives of those killed and said the government would work to ensure such incidents don't happen again.\n",
            "\n",
            "\"It is time these incidents came to a stop in Ghana,\" he said. \"... We are going to have to come out with a clear policy on how to prevent such incidents.\"\n",
            "['akufoaddo', 'tanker', 'incidents', 'dozens', 'streetsgovernment', 'work', 'station', 'seven', 'explosion', 'gas', 'ghana', 'nana', 'injured', 'ensure', 'killed']\n",
            "Keywords: ghana, explosion, explode, gas, station, gas station, incident, government, killed, injured\n",
            "\n",
            "\n",
            "(CNN) Pro-independence Catalans gathered on the streets of Barcelona Tuesday ahead of a hotly anticipated speech by the region's leader on the status of the restive province.\n",
            "\n",
            "Carles Puigdemont, the President of Catalonia, was due to address a specially convened session of the region's parliament. But the session, due to begin at 12 p.m. ET (6p.m. local time) was delayed amid reports of international mediation to end the crisis.\n",
            "\n",
            "Puigdemont requested the delay \"given the contacts for an international mediation,\" his spokesman Joan Maria Pique told CNN. He did not immediately provide additional details on the mediation.\n",
            "\n",
            "The anti-independence Ciutadans party and the Catalan branch of Spanish Prime Minister Mariano Rajoy's Popular Party (PPC) had also requested a suspension of Tuesday' rsession, according to a document seen by CNN.\n",
            "\n",
            "Puigdemont was under intense pressure to back down from plans to declare independence from Spain following a disputed referendum.\n",
            "\n",
            "The Parc de la Ciutadella, which houses the Catalan parliament building, was sealed off to the public for safety reasons, with the Catalan police Mossos guarding the entrances and exits.\n",
            "\n",
            "National police and the Guardia Civil kept a low profile, according to CNN reporters.\n",
            "\n",
            "Officers of Catalonia's regional police force stand guard outside the Parliament of Catalonia.\n",
            "\n",
            "European Council President Donald Tusk urged Puigdemont to back down. \"The force of arguments is always better than the argument of force,\" he said in Brussels.\n",
            "\n",
            "\"Today I ask you to respect in your attentions the constitutional order and not announce a decision that would make such a dialogue impossible,\" he said. \"Diversity should not lead to conflict whose consequences would be bad for Catalonia, Spain and the whole of Europe.\"\n",
            "\n",
            "Mayor of Barcelona Ada Colau, an influential figure who has been critical of both sides, called for de-escalation. She urged Puigdemont not to make a unilateral declaration of independence, and also called on the government of Prime Minister Rajoy not to impose direct rule from Madrid. \"Now is the time for dialogue,\" she said in address from in Barcelona.\n",
            "\n",
            "Barcelona mayor Ada Colau delivers a speech at the City Council in Barcelona.\n",
            "\n",
            "Colau said Spain was experiencing its \"worst institutional crisis since democracy began\" and said Spain's political elected representatives should \"find a solution that is inclusive and up to standards we have been living.\"\n",
            "\n",
            "Neighboring France said Monday it would not recognize an independent Catalonia -- and independence would result in automatic expulsion from the European Union.\n",
            "\n",
            "Political uncertainty\n",
            "\n",
            "However thousands of supporters of independence are expected to show up at the parliament in Barcelona to show support for the plan, and to call on Puigdemont to honor his commitments to the separatist movement.\n",
            "\n",
            "The political uncertainty began with a divisive and controversial referendum on October 1 that found a majority of Catalan voters in favor of independence for the wealthy, northeastern region of Spain.\n",
            "\n",
            "Madrid declared the referendum illegal and Spanish police tried to shut the vote down by firing rubber bullets and pulling voters from polling booths in scenes that shocked many across Europe.\n",
            "\n",
            "JUST WATCHED Catalonia: We want to talk, 'nobody' listening Replay More Videos ... MUST WATCH Catalonia: We want to talk, 'nobody' listening 08:36\n",
            "\n",
            "Catalonia's Minister of Foreign Affairs, Raul Romeva Rueda, told CNN's Nima Elbagir that the Catalan side has long wanted to negotiate a fair bargain with the Spanish state.\n",
            "\n",
            "\"What we have always demanded is a political dialogue. The opportunity to (practice) democracy, to allow everybody to express themselves ... We want to talk, we need to negotiate. The problem is nobody's listening from the Spanish state side.\"\n",
            "\n",
            "He said that the Catalan government has invited international mediation and called for dialogue.\n",
            "\n",
            "\"We say, 'we are ready, we want to go to the negotiating table. We are ready to start talks' ... If (the central government has) an offer to make we are very much keen to listen to them.\"\n",
            "\n",
            "PM: 'Spain will not be divided'\n",
            "\n",
            "Prime Minister Rajoy is determined to prevent a breakaway by the northeastern province in the wake of the October 1 vote.\n",
            "\n",
            "\"Spain will not be divided, and the national unity will be preserved. To this end we will employ all the means we have within the law. It is up to the government to make decisions, and to do so at the right moment,\" Rajoy said in an interview with German newspaper Die Welt on Monday.\n",
            "\n",
            "Catalan authorities said 90% of voters chose independence from Madrid, but the result was not as decisive as it appeared -- turnout was only 43%.\n",
            "\n",
            "JUST WATCHED Catalan leaders threaten independence Replay More Videos ... MUST WATCH Catalan leaders threaten independence 01:56\n",
            "\n",
            "What's at stake?\n",
            "\n",
            "The stakes are high for both Spain and Europe if Catalonia chooses to break away.\n",
            "\n",
            "Catalonia accounts for nearly a fifth of Spain's economy, and leads all regions in producing 25% of the country's exports, CNNMoney reports. It contributes much more in taxes (21% of the country's total) than it gets back from the central government.\n",
            "\n",
            "The prospect of an independent Catalonia has already prompted two major banks and some other businesses to move their registered headquarters to other parts of Spain.\n",
            "\n",
            "There is more at stake for Madrid than losing wealth. The country has 17 regions with varying degrees of autonomy, and losing one may inspire others to begin, or revive, separatist movements.\n",
            "\n",
            "But there are many other unanswered questions, including continued membership in the European Union.\n",
            "\n",
            "If forced to apply independently for EU membership, Catalonia would have to convince all of the bloc's current members, including Spain, to agree.\n",
            "\n",
            "And if Catalonia became an independent state, it would not automatically be a World Trade Organization member, so would likely face stiff trade barriers that would hurt its economy.\n",
            "\n",
            "JUST WATCHED How Catalonia's independence crisis unfolded Replay More Videos ... MUST WATCH How Catalonia's independence crisis unfolded 01:49\n",
            "\n",
            "Speaking on French TV Monday, Nathalie Loiseau, France's minister of European affairs, said the French government would not recognize an independent Catalonia.\n",
            "\n",
            "\"If independence were to be recognized -- which is not something that's being discussed -- the most immediate consequence would be that (Catalonia) automatically left the European Union,\" said Loiseau.\n",
            "\n",
            "Spanish Deputy Prime Minister Soraya Sáenz de Santamaría said in an interview on Spanish radio that the government would invoke powers to take control of the regional government if Catalonia went ahead and declared independence.\n",
            "['spanish', 'independence', 'regions', 'meets', 'parliament', 'minister', 'catalan', 'spain', 'future', 'independent', 'puigdemont', 'line', 'catalonia', 'catalans']\n",
            "Keywords: catalonia, region, international mediation, meditation, party, catalans, spain, barcelona, independence, independent\n",
            "\n",
            "\n",
            "(CNN) In a Forbes magazine interview published Tuesday morning, President Donald Trump was asked about reports that Secretary of State Rex Tillerson had called him a \"moron\" over the summer.\n",
            "\n",
            "\"I think it's fake news, but if he did that, I guess we'll have to compare IQ tests,\" Trump responded . \"And I can tell you who is going to win.\"\n",
            "\n",
            "That comment, according to White House press secretary Sarah Sanders, was a joke.\n",
            "\n",
            "\"He wasn't questioning the secretary of state's intelligence,\" she said during the daily press briefing Tuesday. \"He made a joke. Maybe you guys should get a sense of humor and try it sometime. He simply made a joke.\"\n",
            "\n",
            "A few other times Trump was \"joking\" or being \"sarcastic:\"\n",
            "\n",
            "Here's the thing: You could be forgiven for not getting the Tillerson IQ joke. Why? Because Trump has repeatedly referenced his high IQ -- and others' allegedly low IQs -- for the last four years . He tweets about it. He talks about it on the campaign trail. He is uniquely obsessed with IQs.\n",
            "\n",
            "All of which means that it's very, very likely that Trump wasn't joking about matching his IQ against Tillerson's. (Sidebar: State Department spokeswoman Heather Nauert, when asked about Tillerson's IQ, offered this: \"It's high. Anyone who can put things together, you know, and is an engineer, it's high.\")\n",
            "\n",
            "What we know of Trump is that nothing bothers him more than when people who work for him either (a) get better press than he does, or (b) undermine him in some way, shape or form.\n",
            "\n",
            "Trump has previously insisted there was absolutely nothing to the Tillerson reporting. Now he's saying it's probably not true but, in the event it is true, he wants everyone to know that he is much smarter than his secretary of state. After all, who's the President and who's just a Cabinet member. Amirite???\n",
            "\n",
            "(A source close to the White House and familiar with the President's reaction, by the way, told CNN's Jim Acosta that Trump was most definitely not joking when he suggested he and Tillerson compare IQ tests. \"They knew he was pissed that people found out Tillerson called him a moron and he spouted off about the IQ test because he was mad. The White House knows it was not a joke,\" the source said).\n",
            "\n",
            "Now, hiding behind the \"he was joking\" line may be the best spin Sanders can put on the tensions between Trump and Tillerson.\n",
            "\n",
            "But scolding the media for missing the joke ignores a whole lot of context when it comes to the President and just how seriously he takes his own intelligence quotient.\n",
            "['press', 'excuse', 'secretary', 'trump', 'houses', 'iq', 'state', 'tillerson', 'joking', 'president', 'joke', 'white']\n",
            "Keywords: trump, joke, iq, joking, secretary, president, tillerson, state, secretary of state \n",
            "\n",
            "\n",
            "(CNN) The days when all three of her children were simultaneously gasping for air are interminably etched in Laura Kellogg's mind.\n",
            "\n",
            "\"I was running one to the emergency room, while my husband and parents were dealing with the other two's asthma attacks,\" said Kellogg. A registered nurse, she had appropriate medications on hand, but there were times she couldn't get the asthma under control.\n",
            "\n",
            "\"Imagine how helpless you would feel if you had to watch your child struggle to stay afloat in the deep end of a swimming pool, knowing you couldn't jump in to save him,\" said Kellogg, with a catch in her voice. \"That's how I felt watching my children struggle to breathe. It's not like a boo-boo you can kiss away.\"\n",
            "\n",
            "Debilitating, persistent asthma was an ongoing struggle for Kellogg's eldest son Camryn, daughter Chiara and youngest son, Luca. A defining moment came in 2005, when she and her husband Robert learned their hometown of Springfield, Massachusetts, was named one of the worst cities for asthma based on air quality measures such as high pollution, unhealthy ozone days, pollen counts and more.\n",
            "\n",
            "The next step for her children, daily oral steroids, was unacceptable, says Kellogg, due to all the \"terrible side effects.\" So on the advice of their pediatric pulmonologist, they made a difficult decision. They packed up their belongings, left family and friends, and moved 700 miles away to Wilmington, North Carolina, in search of a warmer, coastal climate with better air quality.\n",
            "\n",
            "\"We needed to live within five miles of the ocean, said our doctor, because the constant breeze helps eliminate triggers in the air,\" explained Kellogg. \"We made that move 10 years ago and never looked back.\"\n",
            "\n",
            "Her family's experience led Kellogg to become a certified asthma educator, and today she volunteers for the American Lung Association and other advocacy groups on behalf of those with asthma. After the United States Environmental Protection Agency highlighted the Kellogg's struggle in a 2015 video , they were invited to the White House for the signing of the Clean Power Plan, President Barack Obama's signature policy to curb greenhouse gas emissions from power plants.\n",
            "\n",
            "\"That is a moment we will never forget,\" said Kellogg.\n",
            "\n",
            "President Barak Obama shakes Camryn Kellogg's hand while sister Chiara and brother Luca look on\n",
            "\n",
            "For her family, says Kellogg, the Trump administration decision to repeal the Clean Power Plan is frightening news.\n",
            "\n",
            "\"It makes me want to cry. We need to protect the air that we breathe, we need to protect the health of all children,\" said Kellogg. \"No one should have to relocate to breathe clean air.\"\n",
            "\n",
            "The Clean Power Plan\n",
            "\n",
            "Announced by the Obama administration in August 2015, the Clean Power Plan was designed to set high-stakes limits on carbon particle pollution from US coal and gas-fired power plants. Environmental groups such as the Natural Resources Defense Council say they are the largest contributor to climate change.\n",
            "\n",
            "On Tuesday, as he announced his proposal to repeal the Obama-era regulation, US EPA Administrator Scott Pruitt said, \"we are committed to righting the wrongs of the Obama administration by cleaning the regulatory slate.\"\n",
            "\n",
            "The EPA criticized the Obama administration's cost-benefit analysis, claiming it overestimated domestic climate benefits and miscalculated energy costs and savings. Repealing the Clean Power Act, said the EPA, will save up to $33 billion in avoided compliance costs in 2030.\n",
            "\n",
            "\"With this action, the Trump administration is respecting states' role and reinstating transparency into how we protect our environment,\" Pruitt said in a news release. \"Any replacement rule will be done carefully, properly, and with humility, by listening to all those affected by the rule.\"\n",
            "\n",
            "Eighteen health and medical organizations immediately released a collective statement saying they are \"deeply disappointed\" by the administration's action.\n",
            "\n",
            "\"Today's proposal to revoke the Clean Power Plan is inconsistent with EPA's core mission of protecting public health and the environment,\" said the statement, signed by the American Lung Association, Allergy and Asthma Network, American Academy of Pediatrics, American College of Physicians, American Public Health Association and National Medical Association, among others.\n",
            "\n",
            "The National Association of County and City Health Officials, which represents approximately 3,000 local health departments, also joined the chorus of dissent.\n",
            "\n",
            "\"If fully implemented, the Clean Power Plan would have reduced carbon pollution from power plants and prevented an estimated 90,000 asthma attacks, 1,700 heart attacks, and 3,600 premature deaths each year, when fully implemented,\" they said in a statement\n",
            "\n",
            "\"It's not just asthma and it's not just children,\" said Paul Billings, national senior vice president for advocacy at the American Lung Association, in an interview. \"Pollution from power plants can affect anyone. People with chronic diseases, like diabetes, cardiovascular disease and asthma are especially vulnerable.\"\n",
            "\n",
            "According to Billings, that's because particle pollution, a mixture of solid and liquid droplets floating in the air, penetrates deeply into the lungs, getting past the body's natural defenses.\n",
            "\n",
            "\"It's been shown through decades of research to increase premature mortality,\" he added, \"contributing to cardiovascular events, heart attacks and strokes. It increases coughing and wheezing even in healthy adults.\"\n",
            "\n",
            "Research also shows that particle pollution doesn't just impact those who live nearby power plants.\n",
            "\n",
            "\"It rises into the atmosphere and is carried by currents across wide swathes of the country, and then comes down to breathing levels, affecting those hundreds of miles away,\" explained Billings.\n",
            "\n",
            "Children are especially vulnerable\n",
            "\n",
            "While poor air quality affects all of us, it can be especially hard on children.\n",
            "\n",
            "The Children's Health Study, which has been following more than 11,000 southern California schoolchildren since 1992, found living in areas with higher air pollution caused measurable lung damage , increased risk for asthma, higher levels of respiratory infections and more school absences.\n",
            "\n",
            "\"Children are not just little adults,\" explained Billings. \"They breathe at a higher rate, they inhale more air each day, are more active, and are not as in tune with their bodies when they are not feeling well.\"\n",
            "\n",
            "The University of Southern California study has also documented changes in children's health as air quality has improved in towns and cities over the course of the 25-year study. A 2015 paper published in the New England Journal of Medicine found the lungs of children tested between 2007 and 2011 were better than those of same-age children, from the same communities, tested between the years 1994 and 1998 and again during 1997 and 2001. The results, say the researchers, paralleled the improvement in air quality in those communities over the years.\n",
            "\n",
            "The Kellogg family moved to North Carolina to keep everyone healthy.\n",
            "\n",
            "'Moments of grace'\n",
            "\n",
            "Ten years after moving away from their hometown, the Kelloggs feel blessed by the change in their children. Their oldest son, Camryn, now 18, was a top saxophone player in high school, and received a four-year scholarship to college.\n",
            "\n",
            "\"We have so many moments of grace,\" said Kellogg. \"If you'd told me 10 years ago that my son would beautifully play a wind instrument, I would have asked you what comic book are you writing? He didn't have the lung function.\n",
            "\n",
            "\"Our daughter Chiara, who is 16 now, has a beautiful singing voice, and is in choir and school plays. Our youngest son, Luca, who is 11, plays baseball and has turned into quite an athlete,\" Kellogg continued.\n",
            "\n",
            "Join the conversation See the latest news and share your comments with CNN Health on Facebook and Twitter.\n",
            "\n",
            "\"We just feel so blessed because our children were able to achieve their God-given potential, but if we had stayed in dirty air, we would never have seen this happen.\"\n",
            "\n",
            "Seeing the Trump administration's decision to repeal the Clean Power Plan as \"deflating,\" Kellogg says politics should have nothing to do with the quality of the air that children breathe.\n",
            "\n",
            "\"I want to be someone who gives hope,\" said Kellogg, vowing to continue to speak out about the needs of the vulnerable and urging others to join her. \"United we can act, and use our voices to respectfully ask our politicians to do what is right for our nation.\"\n",
            "['pollution', 'repeal', 'kellogg', 'asthma', 'trump', 'impact', 'clean', 'children', 'air', 'health', 'power', 'plan', 'environmental', 'association']\n",
            "Keywords: kellog, asthma, child, air, air quality, clean power plan, clean, power, plan, trump, pollution, health, breathe\n",
            "\n",
            "\n",
            "Michael D'Antonio is the author of the book \" Never Enough: Donald Trump and the Pursuit of Success \" (St. Martin's Press). The opinions expressed in this commentary are his.\n",
            "\n",
            "(CNN) Finally lumbering into a devastated Puerto Rico aboard Air Force One, almost two weeks after Hurricane Maria made landfall, President Trump came face-to-face with the kind of reality he can't deflect with anger and derision. A world waited to see if in a crisis, an unscripted Trump would rise to the occasion. He did not.\n",
            "\n",
            "Upon arriving, Trump sat with a group of government officials and began praising his own administration. Like Snow White's evil stepmother who demanded the mirror remind her that she is \"the fairest of them all,\" he then asked Rep. Jenniffer González-Colón to join in the fawning and flattering.\n",
            "\n",
            "\"I watched the other day,\" said the TV-addicted President, \"and she was saying such nice things about all of the people who have worked so hard. Jenniffer, do you think you can say a little bit of what you said about us today?\" He quickly added, \"It's not about me,\" but of course it was.\n",
            "\n",
            "As everyone knows, the only way to deal with the President is with praise, indulgence and political pats on the head. Thus it was that González-Colón and all those who spoke to the President gave him the verbal thumbs-up even as the 3.5 million people of Puerto Rico entered their third week of suffering as many still lacked electricity, secure supplies of food and reliable clean water.\n",
            "\n",
            "Indeed, the only real complaint came from Trump himself, who said, \"I hate to tell you Puerto Rico, but you've thrown our budget a little out of whack.\"\n",
            "\n",
            "A narcissist's tour de force, Trump's arrival meeting was likely the first time any president visited a part of the country ravaged by natural disaster and complained about the cost of the emergency response. Something inside him realized he had gone too far. \"That's fine,\" he quickly added, \"We've saved a lot of lives.\"\n",
            "\n",
            "Lifesaving is what the federal government is supposed to do when disaster strikes, and when hurricanes recently ravaged Texas and Florida he wasted no time getting to the scene and never complained about the cost.\n",
            "\n",
            "In the case of Puerto Rico, he wasted time on bashing football players protesting racial inequities and took his eye off the island as he enjoyed a long weekend at a golf resort. As the Washington Post reported , for four days \"Trump and his top aides effectively went dark themselves.\"\n",
            "\n",
            "Trump was so slow to react to the tragedy in Puerto Rico that the mayor of San Juan cried out in frustration. Naturally, the President took personal offense. \"The Mayor of San Juan, who was very complimentary only a few days ago, has now been told by the Democrats that you must be nasty to Trump,\" the President said in a tweet from his golf club in Bedminster, New Jersey.\n",
            "\n",
            "He also said, \"Such poor leadership ability by the Mayor of San Juan, and others in Puerto Rico, who are not able to get their workers to help. They want everything to be done for them when it should be a community effort.\"\n",
            "\n",
            "The bizarre comments were just another example of the psycho-political dynamic that makes dealing with this President so difficult. In his world, problems are caused by bad people, especially his personal enemies, and if you don't want him to blame you for causing problems then you had better make it clear that you agree with him.\n",
            "\n",
            "As Trump established himself in Washington, his minions were challenged to live in his distortion field. At the start, Sean Spicer showed how it was done as he affirmed the President's wildly inaccurate claims about the enormous crowds at his inauguration.\n",
            "\n",
            "In February, adviser Sebastian Gorka said reports of White House chaos were inaccurate, even as stories of disarray poured out of 1600 Pennsylvania Avenue. By June, everyone seemed to have figured out how to make Trump happy. During a bizarre Cabinet meeting, he was praised like a god . Chief of staff Reince Priebus was typical as he said, \"We thank you for the opportunity and blessing to serve your agenda.\"\n",
            "\n",
            "Though able as toadies, Spicer, Gorka and Priebus would soon be gone from the White House because they, nevertheless, failed as mirrors for the Trump image. This is another problem when it comes to a chief executive with a brittle ego. Though he demands loyalty from others, he is stinting in his own commitments, and woe to the man or woman who makes him look bad.\n",
            "\n",
            "Take, for example, the administration's other recent debacle, which culminated with Health & Human Services Secretary Tom Price resigning after spending $1 million on private and military jet travel. Trump demanded he go, not because he abused the taxpayers, but because the scandal made him, Donald Trump, look bad. \"Look, I think he's a very fine person,\" Trump said of Price before adding, \"I certainly don't like the optics.\"\n",
            "\n",
            "Denying the reality everyone else can see, Trump said Price was a \"fine man,\" and not an arrogant bureaucrat, because to say otherwise would suggest that he had made a mistake when selecting him in the first place. Trump is so allergic to even the hint of a mistake, miscalculation or inadequacy that he's rather confess that he was bothered by the way Price made him look than by what he actually did.\n",
            "\n",
            "The President's preference for his own reality is not new. Throughout his life, he has used his money, power and temper to construct his own reality. His massive business bankruptcies were not failures but brilliant bits of management. He said he was New York's biggest builder when he wasn't. And, as Adweek pointed out, he declared that his reality TV show \"The Celebrity Apprentice\" was Number 1, even when it was 41st.\n",
            "\n",
            "His reality shows, pasted together from days of video-taped interactions, were no more real than the conspiracy Trump once claimed was responsible for the idea that asbestos was a human health hazard. However, it was the ideal expression of the mind of Donald Trump. Everyone on the program competed for his attention, and praised his acumen. On television, as in his offices, there was no percentage in piercing the fantasy.\n",
            "\n",
            "The problem for Trump is that some realities cannot be explained away by complaints about \"fake news\" or by his usual methods of blaming and shaming others. In Puerto Rico, he was confronted with the immutable fact of a devastating hurricane. He failed in his initial response, made things worse by lashing out at the locals and mishandled a visit that should have been all about compassion but was instead, all about him.\n",
            "\n",
            "Sadly, the country is also struggling to recover from another massive tragedy in Las Vegas where a gunman killed 59 people and injured hundreds more at a music festival. This crisis was so acute that the President was able to appear on TV, speak the comforting words written for him and not make things worse.\n",
            "\n",
            "Follow CNN Opinion Join us on Twitter and Facebook\n",
            "\n",
            "When the President arrives in Las Vegas this week on yet another mission that calls for presidential grace, in response to trauma, he will have one more opportunity to show he is more than self-centered, ego-driven and insecure. It's another chance to occupy the same reality that brings such pain to the rest of us. His record leaves great doubt as to whether he's up to it.\n",
            "['look', 'response', 'force', 'trump', 'tour', 'narcissists', 'puerto', 'reality', 'president', 'things', 'rico', 'price', 'san']\n",
            "Keywords: trump, puerto rico, puerto, rico, president,  administration, people, tragedy\n",
            "\n",
            "\n",
            "\n",
            "\n",
            "\n",
            "\n",
            "This article was first published in June 2016. Editor's Note — CNN Travel's series often carries sponsorship originating from the countries and regions we profile. However, CNN retains full editorial control over all of its reports. Read the policy. This article was first published in June 2016.\n",
            "\n",
            "(CNN) — Upon hearing I would have to climb 1,015 steps to reach the summit of Yamadera Risshakuji Temple in Japan , my immediate reaction was admittedly pathetic.\n",
            "\n",
            "I inspected the temple complex's on-site map closer, trying to locate the entrance to the funicular. A futile exercise. There was no funicular. Yamadera Risshakuji Temple, located on Mount Hoju-san in Japan's Yamagata prefecture, isn't about shortcuts. And thankfully so.\n",
            "\n",
            "I would have missed out on one of the most rewarding experiences of my entire Japan journey.\n",
            "\n",
            "\n",
            "\n",
            "\n",
            "\n",
            "\n",
            "\n",
            "\n",
            "\n",
            "\n",
            "\n",
            "\n",
            "\n",
            "\n",
            "\n",
            "\n",
            "\n",
            "\n",
            "\n",
            "\n",
            "\n",
            "1 / 11 A temple complex located in Japan's Yamagata Prefecture, Yamadera offers incredible views of the surrounding countryside -- if you're willing to work for them. Though the Buddhist site's official name is Risshakuji Temple, it's more commonly referred to as Yamadera by the locals, meaning \"mountain temple.\"\n",
            "\n",
            "Though its official name is Risshakuji, locals refer to it simply as Yamadera -- which means \"mountain temple.\" The temple complex, founded in AD 860 to oversee the northern Tohoku region's Tendai Buddhism sect, is actually made up of more than a dozen various sites of religious importance, such as shrines, gates and monuments.\n",
            "\n",
            "That includes the Konpon-chudo Hall, which is said to house a Buddhist flame that's been burning continuously for more than 1,000 years. The Hiho-kan (treasure hall), built in 1144, is where Yamadera's most precious Buddhist artifacts are held.\n",
            "\n",
            "Tackling the 1,015 steps\n",
            "\n",
            "Climbing the 1,015-step staircase that winds its way up Mount Hoju-san to the temple's main hall -- Okunoin -- is intended to be a meditative experience.\n",
            "\n",
            "Someone obviously didn't tell that to the half a dozen or so packs of middle school students I encountered on the trail during my visit.\n",
            "\n",
            "Many cried out in exaggerated agony as they gripped the staircase railing, while the athletes of the group charged ahead, stoically looking forward as they took the stairs two at a time. But this was not a race to the top. Camaraderie was on full display. Descending hikers offered nods of encouragement to those of us making the ascent, many saying \"konnichiwa\" as they passed.\n",
            "\n",
            "Sympathetic gazes were cast upon a sweat-drenched father making the climb while carrying his toddler daughter, who sat in a carrier on his back. Fortunately, stopping is encouraged.\n",
            "\n",
            "Whether it's a stone sculpture in front of a cliff wall that's embedded with thousands of one-yen coins or a burst of fiery red leaves hanging just perfectly over a shrine, there are plenty of plausible excuses to pause and catch your breath. And when you finally do reach the summit, the payoff is instant. Interestingly it's not the Okunoin main hall that's the biggest draw.\n",
            "\n",
            "Before you even reach Okunoin you'll pass what are likely the two most photographed buildings at Yamadera: Kaisando Hall and the small red Nokyodo building, which tower over the valley below.\n",
            "\n",
            "A nearby path takes visitors to the wooden observation platform, Godaido, which gives incredible views of the surrounding Yamagata countryside.\n",
            "\n",
            "Getting there\n",
            "\n",
            "Yamadera Station is about a 40-minute train ride from Tohoku's biggest city, Sendai, in neighboring Miyagi prefecture.\n",
            "\n",
            "For those traveling from Tokyo, the Shinkansen train from Tokyo Station to Yamagata Station takes just over 2.5 hours. Yamadera Station is a 20-minute train ride from there. The temple's entrance is about a 10-minute walk from the station. Multiple signs direct the way.\n",
            "['okunoin', 'tohoku', 'japan', 'risshakuji', 'steps', 'thats', 'reach', 'train', 'yamadera', 'station', 'temple', '1015', 'yamagata', 'hall']\n",
            "Keywords: temple, japan, yamadera, risshakuju, 1015, stairs, reach, okunoin, halll, view\n",
            "\n",
            "\n"
          ]
        }
      ]
    },
    {
      "cell_type": "code",
      "metadata": {
        "colab": {
          "base_uri": "https://localhost:8080/"
        },
        "id": "g1IM7tStKoRo",
        "outputId": "4e98a57a-2350-44d0-ec8b-ea4105c4282d"
      },
      "source": [
        "dataset['MY_KEYWORDS'] = words"
      ],
      "execution_count": 19,
      "outputs": [
        {
          "output_type": "stream",
          "name": "stderr",
          "text": [
            "/usr/local/lib/python3.7/dist-packages/ipykernel_launcher.py:1: SettingWithCopyWarning: \n",
            "A value is trying to be set on a copy of a slice from a DataFrame.\n",
            "Try using .loc[row_indexer,col_indexer] = value instead\n",
            "\n",
            "See the caveats in the documentation: https://pandas.pydata.org/pandas-docs/stable/user_guide/indexing.html#returning-a-view-versus-a-copy\n",
            "  \"\"\"Entry point for launching an IPython kernel.\n"
          ]
        }
      ]
    },
    {
      "cell_type": "code",
      "metadata": {
        "colab": {
          "base_uri": "https://localhost:8080/",
          "height": 605
        },
        "id": "o6875G0_TaDg",
        "outputId": "b357da7a-85e7-4796-91fb-5599aaa2d10b"
      },
      "source": [
        "dataset"
      ],
      "execution_count": 20,
      "outputs": [
        {
          "output_type": "execute_result",
          "data": {
            "text/html": [
              "<div>\n",
              "<style scoped>\n",
              "    .dataframe tbody tr th:only-of-type {\n",
              "        vertical-align: middle;\n",
              "    }\n",
              "\n",
              "    .dataframe tbody tr th {\n",
              "        vertical-align: top;\n",
              "    }\n",
              "\n",
              "    .dataframe thead th {\n",
              "        text-align: right;\n",
              "    }\n",
              "</style>\n",
              "<table border=\"1\" class=\"dataframe\">\n",
              "  <thead>\n",
              "    <tr style=\"text-align: right;\">\n",
              "      <th></th>\n",
              "      <th>KEYWORDS</th>\n",
              "      <th>SUMMARY</th>\n",
              "      <th>TEXT</th>\n",
              "      <th>TITLE</th>\n",
              "      <th>URL</th>\n",
              "      <th>MY_KEYWORDS</th>\n",
              "    </tr>\n",
              "  </thead>\n",
              "  <tbody>\n",
              "    <tr>\n",
              "      <th>0</th>\n",
              "      <td>['energy', 'sugars', 'bars', 'grams', 'syrup',...</td>\n",
              "      <td>Story highlights Don't be fooled by the word \"...</td>\n",
              "      <td>Story highlights Don't be fooled by the word \"...</td>\n",
              "      <td>Are energy bars healthy?</td>\n",
              "      <td>https://www.cnn.com/2017/08/25/health/energy-b...</td>\n",
              "      <td>[energy bar, energy, bar, nutrition, food, sna...</td>\n",
              "    </tr>\n",
              "    <tr>\n",
              "      <th>1</th>\n",
              "      <td>['facebook', 'whats', 'world', 'unfolds', 'tam...</td>\n",
              "      <td>Chat with us in Facebook Messenger.\\nFind out ...</td>\n",
              "      <td>Chat with us in Facebook Messenger. Find out w...</td>\n",
              "      <td>Tamagotchi is back</td>\n",
              "      <td>http://www.cnn.com/videos/cnnmoney/2017/10/10/...</td>\n",
              "      <td>[facebook, messenger, facebook messenger, worl...</td>\n",
              "    </tr>\n",
              "    <tr>\n",
              "      <th>2</th>\n",
              "      <td>['jedi', 'shots', 'rey', 'force', 'wars', 'sta...</td>\n",
              "      <td>ESPN's \"Monday Night Football\" had bears, viki...</td>\n",
              "      <td>ESPN's \"Monday Night Football\" had bears, viki...</td>\n",
              "      <td>'Star Wars: The Last Jedi' trailer debuts on '...</td>\n",
              "      <td>http://money.cnn.com/2017/10/09/media/star-war...</td>\n",
              "      <td>[star wars, trailer, film, skywalker, jedi, re...</td>\n",
              "    </tr>\n",
              "    <tr>\n",
              "      <th>3</th>\n",
              "      <td>['clients', 'art', 'science', 'scent', 'collid...</td>\n",
              "      <td>Lyn Harris' independent space, Perfumer H , in...</td>\n",
              "      <td>This feature is part of ' Details ,' a new ser...</td>\n",
              "      <td>Art and science collide in this one-of-a-kind ...</td>\n",
              "      <td>https://www.cnn.com/style/article/details-perf...</td>\n",
              "      <td>[perfumer, clients, world, scent, harris, form...</td>\n",
              "    </tr>\n",
              "    <tr>\n",
              "      <th>4</th>\n",
              "      <td>['akufoaddo', 'tanker', 'incidents', 'dozens',...</td>\n",
              "      <td>(CNN) A tanker exploded near a gas station in ...</td>\n",
              "      <td>(CNN) A tanker exploded near a gas station in ...</td>\n",
              "      <td>Seven killed, dozens injured in Ghana tanker e...</td>\n",
              "      <td>https://www.cnn.com/2017/10/08/africa/ghana-ta...</td>\n",
              "      <td>[ghana, explosion, explode, gas, station, gas ...</td>\n",
              "    </tr>\n",
              "    <tr>\n",
              "      <th>5</th>\n",
              "      <td>['spanish', 'independence', 'regions', 'meets'...</td>\n",
              "      <td>Carles Puigdemont, the President of Catalonia,...</td>\n",
              "      <td>(CNN) Pro-independence Catalans gathered on th...</td>\n",
              "      <td>Catalans' future on line as parliament meets</td>\n",
              "      <td>https://www.cnn.com/2017/10/10/europe/cataloni...</td>\n",
              "      <td>[catalonia, region, international mediation, m...</td>\n",
              "    </tr>\n",
              "    <tr>\n",
              "      <th>6</th>\n",
              "      <td>['press', 'excuse', 'secretary', 'trump', 'hou...</td>\n",
              "      <td>\"I think it's fake news, but if he did that, I...</td>\n",
              "      <td>(CNN) In a Forbes magazine interview published...</td>\n",
              "      <td>The Trump White House's 'joke' excuse</td>\n",
              "      <td>http://www.cnn.com/2017/10/10/politics/trump-j...</td>\n",
              "      <td>[trump, joke, iq, joking, secretary, president...</td>\n",
              "    </tr>\n",
              "    <tr>\n",
              "      <th>7</th>\n",
              "      <td>['pollution', 'repeal', 'kellogg', 'asthma', '...</td>\n",
              "      <td>President Barak Obama shakes Camryn Kellogg's ...</td>\n",
              "      <td>(CNN) The days when all three of her children ...</td>\n",
              "      <td>Health impact of Trump environmental repeal</td>\n",
              "      <td>https://www.cnn.com/2017/10/10/health/health-e...</td>\n",
              "      <td>[kellog, asthma, child, air, air quality, clea...</td>\n",
              "    </tr>\n",
              "    <tr>\n",
              "      <th>8</th>\n",
              "      <td>['look', 'response', 'force', 'trump', 'tour',...</td>\n",
              "      <td>(CNN) Finally lumbering into a devastated Puer...</td>\n",
              "      <td>Michael D'Antonio is the author of the book \" ...</td>\n",
              "      <td>Trump in Puerto Rico: A narcissist's tour de f...</td>\n",
              "      <td>https://www.cnn.com/2017/10/03/opinions/trump-...</td>\n",
              "      <td>[trump, puerto rico, puerto, rico, president, ...</td>\n",
              "    </tr>\n",
              "    <tr>\n",
              "      <th>9</th>\n",
              "      <td>['okunoin', 'tohoku', 'japan', 'risshakuji', '...</td>\n",
              "      <td>(CNN) — Upon hearing I would have to climb 1,0...</td>\n",
              "      <td>\\n\\n\\n\\nThis article was first published in Ju...</td>\n",
              "      <td>Yamadera Risshakuji in Tohoku: 1,015 steps to ...</td>\n",
              "      <td>https://www.cnn.com/travel/article/yamadera-te...</td>\n",
              "      <td>[temple, japan, yamadera, risshakuju, 1015, st...</td>\n",
              "    </tr>\n",
              "  </tbody>\n",
              "</table>\n",
              "</div>"
            ],
            "text/plain": [
              "                                            KEYWORDS  ...                                        MY_KEYWORDS\n",
              "0  ['energy', 'sugars', 'bars', 'grams', 'syrup',...  ...  [energy bar, energy, bar, nutrition, food, sna...\n",
              "1  ['facebook', 'whats', 'world', 'unfolds', 'tam...  ...  [facebook, messenger, facebook messenger, worl...\n",
              "2  ['jedi', 'shots', 'rey', 'force', 'wars', 'sta...  ...  [star wars, trailer, film, skywalker, jedi, re...\n",
              "3  ['clients', 'art', 'science', 'scent', 'collid...  ...  [perfumer, clients, world, scent, harris, form...\n",
              "4  ['akufoaddo', 'tanker', 'incidents', 'dozens',...  ...  [ghana, explosion, explode, gas, station, gas ...\n",
              "5  ['spanish', 'independence', 'regions', 'meets'...  ...  [catalonia, region, international mediation, m...\n",
              "6  ['press', 'excuse', 'secretary', 'trump', 'hou...  ...  [trump, joke, iq, joking, secretary, president...\n",
              "7  ['pollution', 'repeal', 'kellogg', 'asthma', '...  ...  [kellog, asthma, child, air, air quality, clea...\n",
              "8  ['look', 'response', 'force', 'trump', 'tour',...  ...  [trump, puerto rico, puerto, rico, president, ...\n",
              "9  ['okunoin', 'tohoku', 'japan', 'risshakuji', '...  ...  [temple, japan, yamadera, risshakuju, 1015, st...\n",
              "\n",
              "[10 rows x 6 columns]"
            ]
          },
          "metadata": {},
          "execution_count": 20
        }
      ]
    },
    {
      "cell_type": "markdown",
      "metadata": {
        "id": "HVdU-yhZo_WI"
      },
      "source": [
        "Уберем лишние колонки:"
      ]
    },
    {
      "cell_type": "code",
      "metadata": {
        "id": "5dnMmI0w6u6q"
      },
      "source": [
        "dataset.drop(columns=['TITLE', 'URL'], inplace=True)"
      ],
      "execution_count": null,
      "outputs": []
    },
    {
      "cell_type": "markdown",
      "metadata": {
        "id": "sz_6Ea3iXLIm"
      },
      "source": [
        "Ну и сохраним полученные данные:"
      ]
    },
    {
      "cell_type": "code",
      "metadata": {
        "id": "433GUUatT8T8"
      },
      "source": [
        "dataset.to_csv('cnn_kw.csv', index=False)"
      ],
      "execution_count": 25,
      "outputs": []
    },
    {
      "cell_type": "markdown",
      "metadata": {
        "id": "YD-tyzTsXV9N"
      },
      "source": [
        "### 2.2 Сравним разметки"
      ]
    },
    {
      "cell_type": "code",
      "metadata": {
        "id": "eoycr0jLURpB"
      },
      "source": [
        "dataset = pd.read_csv('cnn_kw.csv')"
      ],
      "execution_count": 38,
      "outputs": []
    },
    {
      "cell_type": "code",
      "metadata": {
        "id": "1PnmTejJZ9Dd"
      },
      "source": [
        "dataset['KEYWORDS'] = dataset['KEYWORDS'].apply(lambda x: set(eval(x)))\n",
        "dataset['MY_KEYWORDS'] = dataset['MY_KEYWORDS'].apply(lambda x: set(eval(x)))"
      ],
      "execution_count": 54,
      "outputs": []
    },
    {
      "cell_type": "markdown",
      "metadata": {
        "id": "HK_HCRSudNOG"
      },
      "source": [
        "Если посмотрим на несколько примеров разметки, то увидим несколько вещей:\n",
        "\n",
        "1. В оригинальном датасете представлены только односложные слова, я же размечала и частотные словосочетания:    \n"
      ]
    },
    {
      "cell_type": "code",
      "metadata": {
        "colab": {
          "base_uri": "https://localhost:8080/"
        },
        "id": "il4e0XxLbhTT",
        "outputId": "04ae53e5-c856-4bc2-f620-0a7e958dde38"
      },
      "source": [
        "print('ORG:', dataset.KEYWORDS.apply(lambda x: np.mean([len(i.split()) for i in x])).mean())\n",
        "print('MY:', dataset.MY_KEYWORDS.apply(lambda x: np.mean([len(i.split()) for i in x])).mean())"
      ],
      "execution_count": 117,
      "outputs": [
        {
          "output_type": "stream",
          "name": "stdout",
          "text": [
            "ORG: 1.0\n",
            "MY: 1.1366880341880339\n"
          ]
        }
      ]
    },
    {
      "cell_type": "markdown",
      "metadata": {
        "id": "-aQgS4sleIWY"
      },
      "source": [
        "2. В оригинальной разметке в качетсве частотных слов многда выделены такие вещи, которые обыяно не хочется считать за ключевые слова.. Вот например тут есть `whats`:"
      ]
    },
    {
      "cell_type": "code",
      "metadata": {
        "colab": {
          "base_uri": "https://localhost:8080/"
        },
        "id": "NcM9FJs0d_HT",
        "outputId": "e140cd32-d1ca-445c-929c-7427a83e5a27"
      },
      "source": [
        "dataset.KEYWORDS[1]"
      ],
      "execution_count": 132,
      "outputs": [
        {
          "output_type": "execute_result",
          "data": {
            "text/plain": [
              "{'chat',\n",
              " 'facebook',\n",
              " 'happening',\n",
              " 'messenger',\n",
              " 'tamagotchi',\n",
              " 'unfolds',\n",
              " 'whats',\n",
              " 'world'}"
            ]
          },
          "metadata": {},
          "execution_count": 132
        }
      ]
    },
    {
      "cell_type": "markdown",
      "metadata": {
        "id": "Zz-jaAjUgeSm"
      },
      "source": [
        "В целом, случаев 2 мало, а выделенные автоматически слова довольно хорошие, так что в качестве эталонной разметки возьмем объединение моей и оригинальной: так получим и словосочетания и прелести разнообразности:"
      ]
    },
    {
      "cell_type": "code",
      "metadata": {
        "id": "X6Gnjob8fCM8"
      },
      "source": [
        "dataset = dataset.assign(target=lambda x: x.KEYWORDS.values | x.MY_KEYWORDS.values)"
      ],
      "execution_count": 147,
      "outputs": []
    },
    {
      "cell_type": "code",
      "metadata": {
        "colab": {
          "base_uri": "https://localhost:8080/",
          "height": 380
        },
        "id": "-cQW58z4hjZK",
        "outputId": "a8ff1e0f-248e-4375-faeb-831a4ecf43c5"
      },
      "source": [
        "dataset.head()"
      ],
      "execution_count": 148,
      "outputs": [
        {
          "output_type": "execute_result",
          "data": {
            "text/html": [
              "<div>\n",
              "<style scoped>\n",
              "    .dataframe tbody tr th:only-of-type {\n",
              "        vertical-align: middle;\n",
              "    }\n",
              "\n",
              "    .dataframe tbody tr th {\n",
              "        vertical-align: top;\n",
              "    }\n",
              "\n",
              "    .dataframe thead th {\n",
              "        text-align: right;\n",
              "    }\n",
              "</style>\n",
              "<table border=\"1\" class=\"dataframe\">\n",
              "  <thead>\n",
              "    <tr style=\"text-align: right;\">\n",
              "      <th></th>\n",
              "      <th>KEYWORDS</th>\n",
              "      <th>SUMMARY</th>\n",
              "      <th>TEXT</th>\n",
              "      <th>TITLE</th>\n",
              "      <th>URL</th>\n",
              "      <th>MY_KEYWORDS</th>\n",
              "      <th>target</th>\n",
              "    </tr>\n",
              "  </thead>\n",
              "  <tbody>\n",
              "    <tr>\n",
              "      <th>0</th>\n",
              "      <td>{grams, syrup, bars, contain, protein, bar, fa...</td>\n",
              "      <td>Story highlights Don't be fooled by the word \"...</td>\n",
              "      <td>Story highlights Don't be fooled by the word \"...</td>\n",
              "      <td>Are energy bars healthy?</td>\n",
              "      <td>https://www.cnn.com/2017/08/25/health/energy-b...</td>\n",
              "      <td>{energy bar, protein, food, bar, nutrition, sn...</td>\n",
              "      <td>{grams, syrup, bars, contain, protein, bar, nu...</td>\n",
              "    </tr>\n",
              "    <tr>\n",
              "      <th>1</th>\n",
              "      <td>{world, unfolds, messenger, happening, whats, ...</td>\n",
              "      <td>Chat with us in Facebook Messenger.\\nFind out ...</td>\n",
              "      <td>Chat with us in Facebook Messenger. Find out w...</td>\n",
              "      <td>Tamagotchi is back</td>\n",
              "      <td>http://www.cnn.com/videos/cnnmoney/2017/10/10/...</td>\n",
              "      <td>{world,  chat, messenger, facebook messenger, ...</td>\n",
              "      <td>{world, unfolds, messenger, happening,  chat, ...</td>\n",
              "    </tr>\n",
              "    <tr>\n",
              "      <th>2</th>\n",
              "      <td>{rey, debuts, trailer, force, star, wars, trai...</td>\n",
              "      <td>ESPN's \"Monday Night Football\" had bears, viki...</td>\n",
              "      <td>ESPN's \"Monday Night Football\" had bears, viki...</td>\n",
              "      <td>'Star Wars: The Last Jedi' trailer debuts on '...</td>\n",
              "      <td>http://money.cnn.com/2017/10/09/media/star-war...</td>\n",
              "      <td>{trailer, star wars, franchise, last jedi, fil...</td>\n",
              "      <td>{debuts, trailer, franchise, wars, trailers, s...</td>\n",
              "    </tr>\n",
              "    <tr>\n",
              "      <th>3</th>\n",
              "      <td>{art, world, oneofakind, worlds, h, quite, sci...</td>\n",
              "      <td>Lyn Harris' independent space, Perfumer H , in...</td>\n",
              "      <td>This feature is part of ' Details ,' a new ser...</td>\n",
              "      <td>Art and science collide in this one-of-a-kind ...</td>\n",
              "      <td>https://www.cnn.com/style/article/details-perf...</td>\n",
              "      <td>{art, world, perfume, formula, harris, clients...</td>\n",
              "      <td>{art, perfume, quite, clients, scents, h, oneo...</td>\n",
              "    </tr>\n",
              "    <tr>\n",
              "      <th>4</th>\n",
              "      <td>{killed, ensure, incidents, station, streetsgo...</td>\n",
              "      <td>(CNN) A tanker exploded near a gas station in ...</td>\n",
              "      <td>(CNN) A tanker exploded near a gas station in ...</td>\n",
              "      <td>Seven killed, dozens injured in Ghana tanker e...</td>\n",
              "      <td>https://www.cnn.com/2017/10/08/africa/ghana-ta...</td>\n",
              "      <td>{incident, killed, government, ghana, injured,...</td>\n",
              "      <td>{incident, killed, government, ghana, dozens, ...</td>\n",
              "    </tr>\n",
              "  </tbody>\n",
              "</table>\n",
              "</div>"
            ],
            "text/plain": [
              "                                            KEYWORDS  ...                                             target\n",
              "0  {grams, syrup, bars, contain, protein, bar, fa...  ...  {grams, syrup, bars, contain, protein, bar, nu...\n",
              "1  {world, unfolds, messenger, happening, whats, ...  ...  {world, unfolds, messenger, happening,  chat, ...\n",
              "2  {rey, debuts, trailer, force, star, wars, trai...  ...  {debuts, trailer, franchise, wars, trailers, s...\n",
              "3  {art, world, oneofakind, worlds, h, quite, sci...  ...  {art, perfume, quite, clients, scents, h, oneo...\n",
              "4  {killed, ensure, incidents, station, streetsgo...  ...  {incident, killed, government, ghana, dozens, ...\n",
              "\n",
              "[5 rows x 7 columns]"
            ]
          },
          "metadata": {},
          "execution_count": 148
        }
      ]
    },
    {
      "cell_type": "markdown",
      "metadata": {
        "id": "KVuFN3RxkA9q"
      },
      "source": [
        "# 3. Автоматическое извлечение ключевых слов\n",
        "\n",
        "Сначала предобработаем тексты:    \n",
        "- приведем все в нижний регистр\n",
        "- затокенизируем \n",
        "\n",
        "(для английского языка лемметизация или стемминг не очень продуктивны, так что обойдемся этим)"
      ]
    },
    {
      "cell_type": "code",
      "metadata": {
        "colab": {
          "base_uri": "https://localhost:8080/"
        },
        "id": "WX4qg8JJpmwX",
        "outputId": "5e03a0de-8330-4716-b6bf-b49ab7613994"
      },
      "source": [
        "import nltk\n",
        "from nltk import word_tokenize\n",
        "from nltk.corpus import stopwords\n",
        "\n",
        "nltk.download(['punkt', 'stopwords'])"
      ],
      "execution_count": 322,
      "outputs": [
        {
          "output_type": "stream",
          "name": "stdout",
          "text": [
            "[nltk_data] Downloading package punkt to /root/nltk_data...\n",
            "[nltk_data]   Package punkt is already up-to-date!\n",
            "[nltk_data] Downloading package stopwords to /root/nltk_data...\n",
            "[nltk_data]   Package stopwords is already up-to-date!\n"
          ]
        },
        {
          "output_type": "execute_result",
          "data": {
            "text/plain": [
              "True"
            ]
          },
          "metadata": {},
          "execution_count": 322
        }
      ]
    },
    {
      "cell_type": "code",
      "metadata": {
        "id": "cxxybmUtvpHw"
      },
      "source": [
        "STOPS = stopwords.words('english')"
      ],
      "execution_count": 248,
      "outputs": []
    },
    {
      "cell_type": "code",
      "metadata": {
        "id": "XCOfaGHipWXI"
      },
      "source": [
        "def preprocess(text):\n",
        "    return ' '.join([token.lower() for token in word_tokenize(text)])"
      ],
      "execution_count": 249,
      "outputs": []
    },
    {
      "cell_type": "code",
      "metadata": {
        "id": "up8gzAVep3al"
      },
      "source": [
        "dataset['tokenized'] = dataset.TEXT.apply(preprocess)"
      ],
      "execution_count": 250,
      "outputs": []
    },
    {
      "cell_type": "markdown",
      "metadata": {
        "id": "r-Ot8UkDoQUQ"
      },
      "source": [
        "## 3.1 TF-IDF\n",
        "\n",
        "Сначала возьмем самый простой вариант -- TF-IDF\n",
        "\n",
        "Воспользуемся [этой](https://github.com/kavgan/nlp-in-practice/blob/master/tf-idf/Keyword%20Extraction%20with%20TF-IDF%20and%20SKlearn.ipynb) имплементацией, но заменим вывод topn ключевых слов, на топ слов, скор которых превосходит порог"
      ]
    },
    {
      "cell_type": "code",
      "metadata": {
        "colab": {
          "base_uri": "https://localhost:8080/"
        },
        "id": "T01d_oZZoA5A",
        "outputId": "ae56fc44-023d-4f19-d766-92be5063f1fd"
      },
      "source": [
        "from sklearn.feature_extraction.text import CountVectorizer, TfidfTransformer\n",
        "\n",
        "\n",
        "cv = CountVectorizer(max_df=0.85, stop_words=STOPS, max_features=10000, ngram_range=(1,3))\n",
        "word_count_vector = cv.fit_transform(dataset.tokenized.tolist())\n",
        "\n",
        "tfidf_transformer = TfidfTransformer(smooth_idf=True, use_idf=True)\n",
        "tfidf_transformer.fit(word_count_vector)"
      ],
      "execution_count": 251,
      "outputs": [
        {
          "output_type": "execute_result",
          "data": {
            "text/plain": [
              "TfidfTransformer(norm='l2', smooth_idf=True, sublinear_tf=False, use_idf=True)"
            ]
          },
          "metadata": {},
          "execution_count": 251
        }
      ]
    },
    {
      "cell_type": "code",
      "metadata": {
        "id": "d2SrI2A-wy80"
      },
      "source": [
        "def sort_coo(coo_matrix):\n",
        "    tuples = zip(coo_matrix.col, coo_matrix.data)\n",
        "    return sorted(tuples, key=lambda x: (x[1], x[0]), reverse=True)\n",
        "\n",
        "def extract_topn_from_vector(feature_names, sorted_items, tol=0.1):\n",
        "    \"\"\"get the feature names and tf-idf score of items\"\"\"\n",
        "    \n",
        "    sorted_items = [item for item in sorted_items if item[1] > tol]  \n",
        "\n",
        "    score_vals = []\n",
        "    feature_vals = []\n",
        "\n",
        "    for idx, score in sorted_items:\n",
        "        fname = feature_names[idx]\n",
        "        \n",
        "        #keep track of feature name and its corresponding score\n",
        "        score_vals.append(round(score, 3))\n",
        "        feature_vals.append(feature_names[idx])\n",
        "\n",
        "    #create a tuples of feature,score\n",
        "    #results = zip(feature_vals,score_vals)\n",
        "    results= {}\n",
        "    for idx in range(len(feature_vals)):\n",
        "        results[feature_vals[idx]]=score_vals[idx]\n",
        "    \n",
        "    return results"
      ],
      "execution_count": 252,
      "outputs": []
    },
    {
      "cell_type": "code",
      "metadata": {
        "id": "locyj8S0w8oe"
      },
      "source": [
        "def tfidf_keywords(text, tol=0.1):\n",
        "    feature_names = cv.get_feature_names()\n",
        "    tf_idf_vector = tfidf_transformer.transform(cv.transform([text]))\n",
        "    sorted_items = sort_coo(tf_idf_vector.tocoo())\n",
        "    keywords = extract_topn_from_vector(feature_names, sorted_items, tol)\n",
        "\n",
        "    return set(keywords.keys())"
      ],
      "execution_count": 253,
      "outputs": []
    },
    {
      "cell_type": "markdown",
      "metadata": {
        "id": "b5lRgWoHytbx"
      },
      "source": [
        "Возьмем два порога 0.1 и 0.15, на них кажется получаем оптимальное количество ключевых слов:"
      ]
    },
    {
      "cell_type": "code",
      "metadata": {
        "id": "PaeMyQfwy3k4"
      },
      "source": [
        "dataset['tfidf_1'] = dataset.tokenized.apply(tfidf_keywords, tol=0.1)\n",
        "dataset['tfidf_15'] = dataset.tokenized.apply(tfidf_keywords, tol=0.15)"
      ],
      "execution_count": 254,
      "outputs": []
    },
    {
      "cell_type": "code",
      "metadata": {
        "colab": {
          "base_uri": "https://localhost:8080/"
        },
        "id": "1CeeOE4ky37O",
        "outputId": "ed1dded8-2dcf-4f30-8bf1-cbab8c84b207"
      },
      "source": [
        "print('tol=0.15:', dataset.tfidf_15[0])\n",
        "print('tol=0.1:', dataset.tfidf_1[0])"
      ],
      "execution_count": 255,
      "outputs": [
        {
          "output_type": "stream",
          "name": "stdout",
          "text": [
            "tol=0.15: {'bars', 'bar', 'fat', 'saturated', 'saturated fat', 'energy'}\n",
            "tol=0.1: {'grams', 'bars', 'protein', 'contain', 'bar', 'nutrition', 'energy bars', 'fat', 'saturated', 'saturated fat', 'energy'}\n"
          ]
        }
      ]
    },
    {
      "cell_type": "markdown",
      "metadata": {
        "id": "-Ei6qDVyn-k2"
      },
      "source": [
        "## 3.2 TextRank\n",
        "\n",
        "Возьмем имплементацию [отсюда](https://github.com/summanlp/textrank)"
      ]
    },
    {
      "cell_type": "code",
      "metadata": {
        "id": "IOpVDv4fjMYQ"
      },
      "source": [
        "!pip install --quiet summa"
      ],
      "execution_count": 256,
      "outputs": []
    },
    {
      "cell_type": "code",
      "metadata": {
        "id": "u215YXW1m7m3"
      },
      "source": [
        "from summa.textrank import textrank\n",
        "\n",
        "\n",
        "dataset['textrank'] = dataset.TEXT.apply(lambda x: set(textrank(x, summarize_by=None).split('\\n')))"
      ],
      "execution_count": 257,
      "outputs": []
    },
    {
      "cell_type": "code",
      "metadata": {
        "colab": {
          "base_uri": "https://localhost:8080/"
        },
        "id": "OCx_637snzvk",
        "outputId": "53a0eb59-bae2-4d5f-fecb-be71a5e3a57c"
      },
      "source": [
        "dataset.textrank[0]"
      ],
      "execution_count": 258,
      "outputs": [
        {
          "output_type": "execute_result",
          "data": {
            "text/plain": [
              "{'convenient source',\n",
              " 'created',\n",
              " 'equal',\n",
              " 'meal',\n",
              " 'meals',\n",
              " 'replacement aim',\n",
              " 'rice syrup',\n",
              " 'satisfy',\n",
              " 'satisfying',\n",
              " 'story highlights'}"
            ]
          },
          "metadata": {},
          "execution_count": 258
        }
      ]
    },
    {
      "cell_type": "markdown",
      "metadata": {
        "id": "CExzwwkTzm8t"
      },
      "source": [
        "### 3.3 BERT\n",
        "\n",
        "Посмотрим на то, как с извлечением ключевых слов справляется трансформер 🌝\n",
        "\n",
        "Снова не будем изобретать велосипед и воспользуемся вот [этой имплементацией](https://github.com/MaartenGr/KeyBERT)\n"
      ]
    },
    {
      "cell_type": "code",
      "metadata": {
        "id": "70clfhSPzjsK"
      },
      "source": [
        "!pip install --quiet keybert"
      ],
      "execution_count": 259,
      "outputs": []
    },
    {
      "cell_type": "code",
      "metadata": {
        "id": "YOaQQbvo0YeX"
      },
      "source": [
        "from keybert import KeyBERT\n",
        "\n",
        "\n",
        "kw_model = KeyBERT()"
      ],
      "execution_count": 260,
      "outputs": []
    },
    {
      "cell_type": "markdown",
      "metadata": {
        "id": "McyLdYty797g"
      },
      "source": [
        "Почему-то при указании ngram-range всегда ищутся только нграммы максимальной длины, а хочется разнообразия, поэтому сделаем так:"
      ]
    },
    {
      "cell_type": "code",
      "metadata": {
        "id": "--O5adJ_1GiR"
      },
      "source": [
        "def bert_keywords(text, tol=0.4):\n",
        "    kw = []\n",
        "    for i in range(1,4):\n",
        "        words = kw_model.extract_keywords(text, keyphrase_ngram_range=(i,i), stop_words=STOPS, top_n=10)\n",
        "        kw.extend([word[0] for word in words if word[1] > tol])\n",
        "    return set(kw)"
      ],
      "execution_count": 308,
      "outputs": []
    },
    {
      "cell_type": "code",
      "metadata": {
        "id": "VxTEKOUz0oMW"
      },
      "source": [
        "dataset['bert_4'] = dataset['tokenized'].apply(bert_keywords, tol=0.4)\n",
        "dataset['bert_5'] = dataset['tokenized'].apply(bert_keywords, tol=0.5)"
      ],
      "execution_count": 305,
      "outputs": []
    },
    {
      "cell_type": "markdown",
      "metadata": {
        "id": "Xlkhb6P01az0"
      },
      "source": [
        "# 4. Шаблоны\n",
        "\n",
        "Выделим шаблоны, которые встречаются в таргете:"
      ]
    },
    {
      "cell_type": "code",
      "metadata": {
        "colab": {
          "base_uri": "https://localhost:8080/"
        },
        "id": "FG3zDGbkI0ja",
        "outputId": "197c3681-d329-49ae-84c3-b61882927617"
      },
      "source": [
        "!pip install --quiet spacy==3.1\n",
        "!python -m spacy download en_core_web_sm"
      ],
      "execution_count": 323,
      "outputs": [
        {
          "output_type": "stream",
          "name": "stdout",
          "text": [
            "Collecting en-core-web-sm==3.1.0\n",
            "  Downloading https://github.com/explosion/spacy-models/releases/download/en_core_web_sm-3.1.0/en_core_web_sm-3.1.0-py3-none-any.whl (13.6 MB)\n",
            "\u001b[K     |████████████████████████████████| 13.6 MB 69 kB/s \n",
            "\u001b[?25hRequirement already satisfied: spacy<3.2.0,>=3.1.0 in /usr/local/lib/python3.7/dist-packages (from en-core-web-sm==3.1.0) (3.1.0)\n",
            "Requirement already satisfied: catalogue<2.1.0,>=2.0.4 in /usr/local/lib/python3.7/dist-packages (from spacy<3.2.0,>=3.1.0->en-core-web-sm==3.1.0) (2.0.6)\n",
            "Requirement already satisfied: requests<3.0.0,>=2.13.0 in /usr/local/lib/python3.7/dist-packages (from spacy<3.2.0,>=3.1.0->en-core-web-sm==3.1.0) (2.23.0)\n",
            "Requirement already satisfied: thinc<8.1.0,>=8.0.7 in /usr/local/lib/python3.7/dist-packages (from spacy<3.2.0,>=3.1.0->en-core-web-sm==3.1.0) (8.0.13)\n",
            "Requirement already satisfied: preshed<3.1.0,>=3.0.2 in /usr/local/lib/python3.7/dist-packages (from spacy<3.2.0,>=3.1.0->en-core-web-sm==3.1.0) (3.0.5)\n",
            "Requirement already satisfied: packaging>=20.0 in /usr/local/lib/python3.7/dist-packages (from spacy<3.2.0,>=3.1.0->en-core-web-sm==3.1.0) (21.0)\n",
            "Requirement already satisfied: pathy>=0.3.5 in /usr/local/lib/python3.7/dist-packages (from spacy<3.2.0,>=3.1.0->en-core-web-sm==3.1.0) (0.6.1)\n",
            "Requirement already satisfied: typer<0.4.0,>=0.3.0 in /usr/local/lib/python3.7/dist-packages (from spacy<3.2.0,>=3.1.0->en-core-web-sm==3.1.0) (0.3.2)\n",
            "Requirement already satisfied: murmurhash<1.1.0,>=0.28.0 in /usr/local/lib/python3.7/dist-packages (from spacy<3.2.0,>=3.1.0->en-core-web-sm==3.1.0) (1.0.5)\n",
            "Requirement already satisfied: spacy-legacy<3.1.0,>=3.0.7 in /usr/local/lib/python3.7/dist-packages (from spacy<3.2.0,>=3.1.0->en-core-web-sm==3.1.0) (3.0.8)\n",
            "Requirement already satisfied: jinja2 in /usr/local/lib/python3.7/dist-packages (from spacy<3.2.0,>=3.1.0->en-core-web-sm==3.1.0) (2.11.3)\n",
            "Requirement already satisfied: typing-extensions<4.0.0.0,>=3.7.4 in /usr/local/lib/python3.7/dist-packages (from spacy<3.2.0,>=3.1.0->en-core-web-sm==3.1.0) (3.7.4.3)\n",
            "Requirement already satisfied: blis<0.8.0,>=0.4.0 in /usr/local/lib/python3.7/dist-packages (from spacy<3.2.0,>=3.1.0->en-core-web-sm==3.1.0) (0.4.1)\n",
            "Requirement already satisfied: setuptools in /usr/local/lib/python3.7/dist-packages (from spacy<3.2.0,>=3.1.0->en-core-web-sm==3.1.0) (57.4.0)\n",
            "Requirement already satisfied: tqdm<5.0.0,>=4.38.0 in /usr/local/lib/python3.7/dist-packages (from spacy<3.2.0,>=3.1.0->en-core-web-sm==3.1.0) (4.62.3)\n",
            "Requirement already satisfied: srsly<3.0.0,>=2.4.1 in /usr/local/lib/python3.7/dist-packages (from spacy<3.2.0,>=3.1.0->en-core-web-sm==3.1.0) (2.4.2)\n",
            "Requirement already satisfied: pydantic!=1.8,!=1.8.1,<1.9.0,>=1.7.4 in /usr/local/lib/python3.7/dist-packages (from spacy<3.2.0,>=3.1.0->en-core-web-sm==3.1.0) (1.8.2)\n",
            "Requirement already satisfied: cymem<2.1.0,>=2.0.2 in /usr/local/lib/python3.7/dist-packages (from spacy<3.2.0,>=3.1.0->en-core-web-sm==3.1.0) (2.0.5)\n",
            "Requirement already satisfied: numpy>=1.15.0 in /usr/local/lib/python3.7/dist-packages (from spacy<3.2.0,>=3.1.0->en-core-web-sm==3.1.0) (1.19.5)\n",
            "Requirement already satisfied: wasabi<1.1.0,>=0.8.1 in /usr/local/lib/python3.7/dist-packages (from spacy<3.2.0,>=3.1.0->en-core-web-sm==3.1.0) (0.8.2)\n",
            "Requirement already satisfied: zipp>=0.5 in /usr/local/lib/python3.7/dist-packages (from catalogue<2.1.0,>=2.0.4->spacy<3.2.0,>=3.1.0->en-core-web-sm==3.1.0) (3.6.0)\n",
            "Requirement already satisfied: pyparsing>=2.0.2 in /usr/local/lib/python3.7/dist-packages (from packaging>=20.0->spacy<3.2.0,>=3.1.0->en-core-web-sm==3.1.0) (2.4.7)\n",
            "Requirement already satisfied: smart-open<6.0.0,>=5.0.0 in /usr/local/lib/python3.7/dist-packages (from pathy>=0.3.5->spacy<3.2.0,>=3.1.0->en-core-web-sm==3.1.0) (5.2.1)\n",
            "Requirement already satisfied: certifi>=2017.4.17 in /usr/local/lib/python3.7/dist-packages (from requests<3.0.0,>=2.13.0->spacy<3.2.0,>=3.1.0->en-core-web-sm==3.1.0) (2021.5.30)\n",
            "Requirement already satisfied: urllib3!=1.25.0,!=1.25.1,<1.26,>=1.21.1 in /usr/local/lib/python3.7/dist-packages (from requests<3.0.0,>=2.13.0->spacy<3.2.0,>=3.1.0->en-core-web-sm==3.1.0) (1.24.3)\n",
            "Requirement already satisfied: idna<3,>=2.5 in /usr/local/lib/python3.7/dist-packages (from requests<3.0.0,>=2.13.0->spacy<3.2.0,>=3.1.0->en-core-web-sm==3.1.0) (2.10)\n",
            "Requirement already satisfied: chardet<4,>=3.0.2 in /usr/local/lib/python3.7/dist-packages (from requests<3.0.0,>=2.13.0->spacy<3.2.0,>=3.1.0->en-core-web-sm==3.1.0) (3.0.4)\n",
            "Requirement already satisfied: click<7.2.0,>=7.1.1 in /usr/local/lib/python3.7/dist-packages (from typer<0.4.0,>=0.3.0->spacy<3.2.0,>=3.1.0->en-core-web-sm==3.1.0) (7.1.2)\n",
            "Requirement already satisfied: MarkupSafe>=0.23 in /usr/local/lib/python3.7/dist-packages (from jinja2->spacy<3.2.0,>=3.1.0->en-core-web-sm==3.1.0) (2.0.1)\n",
            "\u001b[38;5;2m✔ Download and installation successful\u001b[0m\n",
            "You can now load the package via spacy.load('en_core_web_sm')\n"
          ]
        }
      ]
    },
    {
      "cell_type": "code",
      "metadata": {
        "id": "0FLq7ybIIR8c"
      },
      "source": [
        "nlp = spacy.load('en_core_web_sm')"
      ],
      "execution_count": 325,
      "outputs": []
    },
    {
      "cell_type": "markdown",
      "metadata": {
        "id": "khtEvqsgRz4S"
      },
      "source": [
        "Опишем шаблоны:"
      ]
    },
    {
      "cell_type": "code",
      "metadata": {
        "id": "ifbJ1ExsELOX"
      },
      "source": [
        "import re\n",
        "\n",
        "\n",
        "NP = '(?:ADJ |NOUN |PROPN |VERB |ADP )*(?:NOUN|PROPN)'  # \"стандартные\" именные группы + штуки типа secretary of state, imported goods и тд\n",
        "VP = '(?:VERB |PRON |DET )*VERB'  # глагольные группы + штуки как whats и thats\n",
        "AP = '(?:ADJ |ADV )*ADJ'  # прилагательные и адъективные группы\n",
        "OT = 'NUM|ADP'  # другие вещи, не входящие в описанное выше, например цифры (ADP потому что iq размечается spacy как ADP)"
      ],
      "execution_count": 481,
      "outputs": []
    },
    {
      "cell_type": "code",
      "metadata": {
        "id": "hz7vCW-APl5K"
      },
      "source": [
        "def check_pattern(text: str):\n",
        "    doc = nlp(text)\n",
        "    pos = ' '.join([token.pos_ for token in doc])\n",
        "    \n",
        "    patterns = []\n",
        "    for pattern in [NP, VP, AP, OT]:\n",
        "        match = re.findall(pattern, pos)\n",
        "        if not match:\n",
        "            continue\n",
        "        for p in match:\n",
        "            if len(p.split()) == len(pos.split()):\n",
        "                return text\n",
        "       \n",
        "\n",
        "def filter_kw(kw: set):\n",
        "    new_words = [check_pattern(word) for word in kw]\n",
        "    return set([w for w in new_words if w])"
      ],
      "execution_count": 708,
      "outputs": []
    },
    {
      "cell_type": "markdown",
      "metadata": {
        "id": "dcs-OTA6Wmqa"
      },
      "source": [
        "Проверим, что фильтрация работает:"
      ]
    },
    {
      "cell_type": "code",
      "metadata": {
        "colab": {
          "base_uri": "https://localhost:8080/"
        },
        "id": "bLbjNFufWU9p",
        "outputId": "67f095cd-5043-4e08-8717-89c08f20ae67"
      },
      "source": [
        "(dataset.tfidf_1.apply(filter_kw) == dataset.tfidf_1).all()"
      ],
      "execution_count": 697,
      "outputs": [
        {
          "output_type": "execute_result",
          "data": {
            "text/plain": [
              "False"
            ]
          },
          "metadata": {},
          "execution_count": 697
        }
      ]
    },
    {
      "cell_type": "markdown",
      "metadata": {
        "id": "h0tJ2yQRXDKu"
      },
      "source": [
        "Ура, что-то отфильтровалось\n",
        "\n",
        "# 5. Оценка автоматически извлеченных слов\n",
        "\n"
      ]
    },
    {
      "cell_type": "code",
      "metadata": {
        "id": "QdmXRFPdeWpa"
      },
      "source": [
        "def evaluate(y_pred, y_true):\n",
        "\n",
        "    y_pred = y_pred.apply(lambda x: set([''.join(w.split()) for w in x])).values  ## потому что там в оригинальных ключевых словах есть вещи типа oneofakind\n",
        "    y_true = y_true.apply(lambda x: set([''.join(w.split()) for w in x])).values\n",
        "\n",
        "    tp = np.apply_along_axis(func1d=lambda x: len(x[0]),\n",
        "                             axis=1,\n",
        "                             arr=np.expand_dims(y_pred & y_true, 1))\n",
        "\n",
        "    fp = np.apply_along_axis(func1d=lambda x: len(x[0]),\n",
        "                             axis=1,\n",
        "                             arr=np.expand_dims(y_pred - y_true, 1))\n",
        "    \n",
        "    fn = np.apply_along_axis(func1d=lambda x: len(x[0]),\n",
        "                             axis=1,\n",
        "                             arr=np.expand_dims(y_true - y_pred, 1))\n",
        "\n",
        "    macro_precision = (tp / (tp + fp + 1e-25)).mean()\n",
        "    macro_recall = (tp / (tp + fn)).mean()\n",
        "    macro_f1 =  (2 / (macro_recall ** -1 + macro_precision ** -1)).mean()\n",
        "\n",
        "    tp = tp.sum()\n",
        "    fp = fp.sum()\n",
        "    fn = fn.sum()\n",
        "\n",
        "    micro_precision = tp / (tp + fp) \n",
        "    micro_recall = tp / (tp + fn)\n",
        "    micro_f1 =  2 / (micro_recall ** -1 + micro_precision ** -1)\n",
        "\n",
        "    results = {'precision': {'macro': macro_precision,\n",
        "                             'micro': micro_precision},\n",
        "               'recall': {'macro': macro_recall,\n",
        "                          'micro': micro_recall},\n",
        "               'f1': {'macro': macro_f1,\n",
        "                      'micro': micro_f1}\n",
        "               }\n",
        "\n",
        "    return pd.DataFrame(results)"
      ],
      "execution_count": 718,
      "outputs": []
    },
    {
      "cell_type": "markdown",
      "metadata": {
        "id": "A-AkrPQYiZ09"
      },
      "source": [
        "### 5.1 TF-IDF"
      ]
    },
    {
      "cell_type": "code",
      "metadata": {
        "colab": {
          "base_uri": "https://localhost:8080/",
          "height": 112
        },
        "id": "MiHl867FfIIi",
        "outputId": "ba1abec8-6829-4719-ef0d-192f48cd9ad7"
      },
      "source": [
        "# без шаблонов\n",
        "evaluate(dataset.tfidf_1, dataset.target)"
      ],
      "execution_count": 719,
      "outputs": [
        {
          "output_type": "execute_result",
          "data": {
            "text/html": [
              "<div>\n",
              "<style scoped>\n",
              "    .dataframe tbody tr th:only-of-type {\n",
              "        vertical-align: middle;\n",
              "    }\n",
              "\n",
              "    .dataframe tbody tr th {\n",
              "        vertical-align: top;\n",
              "    }\n",
              "\n",
              "    .dataframe thead th {\n",
              "        text-align: right;\n",
              "    }\n",
              "</style>\n",
              "<table border=\"1\" class=\"dataframe\">\n",
              "  <thead>\n",
              "    <tr style=\"text-align: right;\">\n",
              "      <th></th>\n",
              "      <th>precision</th>\n",
              "      <th>recall</th>\n",
              "      <th>f1</th>\n",
              "    </tr>\n",
              "  </thead>\n",
              "  <tbody>\n",
              "    <tr>\n",
              "      <th>macro</th>\n",
              "      <td>0.761291</td>\n",
              "      <td>0.470246</td>\n",
              "      <td>0.581378</td>\n",
              "    </tr>\n",
              "    <tr>\n",
              "      <th>micro</th>\n",
              "      <td>0.688679</td>\n",
              "      <td>0.453416</td>\n",
              "      <td>0.546816</td>\n",
              "    </tr>\n",
              "  </tbody>\n",
              "</table>\n",
              "</div>"
            ],
            "text/plain": [
              "       precision    recall        f1\n",
              "macro   0.761291  0.470246  0.581378\n",
              "micro   0.688679  0.453416  0.546816"
            ]
          },
          "metadata": {},
          "execution_count": 719
        }
      ]
    },
    {
      "cell_type": "code",
      "metadata": {
        "colab": {
          "base_uri": "https://localhost:8080/",
          "height": 112
        },
        "id": "mDupEskKfKJM",
        "outputId": "7cf71b66-3860-4c60-b389-8db857d0f470"
      },
      "source": [
        "# с шаблонами\n",
        "evaluate(dataset.tfidf_1.apply(filter_kw), dataset.target)"
      ],
      "execution_count": 720,
      "outputs": [
        {
          "output_type": "execute_result",
          "data": {
            "text/html": [
              "<div>\n",
              "<style scoped>\n",
              "    .dataframe tbody tr th:only-of-type {\n",
              "        vertical-align: middle;\n",
              "    }\n",
              "\n",
              "    .dataframe tbody tr th {\n",
              "        vertical-align: top;\n",
              "    }\n",
              "\n",
              "    .dataframe thead th {\n",
              "        text-align: right;\n",
              "    }\n",
              "</style>\n",
              "<table border=\"1\" class=\"dataframe\">\n",
              "  <thead>\n",
              "    <tr style=\"text-align: right;\">\n",
              "      <th></th>\n",
              "      <th>precision</th>\n",
              "      <th>recall</th>\n",
              "      <th>f1</th>\n",
              "    </tr>\n",
              "  </thead>\n",
              "  <tbody>\n",
              "    <tr>\n",
              "      <th>macro</th>\n",
              "      <td>0.797960</td>\n",
              "      <td>0.470246</td>\n",
              "      <td>0.591761</td>\n",
              "    </tr>\n",
              "    <tr>\n",
              "      <th>micro</th>\n",
              "      <td>0.768421</td>\n",
              "      <td>0.453416</td>\n",
              "      <td>0.570312</td>\n",
              "    </tr>\n",
              "  </tbody>\n",
              "</table>\n",
              "</div>"
            ],
            "text/plain": [
              "       precision    recall        f1\n",
              "macro   0.797960  0.470246  0.591761\n",
              "micro   0.768421  0.453416  0.570312"
            ]
          },
          "metadata": {},
          "execution_count": 720
        }
      ]
    },
    {
      "cell_type": "code",
      "metadata": {
        "colab": {
          "base_uri": "https://localhost:8080/",
          "height": 112
        },
        "id": "EsnyAwGdiygs",
        "outputId": "41cd0488-a019-4528-ead3-59b44ccdc635"
      },
      "source": [
        "# без шаблонов\n",
        "evaluate(dataset.tfidf_15, dataset.target)"
      ],
      "execution_count": 721,
      "outputs": [
        {
          "output_type": "execute_result",
          "data": {
            "text/html": [
              "<div>\n",
              "<style scoped>\n",
              "    .dataframe tbody tr th:only-of-type {\n",
              "        vertical-align: middle;\n",
              "    }\n",
              "\n",
              "    .dataframe tbody tr th {\n",
              "        vertical-align: top;\n",
              "    }\n",
              "\n",
              "    .dataframe thead th {\n",
              "        text-align: right;\n",
              "    }\n",
              "</style>\n",
              "<table border=\"1\" class=\"dataframe\">\n",
              "  <thead>\n",
              "    <tr style=\"text-align: right;\">\n",
              "      <th></th>\n",
              "      <th>precision</th>\n",
              "      <th>recall</th>\n",
              "      <th>f1</th>\n",
              "    </tr>\n",
              "  </thead>\n",
              "  <tbody>\n",
              "    <tr>\n",
              "      <th>macro</th>\n",
              "      <td>0.918333</td>\n",
              "      <td>0.252346</td>\n",
              "      <td>0.395904</td>\n",
              "    </tr>\n",
              "    <tr>\n",
              "      <th>micro</th>\n",
              "      <td>0.720000</td>\n",
              "      <td>0.223602</td>\n",
              "      <td>0.341232</td>\n",
              "    </tr>\n",
              "  </tbody>\n",
              "</table>\n",
              "</div>"
            ],
            "text/plain": [
              "       precision    recall        f1\n",
              "macro   0.918333  0.252346  0.395904\n",
              "micro   0.720000  0.223602  0.341232"
            ]
          },
          "metadata": {},
          "execution_count": 721
        }
      ]
    },
    {
      "cell_type": "code",
      "metadata": {
        "colab": {
          "base_uri": "https://localhost:8080/",
          "height": 112
        },
        "id": "pYunDsOvi0jv",
        "outputId": "3be236ba-8d71-4112-c91d-b00ba42b5325"
      },
      "source": [
        "# с шаблонами\n",
        "evaluate(dataset.tfidf_15.apply(filter_kw), dataset.target)"
      ],
      "execution_count": 722,
      "outputs": [
        {
          "output_type": "execute_result",
          "data": {
            "text/html": [
              "<div>\n",
              "<style scoped>\n",
              "    .dataframe tbody tr th:only-of-type {\n",
              "        vertical-align: middle;\n",
              "    }\n",
              "\n",
              "    .dataframe tbody tr th {\n",
              "        vertical-align: top;\n",
              "    }\n",
              "\n",
              "    .dataframe thead th {\n",
              "        text-align: right;\n",
              "    }\n",
              "</style>\n",
              "<table border=\"1\" class=\"dataframe\">\n",
              "  <thead>\n",
              "    <tr style=\"text-align: right;\">\n",
              "      <th></th>\n",
              "      <th>precision</th>\n",
              "      <th>recall</th>\n",
              "      <th>f1</th>\n",
              "    </tr>\n",
              "  </thead>\n",
              "  <tbody>\n",
              "    <tr>\n",
              "      <th>macro</th>\n",
              "      <td>0.941667</td>\n",
              "      <td>0.252346</td>\n",
              "      <td>0.39803</td>\n",
              "    </tr>\n",
              "    <tr>\n",
              "      <th>micro</th>\n",
              "      <td>0.857143</td>\n",
              "      <td>0.223602</td>\n",
              "      <td>0.35468</td>\n",
              "    </tr>\n",
              "  </tbody>\n",
              "</table>\n",
              "</div>"
            ],
            "text/plain": [
              "       precision    recall       f1\n",
              "macro   0.941667  0.252346  0.39803\n",
              "micro   0.857143  0.223602  0.35468"
            ]
          },
          "metadata": {},
          "execution_count": 722
        }
      ]
    },
    {
      "cell_type": "markdown",
      "metadata": {
        "id": "xgLGfuiWipXA"
      },
      "source": [
        "### 5.2 TextRank"
      ]
    },
    {
      "cell_type": "code",
      "metadata": {
        "colab": {
          "base_uri": "https://localhost:8080/",
          "height": 112
        },
        "id": "_j9Lz71xho5n",
        "outputId": "2c7ab1d2-4cd5-4859-e236-c5e5e8d301c6"
      },
      "source": [
        "# без шаблонов\n",
        "evaluate(dataset.textrank, dataset.target)"
      ],
      "execution_count": 723,
      "outputs": [
        {
          "output_type": "execute_result",
          "data": {
            "text/html": [
              "<div>\n",
              "<style scoped>\n",
              "    .dataframe tbody tr th:only-of-type {\n",
              "        vertical-align: middle;\n",
              "    }\n",
              "\n",
              "    .dataframe tbody tr th {\n",
              "        vertical-align: top;\n",
              "    }\n",
              "\n",
              "    .dataframe thead th {\n",
              "        text-align: right;\n",
              "    }\n",
              "</style>\n",
              "<table border=\"1\" class=\"dataframe\">\n",
              "  <thead>\n",
              "    <tr style=\"text-align: right;\">\n",
              "      <th></th>\n",
              "      <th>precision</th>\n",
              "      <th>recall</th>\n",
              "      <th>f1</th>\n",
              "    </tr>\n",
              "  </thead>\n",
              "  <tbody>\n",
              "    <tr>\n",
              "      <th>macro</th>\n",
              "      <td>0.132236</td>\n",
              "      <td>0.228967</td>\n",
              "      <td>0.167649</td>\n",
              "    </tr>\n",
              "    <tr>\n",
              "      <th>micro</th>\n",
              "      <td>0.161290</td>\n",
              "      <td>0.248447</td>\n",
              "      <td>0.195599</td>\n",
              "    </tr>\n",
              "  </tbody>\n",
              "</table>\n",
              "</div>"
            ],
            "text/plain": [
              "       precision    recall        f1\n",
              "macro   0.132236  0.228967  0.167649\n",
              "micro   0.161290  0.248447  0.195599"
            ]
          },
          "metadata": {},
          "execution_count": 723
        }
      ]
    },
    {
      "cell_type": "code",
      "metadata": {
        "colab": {
          "base_uri": "https://localhost:8080/",
          "height": 112
        },
        "id": "GSxBuqmTi9IJ",
        "outputId": "8da19853-eabb-4705-aae3-f02c28e79874"
      },
      "source": [
        "# с шаблонами\n",
        "evaluate(dataset.textrank.apply(filter_kw), dataset.target)"
      ],
      "execution_count": 724,
      "outputs": [
        {
          "output_type": "execute_result",
          "data": {
            "text/html": [
              "<div>\n",
              "<style scoped>\n",
              "    .dataframe tbody tr th:only-of-type {\n",
              "        vertical-align: middle;\n",
              "    }\n",
              "\n",
              "    .dataframe tbody tr th {\n",
              "        vertical-align: top;\n",
              "    }\n",
              "\n",
              "    .dataframe thead th {\n",
              "        text-align: right;\n",
              "    }\n",
              "</style>\n",
              "<table border=\"1\" class=\"dataframe\">\n",
              "  <thead>\n",
              "    <tr style=\"text-align: right;\">\n",
              "      <th></th>\n",
              "      <th>precision</th>\n",
              "      <th>recall</th>\n",
              "      <th>f1</th>\n",
              "    </tr>\n",
              "  </thead>\n",
              "  <tbody>\n",
              "    <tr>\n",
              "      <th>macro</th>\n",
              "      <td>0.148934</td>\n",
              "      <td>0.222717</td>\n",
              "      <td>0.178501</td>\n",
              "    </tr>\n",
              "    <tr>\n",
              "      <th>micro</th>\n",
              "      <td>0.174888</td>\n",
              "      <td>0.242236</td>\n",
              "      <td>0.203125</td>\n",
              "    </tr>\n",
              "  </tbody>\n",
              "</table>\n",
              "</div>"
            ],
            "text/plain": [
              "       precision    recall        f1\n",
              "macro   0.148934  0.222717  0.178501\n",
              "micro   0.174888  0.242236  0.203125"
            ]
          },
          "metadata": {},
          "execution_count": 724
        }
      ]
    },
    {
      "cell_type": "markdown",
      "metadata": {
        "id": "B0wNdn4ukRWa"
      },
      "source": [
        "### 5.3 BERT"
      ]
    },
    {
      "cell_type": "code",
      "metadata": {
        "colab": {
          "base_uri": "https://localhost:8080/",
          "height": 112
        },
        "id": "N5lIUEj8jZzd",
        "outputId": "222dd3d5-b9a9-4161-9e66-0d0c75279149"
      },
      "source": [
        "# без шаблонов\n",
        "evaluate(dataset.bert_4, dataset.target)"
      ],
      "execution_count": 725,
      "outputs": [
        {
          "output_type": "execute_result",
          "data": {
            "text/html": [
              "<div>\n",
              "<style scoped>\n",
              "    .dataframe tbody tr th:only-of-type {\n",
              "        vertical-align: middle;\n",
              "    }\n",
              "\n",
              "    .dataframe tbody tr th {\n",
              "        vertical-align: top;\n",
              "    }\n",
              "\n",
              "    .dataframe thead th {\n",
              "        text-align: right;\n",
              "    }\n",
              "</style>\n",
              "<table border=\"1\" class=\"dataframe\">\n",
              "  <thead>\n",
              "    <tr style=\"text-align: right;\">\n",
              "      <th></th>\n",
              "      <th>precision</th>\n",
              "      <th>recall</th>\n",
              "      <th>f1</th>\n",
              "    </tr>\n",
              "  </thead>\n",
              "  <tbody>\n",
              "    <tr>\n",
              "      <th>macro</th>\n",
              "      <td>0.121515</td>\n",
              "      <td>0.176423</td>\n",
              "      <td>0.143910</td>\n",
              "    </tr>\n",
              "    <tr>\n",
              "      <th>micro</th>\n",
              "      <td>0.119816</td>\n",
              "      <td>0.161491</td>\n",
              "      <td>0.137566</td>\n",
              "    </tr>\n",
              "  </tbody>\n",
              "</table>\n",
              "</div>"
            ],
            "text/plain": [
              "       precision    recall        f1\n",
              "macro   0.121515  0.176423  0.143910\n",
              "micro   0.119816  0.161491  0.137566"
            ]
          },
          "metadata": {},
          "execution_count": 725
        }
      ]
    },
    {
      "cell_type": "code",
      "metadata": {
        "colab": {
          "base_uri": "https://localhost:8080/",
          "height": 112
        },
        "id": "WvKfB7JXkXTw",
        "outputId": "32c1eb0c-e599-48e0-e7af-d35e29f69be5"
      },
      "source": [
        "# с шаблонами\n",
        "evaluate(dataset.bert_4.apply(filter_kw), dataset.target)"
      ],
      "execution_count": 726,
      "outputs": [
        {
          "output_type": "execute_result",
          "data": {
            "text/html": [
              "<div>\n",
              "<style scoped>\n",
              "    .dataframe tbody tr th:only-of-type {\n",
              "        vertical-align: middle;\n",
              "    }\n",
              "\n",
              "    .dataframe tbody tr th {\n",
              "        vertical-align: top;\n",
              "    }\n",
              "\n",
              "    .dataframe thead th {\n",
              "        text-align: right;\n",
              "    }\n",
              "</style>\n",
              "<table border=\"1\" class=\"dataframe\">\n",
              "  <thead>\n",
              "    <tr style=\"text-align: right;\">\n",
              "      <th></th>\n",
              "      <th>precision</th>\n",
              "      <th>recall</th>\n",
              "      <th>f1</th>\n",
              "    </tr>\n",
              "  </thead>\n",
              "  <tbody>\n",
              "    <tr>\n",
              "      <th>macro</th>\n",
              "      <td>0.194549</td>\n",
              "      <td>0.176423</td>\n",
              "      <td>0.185043</td>\n",
              "    </tr>\n",
              "    <tr>\n",
              "      <th>micro</th>\n",
              "      <td>0.187050</td>\n",
              "      <td>0.161491</td>\n",
              "      <td>0.173333</td>\n",
              "    </tr>\n",
              "  </tbody>\n",
              "</table>\n",
              "</div>"
            ],
            "text/plain": [
              "       precision    recall        f1\n",
              "macro   0.194549  0.176423  0.185043\n",
              "micro   0.187050  0.161491  0.173333"
            ]
          },
          "metadata": {},
          "execution_count": 726
        }
      ]
    },
    {
      "cell_type": "code",
      "metadata": {
        "colab": {
          "base_uri": "https://localhost:8080/",
          "height": 112
        },
        "id": "nutqyjRFkXFC",
        "outputId": "bde87f05-e097-4827-dd9f-1a48a848f8b6"
      },
      "source": [
        "# без шаблонов\n",
        "evaluate(dataset.bert_5, dataset.target)"
      ],
      "execution_count": 727,
      "outputs": [
        {
          "output_type": "execute_result",
          "data": {
            "text/html": [
              "<div>\n",
              "<style scoped>\n",
              "    .dataframe tbody tr th:only-of-type {\n",
              "        vertical-align: middle;\n",
              "    }\n",
              "\n",
              "    .dataframe tbody tr th {\n",
              "        vertical-align: top;\n",
              "    }\n",
              "\n",
              "    .dataframe thead th {\n",
              "        text-align: right;\n",
              "    }\n",
              "</style>\n",
              "<table border=\"1\" class=\"dataframe\">\n",
              "  <thead>\n",
              "    <tr style=\"text-align: right;\">\n",
              "      <th></th>\n",
              "      <th>precision</th>\n",
              "      <th>recall</th>\n",
              "      <th>f1</th>\n",
              "    </tr>\n",
              "  </thead>\n",
              "  <tbody>\n",
              "    <tr>\n",
              "      <th>macro</th>\n",
              "      <td>0.018750</td>\n",
              "      <td>0.024306</td>\n",
              "      <td>0.021169</td>\n",
              "    </tr>\n",
              "    <tr>\n",
              "      <th>micro</th>\n",
              "      <td>0.030303</td>\n",
              "      <td>0.024845</td>\n",
              "      <td>0.027304</td>\n",
              "    </tr>\n",
              "  </tbody>\n",
              "</table>\n",
              "</div>"
            ],
            "text/plain": [
              "       precision    recall        f1\n",
              "macro   0.018750  0.024306  0.021169\n",
              "micro   0.030303  0.024845  0.027304"
            ]
          },
          "metadata": {},
          "execution_count": 727
        }
      ]
    },
    {
      "cell_type": "code",
      "metadata": {
        "colab": {
          "base_uri": "https://localhost:8080/",
          "height": 112
        },
        "id": "cvR4MnrUkW0A",
        "outputId": "b555c74c-f4e5-4cb6-8dec-6bc7bef4dba3"
      },
      "source": [
        "# с шаблонами\n",
        "evaluate(dataset.bert_5.apply(filter_kw), dataset.target)"
      ],
      "execution_count": 728,
      "outputs": [
        {
          "output_type": "execute_result",
          "data": {
            "text/html": [
              "<div>\n",
              "<style scoped>\n",
              "    .dataframe tbody tr th:only-of-type {\n",
              "        vertical-align: middle;\n",
              "    }\n",
              "\n",
              "    .dataframe tbody tr th {\n",
              "        vertical-align: top;\n",
              "    }\n",
              "\n",
              "    .dataframe thead th {\n",
              "        text-align: right;\n",
              "    }\n",
              "</style>\n",
              "<table border=\"1\" class=\"dataframe\">\n",
              "  <thead>\n",
              "    <tr style=\"text-align: right;\">\n",
              "      <th></th>\n",
              "      <th>precision</th>\n",
              "      <th>recall</th>\n",
              "      <th>f1</th>\n",
              "    </tr>\n",
              "  </thead>\n",
              "  <tbody>\n",
              "    <tr>\n",
              "      <th>macro</th>\n",
              "      <td>0.029762</td>\n",
              "      <td>0.024306</td>\n",
              "      <td>0.026758</td>\n",
              "    </tr>\n",
              "    <tr>\n",
              "      <th>micro</th>\n",
              "      <td>0.049383</td>\n",
              "      <td>0.024845</td>\n",
              "      <td>0.033058</td>\n",
              "    </tr>\n",
              "  </tbody>\n",
              "</table>\n",
              "</div>"
            ],
            "text/plain": [
              "       precision    recall        f1\n",
              "macro   0.029762  0.024306  0.026758\n",
              "micro   0.049383  0.024845  0.033058"
            ]
          },
          "metadata": {},
          "execution_count": 728
        }
      ]
    },
    {
      "cell_type": "markdown",
      "metadata": {
        "id": "V5YnjnVYlWd3"
      },
      "source": [
        "# 6. Выводы и ошибки автоматического выделения:\n",
        "\n",
        "### 1. О методах:\n",
        "\n",
        "- Лучше всего с задачей в такой постановке справляется **TF-IDF**, что логично, учитывая, что такой алгоритм выдедения ключевых слов аналогичен ручному их выделению: простому записыванию самых частотных слов => и вывод **TF-IDF** наиболее похож на написанный вручную таргетный список слов, особенно с применением фильтрации по шаблонам\n",
        "\n",
        "- Затем следует алгоритм **TextRank**, хотя качество алгоритма сильно хуже, чем у TF-IDF, это как кажется можно объяснить используемыми метриками: точность, полнота и f-мера -- метрики каечства классификации, и поэтому не учитывают ранжирование ответов, в то время как алгоритм **TextRank** все же предназначен для ранжирования, а значит его работу более корректно оценивать при помощю метрик ранжирования (т.е. например `precision@k`, `recall@k`, `f1@k`)\n",
        "\n",
        "- Хуже всего с задачей справляется **BERT**, причем качество совсем плохое( Но это тоже можно объяснить немного странной работой алгоритма (в частности с `ngram_range`), что пришлось решать костылем => вывод не совсем точный (об этом в пункте 2)\n",
        "\n",
        "### 2. Качественная оценка:  \n",
        "Пункт 0: фильтрация по шаблонам помогает улучшить качество еа всех методах (хоть и незначительно), потому что алгоритмы выделяют сочетания слов, опираясь на частотность, а не смысл и логику, отчего получаются странные сочетания (см. ниже)\n",
        "\n",
        "\n",
        "**TF-IDF** в целом работает нормально, если смотреть на точность, что говорит о том, что он выделяет в целом логичные ключевые слова, однако полноста и f-мера желают лучшего, кажется, стоит посмотреть на порог вхождения ключевого слова в финальный список, в целом видно, что алгоритм выделяет намного меньше ключевых слов, чем, наверное, хотелось бы. Это, кмк, в том числе связано с тем, что в нашем случае корпус документов, на котором мы обучали наш векторайзер, очень маленький, поэтому некоторые слова получают довольно низкие скоры. Так что тут надо посмотреть на больший корпус текстов, чтобы понять, что поменять.\n",
        "\n",
        "Но **TF-IDF**, очевидно, выделяет наиболее похожие на выделенные человеком ключевые слова, и если посмотреть на вывод, то увидим это:"
      ]
    },
    {
      "cell_type": "code",
      "metadata": {
        "colab": {
          "base_uri": "https://localhost:8080/"
        },
        "id": "T_QC-IYtljR_",
        "outputId": "58ef4d2d-e538-48f1-cdfd-35f11c9d39dd"
      },
      "source": [
        "print('TARGET:', dataset.target[0])\n",
        "print('PRED:', dataset.tfidf_1[0])"
      ],
      "execution_count": 729,
      "outputs": [
        {
          "output_type": "stream",
          "name": "stdout",
          "text": [
            "TARGET: {'grams', 'syrup', 'energy bar', 'protein', 'bars', 'contain', 'bar', 'food', 'nutrition', 'snacks', 'sugars', 'calories', 'fat', 'saturated', 'healthy', 'energy', 'saturated fats'}\n",
            "PRED: {'grams', 'bars', 'protein', 'contain', 'bar', 'nutrition', 'energy bars', 'fat', 'saturated', 'saturated fat', 'energy'}\n"
          ]
        }
      ]
    },
    {
      "cell_type": "markdown",
      "metadata": {
        "id": "ncAHJV-Ap0Uz"
      },
      "source": [
        "**TextRank** выделяет больше слов, которые мне кажутся не совсем ключевыми: так в тексте 0 говорится про `energy bars`, в то время как алгоритм не выдает ни самого словосочетания, ни `energy`, ни `bars`, зато выделяет `rice syrup`, `story highlights` и другие слова и сочетания, не являющиеся самыми важными для описания текста.\n",
        "\n",
        "Не очень понятно, как это решать, поскольку эти результаты в целом кажутся странными, учитывая, что алгоритм работает на совтречаемости слов, а выделенные слова не очень частотные сами по себе (во всяком случае, как показалось мне), может быть проблема в конкретно этой имплементации.."
      ]
    },
    {
      "cell_type": "code",
      "metadata": {
        "colab": {
          "base_uri": "https://localhost:8080/"
        },
        "id": "vBH8tc2Jn6pz",
        "outputId": "3db56926-d623-43b7-e6e4-64d27f457ce2"
      },
      "source": [
        "print('TARGET:', dataset.target[0])\n",
        "print('PRED:', dataset.textrank[0])\n",
        "\n",
        "print()\n",
        "print(dataset.SUMMARY[0])"
      ],
      "execution_count": 730,
      "outputs": [
        {
          "output_type": "stream",
          "name": "stdout",
          "text": [
            "TARGET: {'grams', 'syrup', 'energy bar', 'protein', 'bars', 'contain', 'bar', 'food', 'nutrition', 'snacks', 'sugars', 'calories', 'fat', 'saturated', 'healthy', 'energy', 'saturated fats'}\n",
            "PRED: {'satisfying', 'meals', 'created', 'rice syrup', 'story highlights', 'convenient source', 'meal', 'satisfy', 'equal', 'replacement aim'}\n",
            "\n",
            "Story highlights Don't be fooled by the word \"energy\"Some energy bars contain as much saturated fat as a Snickers bar(CNN) Energy bars are a convenient source of nutrition and come in a wide variety of flavors to satisfy different palates.\n",
            "But, like many foods in a specific category, not all energy bars are created equal.\n",
            "For example, some bars covered in chocolate contain as much saturated fat as a Snickers bar; others contain almost as much sugar.\n",
            "Energy bars containing mostly fruit and nuts can serve as satisfying snacks.\n",
            "In general, try to aim for bars with less than 3 grams of saturated fat and at least 4 grams of fiber.\n"
          ]
        }
      ]
    },
    {
      "cell_type": "markdown",
      "metadata": {
        "id": "SPx-9M35sEIe"
      },
      "source": [
        "**BERT** в отличие от остальных методов опирается не на статистику, а семантику текстов: конкретно эта имплементация сначала подбирает кандидаты через CountVectorizer, а затем ранжирует слова по косинусной близости вектора кандидата и вектора текста. Это, как мне кажется, и является слабостью алгоритма: он предпочитает выделять наиболее длинные ключевые фразы как более похожие и, как следствие, более информативные.\n",
        "\n",
        "Это самый главный минус выделения клбчевых слов при помощи берта (таким способом), мне кажется, для выделения ключевых слов удачнее было бы смотреть на матрицы внимания, которые по сути и выделяют самые важные слова в тексте, только надо понять, как аггрегировать информацию: брать за ключевые те слова к которым attend больше всего токенов (с самым большим весом) или еще как-то.\n",
        "\n",
        "\\+ из-за костыля с перебором `ngram_range`, чтобы получить хоть какие-то однословные ключевые фразы, выдается очень много схожих сочетаний: `bars`, `energy bars`, `energy bars containing`, `nutrition energy bars` и тд, что тоже неидеально\n",
        "\n",
        "При этом получается, что выделенные фразы не всегда логичные, и представляют не то чтобы связные куски текста, например `bars less grams`, `energy bars convinient` и тд."
      ]
    },
    {
      "cell_type": "code",
      "metadata": {
        "colab": {
          "base_uri": "https://localhost:8080/"
        },
        "id": "AsctvzCOv0HJ",
        "outputId": "78ad4ee6-b572-4563-ccc1-f8e53b7f9b30"
      },
      "source": [
        "print('TARGET:', dataset.target[0])\n",
        "print('PRED:', dataset.bert_4[0])"
      ],
      "execution_count": 687,
      "outputs": [
        {
          "output_type": "stream",
          "name": "stdout",
          "text": [
            "TARGET: {'grams', 'syrup', 'energy bar', 'protein', 'bars', 'contain', 'bar', 'food', 'nutrition', 'snacks', 'sugars', 'calories', 'fat', 'saturated', 'healthy', 'energy', 'saturated fats'}\n",
            "PRED: {'calories bars consumed', 'nutrition', 'snacks', 'energy bars', 'energy bars containing', 'energy bars contain', 'sugar granola bars', 'bar protein carbohydrates', 'candy bar', 'calories bars', 'bars ingredients', 'afford calories bars', 'bars contain', 'bars', 'bar', 'bars consumed', 'nutritional', 'nutrition energy', 'bar protein', 'meals snacks bar', 'bars less grams', 'nutrition energy bars', 'granola bars', 'energy bars convenient', 'snacks bar'}\n"
          ]
        }
      ]
    }
  ]
}
